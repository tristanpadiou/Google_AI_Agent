{
 "cells": [
  {
   "cell_type": "code",
   "execution_count": null,
   "metadata": {},
   "outputs": [],
   "source": [
    "from token_creator import get_creds\n",
    "get_creds()"
   ]
  },
  {
   "cell_type": "code",
   "execution_count": null,
   "metadata": {},
   "outputs": [],
   "source": [
    "from gmail_agent import gmail_agent\n",
    "from calendar_agent import Calendar_agent\n",
    "from maps_agent import maps_agent\n",
    "\n",
    "from langchain_google_genai import ChatGoogleGenerativeAI\n",
    "from langchain.tools import tool\n",
    "from langgraph.graph import StateGraph, START, END\n",
    "from langgraph.graph.message import add_messages\n",
    "from langgraph.prebuilt import ToolNode, tools_condition,InjectedState\n",
    "from langchain_core.messages import (\n",
    "    HumanMessage,\n",
    "    ToolMessage,\n",
    "    \n",
    ")\n",
    "from langgraph.types import Command\n",
    "from langgraph.checkpoint.memory import MemorySaver\n",
    "from langchain_core.tools.base import InjectedToolCallId\n",
    "\n",
    "\n",
    "from typing_extensions import TypedDict\n",
    "from typing import Annotated\n",
    "\n",
    "import os\n",
    "from dotenv import load_dotenv \n",
    "\n",
    "#get graph visuals\n",
    "from IPython.display import Image, display\n",
    "from langchain_core.runnables.graph import MermaidDrawMethod\n",
    "import os\n",
    "\n",
    "import gradio as gr\n"
   ]
  },
  {
   "cell_type": "code",
   "execution_count": 2,
   "metadata": {},
   "outputs": [],
   "source": [
    "load_dotenv()\n",
    "GOOGLE_API_KEY=os.getenv('google_api_key')"
   ]
  },
  {
   "cell_type": "code",
   "execution_count": 3,
   "metadata": {},
   "outputs": [],
   "source": [
    "GEMINI_MODEL='gemini-2.0-flash'\n",
    "llm = ChatGoogleGenerativeAI(google_api_key=GOOGLE_API_KEY, model=GEMINI_MODEL, temperature=0.3)"
   ]
  },
  {
   "cell_type": "code",
   "execution_count": 4,
   "metadata": {},
   "outputs": [],
   "source": [
    "mail_agent=gmail_agent(llm)\n",
    "calendar_agent=Calendar_agent(llm)\n",
    "maps_agent=maps_agent(llm)"
   ]
  },
  {
   "cell_type": "code",
   "execution_count": 5,
   "metadata": {},
   "outputs": [],
   "source": [
    "class State(TypedDict):\n",
    "    messages: Annotated[list, add_messages]"
   ]
  },
  {
   "cell_type": "code",
   "execution_count": 7,
   "metadata": {},
   "outputs": [],
   "source": [
    "@tool\n",
    "def maps_manager(query:str):\n",
    "    \"\"\"tool to use to answer maps and location queries\n",
    "    this tool can:\n",
    "    find locations such as restorants, bowling alleys, museums and others\n",
    "    display those locations's infos (eg. adress, name, url, price range)\n",
    "    args: query - pass the email related queries directly here\n",
    "    \"\"\"\n",
    "    response=maps_agent.chat(str(query))\n",
    "    return response"
   ]
  },
  {
   "cell_type": "code",
   "execution_count": 8,
   "metadata": {},
   "outputs": [],
   "source": [
    "@tool\n",
    "def mail_manager(query:str):\n",
    "    \"\"\"Tool to use to answer any email related queries\n",
    "    this tool can:\n",
    "    refresh the inbox\n",
    "    show the inbox\n",
    "    get a specific mail's content to display\n",
    "    create a draft of a new mail\n",
    "    show the current draft\n",
    "    send the draft\n",
    "    list all the drafts\n",
    "    args: query - pass the email related queries directly here\n",
    "    \"\"\"\n",
    "    response=mail_agent.chat(str(query))\n",
    "    return response"
   ]
  },
  {
   "cell_type": "code",
   "execution_count": 9,
   "metadata": {},
   "outputs": [],
   "source": [
    "@tool\n",
    "def calendar_manager(query:str):\n",
    "    \"\"\"tool to use to answere any calendar or schedule related queries\n",
    "    this tool can:\n",
    "    create recuring events\n",
    "    create quick events\n",
    "    refresh the calendar\n",
    "    show the calendar\n",
    "    args: query - pass the calendar related queries directly here\n",
    "    \"\"\"\n",
    "    response=calendar_agent.chat(str(query))\n",
    "    return response"
   ]
  },
  {
   "cell_type": "code",
   "execution_count": 14,
   "metadata": {},
   "outputs": [],
   "source": [
    "class google_agent:\n",
    "    def __init__(self,llm: any):\n",
    "        self.agent=self._setup(llm)\n",
    "    def _setup(self,llm):\n",
    "   \n",
    "        langgraph_tools=[mail_manager,calendar_manager,maps_manager]\n",
    "\n",
    "\n",
    "\n",
    "        graph_builder = StateGraph(State)\n",
    "\n",
    "        # Modification: tell the LLM which tools it can call\n",
    "        llm_with_tools = llm.bind_tools(langgraph_tools)\n",
    "        tool_node = ToolNode(tools=langgraph_tools)\n",
    "        def chatbot(state: State):\n",
    "            \"\"\" travel assistant that answers user questions about their trip.\n",
    "            Depending on the request, leverage which tools to use if necessary.\"\"\"\n",
    "            return {\"messages\": [llm_with_tools.invoke(state['messages'])]}\n",
    "\n",
    "        graph_builder.add_node(\"chatbot\", chatbot)\n",
    "\n",
    "        \n",
    "        graph_builder.add_node(\"tools\", tool_node)\n",
    "        # Any time a tool is called, we return to the chatbot to decide the next step\n",
    "        graph_builder.add_edge(START,'chatbot')\n",
    "        graph_builder.add_edge(\"tools\", \"chatbot\")\n",
    "        graph_builder.add_conditional_edges(\n",
    "            \"chatbot\",\n",
    "            tools_condition,\n",
    "        )\n",
    "        memory=MemorySaver()\n",
    "        graph=graph_builder.compile(checkpointer=memory)\n",
    "        return graph\n",
    "        \n",
    "\n",
    "    def display_graph(self):\n",
    "        return display(\n",
    "                        Image(\n",
    "                                self.agent.get_graph().draw_mermaid_png(\n",
    "                                    draw_method=MermaidDrawMethod.API,\n",
    "                                )\n",
    "                            )\n",
    "                        )\n",
    "    def stream(self,input:str):\n",
    "        config = {\"configurable\": {\"thread_id\": \"1\"}}\n",
    "        input_message = HumanMessage(content=input)\n",
    "        for event in self.agent.stream({\"messages\": [input_message]}, config, stream_mode=\"values\"):\n",
    "            event[\"messages\"][-1].pretty_print()\n",
    "\n",
    "    def chat(self,input:str):\n",
    "        config = {\"configurable\": {\"thread_id\": \"1\"}}\n",
    "        response=self.agent.invoke({'messages':HumanMessage(content=str(input))},config)\n",
    "        return response['messages'][-1].content\n",
    "    \n",
    "    def get_state(self, state_val:str):\n",
    "        config = {\"configurable\": {\"thread_id\": \"1\"}}\n",
    "        return self.agent.get_state(config).values[state_val]"
   ]
  },
  {
   "cell_type": "code",
   "execution_count": 15,
   "metadata": {},
   "outputs": [],
   "source": [
    "agent=google_agent(llm)"
   ]
  },
  {
   "cell_type": "code",
   "execution_count": 16,
   "metadata": {},
   "outputs": [
    {
     "name": "stdout",
     "output_type": "stream",
     "text": [
      "================================\u001b[1m Human Message \u001b[0m=================================\n",
      "\n",
      "find cool cocktail bars in east village\n",
      "==================================\u001b[1m Ai Message \u001b[0m==================================\n",
      "Tool Calls:\n",
      "  maps_manager (1d0b7e12-fff3-4f24-9f29-3dc794abae1c)\n",
      " Call ID: 1d0b7e12-fff3-4f24-9f29-3dc794abae1c\n",
      "  Args:\n",
      "    query: cool cocktail bars in east village\n",
      "=================================\u001b[1m Tool Message \u001b[0m=================================\n",
      "Name: maps_manager\n",
      "\n",
      "Here are some cool cocktail bars in the East Village with their addresses and Google Maps URLs:\n",
      "\n",
      "*   **Amor y Amargo**: 443 E 6th St, New York, NY 10009, USA ([https://maps.google.com/?cid=6100183703284545489](https://maps.google.com/?cid=6100183703284545489))\n",
      "*   **96 Tears**: 110 Avenue A, New York, NY 10009, USA ([https://maps.google.com/?cid=14534992369157057087](https://maps.google.com/?cid=14534992369157057087))\n",
      "*   **Death & Co East Village**: 433 E 6th St, New York, NY 10009, USA ([https://maps.google.com/?cid=17498302793866458947](https://maps.google.com/?cid=17498302793866458947))\n",
      "*   **Hard to Explain**: 224 E 10th St, New York, NY 10003, USA ([https://maps.google.com/?cid=10270788717992341006](https://maps.google.com/?cid=10270788717992341006))\n",
      "*   **Holiday Cocktail Lounge**: 75 St Marks Pl, New York, NY 10003, USA ([https://maps.google.com/?cid=1187009220976535241](https://maps.google.com/?cid=1187009220976535241))\n",
      "*   **Please Don't Tell**: 113 St Marks Pl, New York, NY 10009, USA ([https://maps.google.com/?cid=11319416621133992007](https://maps.google.com/?cid=11319416621133992007))\n",
      "*   **HiLot**: 102 Loisaida Ave, New York, NY 10009, USA ([https://maps.google.com/?cid=4156730006466529172](https://maps.google.com/?cid=4156730006466529172))\n",
      "*   **Accidental Bar**: 98 Loisaida Ave, New York, NY 10009, USA ([https://maps.google.com/?cid=7582956954985181325](https://maps.google.com/?cid=7582956954985181325))\n",
      "*   **Bateman's**: 308 E 6th St, New York, NY 10003, USA ([https://maps.google.com/?cid=12702800503894784310](https://maps.google.com/?cid=12702800503894784310))\n",
      "*   **Mister Paradise**: 105 1st Ave., New York, NY 10009, USA ([https://maps.google.com/?cid=8155293560886757674](https://maps.google.com/?cid=8155293560886757674))\n",
      "*   **Hi-Note**: 188 Avenue B, New York, NY 10009, USA ([https://maps.google.com/?cid=7836655201263912058](https://maps.google.com/?cid=7836655201263912058))\n",
      "*   **Two Perrys**: 127 Loisaida Ave, New York, NY 10009, USA ([https://maps.google.com/?cid=14422540552825273052](https://maps.google.com/?cid=14422540552825273052))\n",
      "*   **Paradise Lost**: 100 2nd Ave, New York, NY 10003, USA ([https://maps.google.com/?cid=14191627324115130977](https://maps.google.com/?cid=14191627324115130977))\n",
      "*   **Stickett Inn**: 157 1st Ave., New York, NY 10003, USA ([https://maps.google.com/?cid=8310617157005321944](https://maps.google.com/?cid=8310617157005321944))\n",
      "*   **The Last Resort**: 432 E 13th St, New York, NY 10009, USA ([https://maps.google.com/?cid=2548729957584159962](https://maps.google.com/?cid=2548729957584159962))\n",
      "*   **The Headless Widow**: 99 1st Ave., New York, NY 10003, USA ([https://maps.google.com/?cid=9412060206196740038](https://maps.google.com/?cid=9412060206196740038))\n",
      "*   **Jelas**: 17 E 13th St, New York, NY 10003, USA ([https://maps.google.com/?cid=2570969617607485650](https://maps.google.com/?cid=2570969617607485650))\n",
      "*   **The Summit Bar & Cafe**: 133 Loisaida Ave, New York, NY 10009, USA ([https://maps.google.com/?cid=2513092529242645228](https://maps.google.com/?cid=2513092529242645228))\n",
      "*   **Juke Bar**: 196 2nd Ave, New York, NY 10003, USA ([https://maps.google.com/?cid=8857118640592202663](https://maps.google.com/?cid=8857118640592202663))\n",
      "*   **Hidden Tiger**: 13th St & 14th St, 212 Avenue A, New York, NY 10009, USA ([https://maps.google.com/?cid=6100836054820059690](https://maps.google.com/?cid=6100836054820059690))\n",
      "==================================\u001b[1m Ai Message \u001b[0m==================================\n",
      "\n",
      "Here are some cool cocktail bars in the East Village with their addresses and Google Maps URLs:\n",
      "\n",
      "*   **Amor y Amargo**: 443 E 6th St, New York, NY 10009, USA ([https://maps.google.com/?cid=6100183703284545489](https://maps.google.com/?cid=6100183703284545489))\n",
      "*   **96 Tears**: 110 Avenue A, New York, NY 10009, USA ([https://maps.google.com/?cid=14534992369157057087](https://maps.google.com/?cid=14534992369157057087))\n",
      "*   **Death & Co East Village**: 433 E 6th St, New York, NY 10009, USA ([https://maps.google.com/?cid=17498302793866458947](https://maps.google.com/?cid=17498302793866458947))\n",
      "*   **Hard to Explain**: 224 E 10th St, New York, NY 10003, USA ([https://maps.google.com/?cid=10270788717992341006](https://maps.google.com/?cid=10270788717992341006))\n",
      "*   **Holiday Cocktail Lounge**: 75 St Marks Pl, New York, NY 10003, USA ([https://maps.google.com/?cid=1187009220976535241](https://maps.google.com/?cid=1187009220976535241))\n",
      "*   **Please Don't Tell**: 113 St Marks Pl, New York, NY 10009, USA ([https://maps.google.com/?cid=11319416621133992007](https://maps.google.com/?cid=11319416621133992007))\n",
      "*   **HiLot**: 102 Loisaida Ave, New York, NY 10009, USA ([https://maps.google.com/?cid=4156730006466529172](https://maps.google.com/?cid=4156730006466529172))\n",
      "*   **Accidental Bar**: 98 Loisaida Ave, New York, NY 10009, USA ([https://maps.google.com/?cid=7582956954985181325](https://maps.google.com/?cid=7582956954985181325))\n",
      "*   **Bateman's**: 308 E 6th St, New York, NY 10003, USA ([https://maps.google.com/?cid=12702800503894784310](https://maps.google.com/?cid=12702800503894784310))\n",
      "*   **Mister Paradise**: 105 1st Ave., New York, NY 10009, USA ([https://maps.google.com/?cid=8155293560886757674](https://maps.google.com/?cid=8155293560886757674))\n",
      "*   **Hi-Note**: 188 Avenue B, New York, NY 10009, USA ([https://maps.google.com/?cid=7836655201263912058](https://maps.google.com/?cid=7836655201263912058))\n",
      "*   **Two Perrys**: 127 Loisaida Ave, New York, NY 10009, USA ([https://maps.google.com/?cid=14422540552825273052](https://maps.google.com/?cid=14422540552825273052))\n",
      "*   **Paradise Lost**: 100 2nd Ave, New York, NY 10003, USA ([https://maps.google.com/?cid=14191627324115130977](https://maps.google.com/?cid=14191627324115130977))\n",
      "*   **Stickett Inn**: 157 1st Ave., New York, NY 10003, USA ([https://maps.google.com/?cid=8310617157005321944](https://maps.google.com/?cid=8310617157005321944))\n",
      "*   **The Last Resort**: 432 E 13th St, New York, NY 10009, USA ([https://maps.google.com/?cid=2548729957584159962](https://maps.google.com/?cid=2548729957584159962))\n",
      "*   **The Headless Widow**: 99 1st Ave., New York, NY 10003, USA ([https://maps.google.com/?cid=9412060206196740038](https://maps.google.com/?cid=9412060206196740038))\n",
      "*   **Jelas**: 17 E 13th St, New York, NY 10003, USA ([https://maps.google.com/?cid=2570969617607485650](https://maps.google.com/?cid=2570969617607485650))\n",
      "*   **The Summit Bar & Cafe**: 133 Loisaida Ave, New York, NY 10009, USA ([https://maps.google.com/?cid=2513092529242645228](https://maps.google.com/?cid=2513092529242645228))\n",
      "*   **Juke Bar**: 196 2nd Ave, New York, NY 10003, USA ([https://maps.google.com/?cid=8857118640592202663](https://maps.google.com/?cid=8857118640592202663))\n",
      "*   **Hidden Tiger**: 13th St & 14th St, 212 Avenue A, New York, NY 10009, USA ([https://maps.google.com/?cid=6100836054820059690](https://maps.google.com/?cid=6100836054820059690))\n"
     ]
    }
   ],
   "source": [
    "agent.stream('find cool cocktail bars in east village')"
   ]
  },
  {
   "cell_type": "code",
   "execution_count": null,
   "metadata": {},
   "outputs": [],
   "source": [
    "mail_agent.get_state('messages')"
   ]
  },
  {
   "cell_type": "code",
   "execution_count": 17,
   "metadata": {},
   "outputs": [],
   "source": [
    "def chatbot(input,history):\n",
    "    response=agent.chat(input)\n",
    "    return response\n"
   ]
  },
  {
   "cell_type": "code",
   "execution_count": 18,
   "metadata": {},
   "outputs": [
    {
     "name": "stdout",
     "output_type": "stream",
     "text": [
      "* Running on local URL:  http://127.0.0.1:7860\n",
      "\n",
      "To create a public link, set `share=True` in `launch()`.\n"
     ]
    },
    {
     "data": {
      "text/html": [
       "<div><iframe src=\"http://127.0.0.1:7860/\" width=\"100%\" height=\"500\" allow=\"autoplay; camera; microphone; clipboard-read; clipboard-write;\" frameborder=\"0\" allowfullscreen></iframe></div>"
      ],
      "text/plain": [
       "<IPython.core.display.HTML object>"
      ]
     },
     "metadata": {},
     "output_type": "display_data"
    }
   ],
   "source": [
    "demo = gr.ChatInterface(chatbot, type=\"messages\", autofocus=False)\n",
    "\n",
    "if __name__ == \"__main__\":\n",
    "    demo.launch()"
   ]
  }
 ],
 "metadata": {
  "kernelspec": {
   "display_name": ".venv",
   "language": "python",
   "name": "python3"
  },
  "language_info": {
   "codemirror_mode": {
    "name": "ipython",
    "version": 3
   },
   "file_extension": ".py",
   "mimetype": "text/x-python",
   "name": "python",
   "nbconvert_exporter": "python",
   "pygments_lexer": "ipython3",
   "version": "3.13.2"
  }
 },
 "nbformat": 4,
 "nbformat_minor": 2
}
