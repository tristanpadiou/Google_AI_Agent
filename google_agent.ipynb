{
 "cells": [
  {
   "cell_type": "code",
   "execution_count": 1,
   "metadata": {},
   "outputs": [
    {
     "data": {
      "text/plain": [
       "' token available '"
      ]
     },
     "execution_count": 1,
     "metadata": {},
     "output_type": "execute_result"
    }
   ],
   "source": [
    "from token_creator import get_creds\n",
    "get_creds()"
   ]
  },
  {
   "cell_type": "code",
   "execution_count": 2,
   "metadata": {},
   "outputs": [
    {
     "name": "stderr",
     "output_type": "stream",
     "text": [
      "c:\\Users\\padio\\Desktop\\important\\AI portfolio\\Google_AI_Agent\\.venv\\Lib\\site-packages\\tqdm\\auto.py:21: TqdmWarning: IProgress not found. Please update jupyter and ipywidgets. See https://ipywidgets.readthedocs.io/en/stable/user_install.html\n",
      "  from .autonotebook import tqdm as notebook_tqdm\n"
     ]
    }
   ],
   "source": [
    "from gmail_agent import Gmail_agent\n",
    "from calendar_agent import Calendar_agent\n",
    "from maps_agent import Maps_agent\n",
    "from contacts_agent import Contacts_agent\n",
    "from tasks_agent import Tasks_agent\n",
    "from langchain_google_genai import ChatGoogleGenerativeAI\n",
    "from langchain.tools import tool,Tool\n",
    "from langgraph.graph import StateGraph, START, END\n",
    "from langgraph.graph.message import add_messages\n",
    "from langgraph.prebuilt import ToolNode, tools_condition,InjectedState\n",
    "from langchain_core.messages import (\n",
    "    HumanMessage,\n",
    "    ToolMessage,\n",
    "    \n",
    ")\n",
    "from langgraph.types import Command\n",
    "from langgraph.checkpoint.memory import MemorySaver\n",
    "from langgraph.store.memory import InMemoryStore\n",
    "from langchain_core.tools.base import InjectedToolCallId\n",
    "\n",
    "\n",
    "from typing_extensions import TypedDict\n",
    "from typing import Annotated\n",
    "\n",
    "import os\n",
    "from dotenv import load_dotenv \n",
    "\n",
    "#get graph visuals\n",
    "from IPython.display import Image, display\n",
    "from langchain_core.runnables.graph import MermaidDrawMethod\n",
    "import os\n",
    "import requests\n",
    "import gradio as gr\n"
   ]
  },
  {
   "cell_type": "code",
   "execution_count": 3,
   "metadata": {},
   "outputs": [],
   "source": [
    "load_dotenv()\n",
    "GOOGLE_API_KEY=os.getenv('google_api_key')\n",
    "pse=os.getenv('pse')"
   ]
  },
  {
   "cell_type": "code",
   "execution_count": 4,
   "metadata": {},
   "outputs": [],
   "source": [
    "GEMINI_MODEL='gemini-2.0-flash'\n",
    "llm = ChatGoogleGenerativeAI(google_api_key=GOOGLE_API_KEY, model=GEMINI_MODEL, temperature=0.3)"
   ]
  },
  {
   "cell_type": "code",
   "execution_count": 5,
   "metadata": {},
   "outputs": [],
   "source": [
    "mail_agent=Gmail_agent(llm)\n",
    "calendar_agent=Calendar_agent(llm)\n",
    "maps_agent=Maps_agent(llm)\n",
    "tasks_agent=Tasks_agent(llm)\n",
    "contacts_agent=Contacts_agent(llm)"
   ]
  },
  {
   "cell_type": "code",
   "execution_count": 6,
   "metadata": {},
   "outputs": [],
   "source": [
    "class State(TypedDict):\n",
    "    messages: Annotated[list, add_messages]"
   ]
  },
  {
   "cell_type": "code",
   "execution_count": 7,
   "metadata": {},
   "outputs": [],
   "source": [
    "store=InMemoryStore()"
   ]
  },
  {
   "cell_type": "code",
   "execution_count": 8,
   "metadata": {},
   "outputs": [],
   "source": [
    "def google_image_search(query: str) -> str:\n",
    "  \"\"\"Search for images using Google Custom Search API\n",
    "  args: query\n",
    "  return: image url\n",
    "  \"\"\"\n",
    "  # Define the API endpoint for Google Custom Search\n",
    "  url = \"https://www.googleapis.com/customsearch/v1\"\n",
    "\n",
    "  params = {\n",
    "      \"q\": query,\n",
    "      \"cx\": pse,\n",
    "      \"key\": GOOGLE_API_KEY,\n",
    "      \"searchType\": \"image\",  # Search for images\n",
    "      \"num\": 1  # Number of results to fetch\n",
    "  }\n",
    "\n",
    "  # Make the request to the Google Custom Search API\n",
    "  response = requests.get(url, params=params)\n",
    "  data = response.json()\n",
    "\n",
    "  # Check if the response contains image results\n",
    "  if 'items' in data:\n",
    "      # Extract the first image result\n",
    "      image_url = data['items'][0]['link']\n",
    "      return image_url\n",
    "  else:\n",
    "      return \"Sorry, no images were found for your query.\"\n",
    "\n",
    "google_image_tool=Tool(name='google_image_tool', func=google_image_search, description='Use this tool to search for images using Google Custom Search API')"
   ]
  },
  {
   "cell_type": "code",
   "execution_count": 9,
   "metadata": {},
   "outputs": [],
   "source": [
    "@tool \n",
    "def contacts_manager(query: str):\n",
    "    \"\"\"use this tool to answer queries about a contact or a person\n",
    "    this tool can:\n",
    "    list my contacts\n",
    "    get a contact's details\n",
    "    delete a contact\n",
    "    create a contact\n",
    "    modify a contact\n",
    "    args: query - pass the entire contacts related queries directly here\n",
    "    \"\"\"\n",
    "    response=contacts_agent.chat(str(query))\n",
    "    return response"
   ]
  },
  {
   "cell_type": "code",
   "execution_count": 10,
   "metadata": {},
   "outputs": [],
   "source": [
    "@tool\n",
    "def tasks_manager(query:str):\n",
    "    \"\"\"use this tool to answer task related queries\n",
    "    this tool can:\n",
    "    list tasks\n",
    "    create tasks\n",
    "    get task details\n",
    "    complete a task (which also deletes it :) )\n",
    "\n",
    "    args: query - pass the entire tasks related queries directly here\n",
    "    \n",
    "    \"\"\"\n",
    "\n",
    "\n",
    "    response=tasks_agent.chat(str(query))\n",
    "    return response"
   ]
  },
  {
   "cell_type": "code",
   "execution_count": null,
   "metadata": {},
   "outputs": [],
   "source": [
    "@tool\n",
    "def maps_manager(query:str):\n",
    "    \"\"\"tool to use to answer maps and location queries\n",
    "    this tool can:\n",
    "    find locations such as restorants, bowling alleys, museums and others\n",
    "    display those locations's infos (eg. adress, name, url, price range)\n",
    "    args: query - pass the maps or loc related queries directly here\n",
    "    return: locations with urls\n",
    "    \"\"\"\n",
    "    response=maps_agent.chat(str(query))\n",
    "    return response"
   ]
  },
  {
   "cell_type": "code",
   "execution_count": 12,
   "metadata": {},
   "outputs": [],
   "source": [
    "@tool\n",
    "def mail_manager(query:str):\n",
    "    \"\"\"Tool to use to answer any email related queries\n",
    "    this tool can:\n",
    "    get new mail\n",
    "    show the inbox\n",
    "    get a specific mail's content to display\n",
    "    create a draft of a new mail\n",
    "    create an email\n",
    "    verify the email content\n",
    "    send the email\n",
    "    list all the drafts\n",
    "    args: query - pass the email related queries directly here\n",
    "    \"\"\"\n",
    "    response=mail_agent.chat(str(query))\n",
    "    return response"
   ]
  },
  {
   "cell_type": "code",
   "execution_count": 13,
   "metadata": {},
   "outputs": [],
   "source": [
    "@tool\n",
    "def calendar_manager(query:str):\n",
    "    \"\"\"tool to use to answere any calendar or schedule related queries\n",
    "    this tool can:\n",
    "    create recuring events\n",
    "    create quick events\n",
    "    refresh the calendar\n",
    "    show the calendar\n",
    "    args: query - pass the entire calendar related queries directly here\n",
    "    \"\"\"\n",
    "    response=calendar_agent.chat(str(query))\n",
    "    return response"
   ]
  },
  {
   "cell_type": "code",
   "execution_count": 14,
   "metadata": {},
   "outputs": [],
   "source": [
    "class google_agent:\n",
    "    def __init__(self,llm: any):\n",
    "        self.agent=self._setup(llm)\n",
    "    def _setup(self,llm):\n",
    "   \n",
    "        langgraph_tools=[mail_manager,calendar_manager,maps_manager, tasks_manager, contacts_manager, google_image_tool]\n",
    "\n",
    "\n",
    "\n",
    "        graph_builder = StateGraph(State)\n",
    "\n",
    "        # Modification: tell the LLM which tools it can call\n",
    "        llm_with_tools = llm.bind_tools(langgraph_tools)\n",
    "        tool_node = ToolNode(tools=langgraph_tools)\n",
    "        def chatbot(state: State):\n",
    "            \"\"\" google ai agent, that can interact with contacts, emails, maps, tasks and calendar.\n",
    "            Depending on the request, leverage which tools to use if necessary.\"\"\"\n",
    "            return {\"messages\": [llm_with_tools.invoke(state['messages'])]}\n",
    "\n",
    "        graph_builder.add_node(\"chatbot\", chatbot)\n",
    "\n",
    "        \n",
    "        graph_builder.add_node(\"tools\", tool_node)\n",
    "        # Any time a tool is called, we return to the chatbot to decide the next step\n",
    "        graph_builder.add_edge(START,'chatbot')\n",
    "        graph_builder.add_edge(\"tools\", \"chatbot\")\n",
    "        graph_builder.add_conditional_edges(\n",
    "            \"chatbot\",\n",
    "            tools_condition,\n",
    "        )\n",
    "        memory=MemorySaver()\n",
    "        graph=graph_builder.compile(checkpointer=memory,store=store)\n",
    "        return graph\n",
    "        \n",
    "\n",
    "    def display_graph(self):\n",
    "        return display(\n",
    "                        Image(\n",
    "                                self.agent.get_graph().draw_mermaid_png(\n",
    "                                    draw_method=MermaidDrawMethod.API,\n",
    "                                )\n",
    "                            )\n",
    "                        )\n",
    "    def stream(self,input:str):\n",
    "        config = {\"configurable\": {\"thread_id\": \"1\"}}\n",
    "        input_message = HumanMessage(content=input)\n",
    "        for event in self.agent.stream({\"messages\": [input_message]}, config, stream_mode=\"values\"):\n",
    "            event[\"messages\"][-1].pretty_print()\n",
    "\n",
    "    def chat(self,input:str):\n",
    "        config = {\"configurable\": {\"thread_id\": \"1\"}}\n",
    "        response=self.agent.invoke({'messages':HumanMessage(content=str(input))},config)\n",
    "        return response['messages'][-1].content\n",
    "    \n",
    "    def get_state(self, state_val:str):\n",
    "        config = {\"configurable\": {\"thread_id\": \"1\"}}\n",
    "        return self.agent.get_state(config).values[state_val]"
   ]
  },
  {
   "cell_type": "code",
   "execution_count": 15,
   "metadata": {},
   "outputs": [],
   "source": [
    "agent=google_agent(llm)"
   ]
  },
  {
   "cell_type": "code",
   "execution_count": 16,
   "metadata": {},
   "outputs": [],
   "source": [
    "def chatbot(input,history):\n",
    "    response=agent.chat(input)\n",
    "    return response\n"
   ]
  },
  {
   "cell_type": "code",
   "execution_count": 17,
   "metadata": {},
   "outputs": [
    {
     "name": "stdout",
     "output_type": "stream",
     "text": [
      "* Running on local URL:  http://127.0.0.1:7860\n",
      "\n",
      "To create a public link, set `share=True` in `launch()`.\n"
     ]
    },
    {
     "data": {
      "text/html": [
       "<div><iframe src=\"http://127.0.0.1:7860/\" width=\"100%\" height=\"500\" allow=\"autoplay; camera; microphone; clipboard-read; clipboard-write;\" frameborder=\"0\" allowfullscreen></iframe></div>"
      ],
      "text/plain": [
       "<IPython.core.display.HTML object>"
      ]
     },
     "metadata": {},
     "output_type": "display_data"
    }
   ],
   "source": [
    "demo = gr.ChatInterface(chatbot, type=\"messages\", autofocus=False)\n",
    "\n",
    "if __name__ == \"__main__\":\n",
    "    demo.launch()"
   ]
  },
  {
   "cell_type": "code",
   "execution_count": 18,
   "metadata": {},
   "outputs": [
    {
     "ename": "KeyError",
     "evalue": "'messages'",
     "output_type": "error",
     "traceback": [
      "\u001b[1;31m---------------------------------------------------------------------------\u001b[0m",
      "\u001b[1;31mKeyError\u001b[0m                                  Traceback (most recent call last)",
      "Cell \u001b[1;32mIn[18], line 1\u001b[0m\n\u001b[1;32m----> 1\u001b[0m \u001b[43mcontacts_agent\u001b[49m\u001b[38;5;241;43m.\u001b[39;49m\u001b[43mget_state\u001b[49m\u001b[43m(\u001b[49m\u001b[38;5;124;43m'\u001b[39;49m\u001b[38;5;124;43mmessages\u001b[39;49m\u001b[38;5;124;43m'\u001b[39;49m\u001b[43m)\u001b[49m\n",
      "File \u001b[1;32mc:\\Users\\padio\\Desktop\\important\\AI portfolio\\Google_AI_Agent\\contacts_agent.py:379\u001b[0m, in \u001b[0;36mContacts_agent.get_state\u001b[1;34m(self, state_val)\u001b[0m\n\u001b[0;32m    377\u001b[0m \u001b[38;5;28;01mdef\u001b[39;00m\u001b[38;5;250m \u001b[39m\u001b[38;5;21mget_state\u001b[39m(\u001b[38;5;28mself\u001b[39m, state_val:\u001b[38;5;28mstr\u001b[39m):\n\u001b[0;32m    378\u001b[0m     config \u001b[38;5;241m=\u001b[39m {\u001b[38;5;124m\"\u001b[39m\u001b[38;5;124mconfigurable\u001b[39m\u001b[38;5;124m\"\u001b[39m: {\u001b[38;5;124m\"\u001b[39m\u001b[38;5;124mthread_id\u001b[39m\u001b[38;5;124m\"\u001b[39m: \u001b[38;5;124m\"\u001b[39m\u001b[38;5;124m1\u001b[39m\u001b[38;5;124m\"\u001b[39m}}\n\u001b[1;32m--> 379\u001b[0m     \u001b[38;5;28;01mreturn\u001b[39;00m \u001b[38;5;28;43mself\u001b[39;49m\u001b[38;5;241;43m.\u001b[39;49m\u001b[43magent\u001b[49m\u001b[38;5;241;43m.\u001b[39;49m\u001b[43mget_state\u001b[49m\u001b[43m(\u001b[49m\u001b[43mconfig\u001b[49m\u001b[43m)\u001b[49m\u001b[38;5;241;43m.\u001b[39;49m\u001b[43mvalues\u001b[49m\u001b[43m[\u001b[49m\u001b[43mstate_val\u001b[49m\u001b[43m]\u001b[49m\n",
      "\u001b[1;31mKeyError\u001b[0m: 'messages'"
     ]
    }
   ],
   "source": [
    "contacts_agent.get_state('messages')"
   ]
  }
 ],
 "metadata": {
  "kernelspec": {
   "display_name": ".venv",
   "language": "python",
   "name": "python3"
  },
  "language_info": {
   "codemirror_mode": {
    "name": "ipython",
    "version": 3
   },
   "file_extension": ".py",
   "mimetype": "text/x-python",
   "name": "python",
   "nbconvert_exporter": "python",
   "pygments_lexer": "ipython3",
   "version": "3.13.2"
  }
 },
 "nbformat": 4,
 "nbformat_minor": 2
}
