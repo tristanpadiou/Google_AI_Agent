{
 "cells": [
  {
   "cell_type": "code",
   "execution_count": 1,
   "metadata": {},
   "outputs": [
    {
     "data": {
      "text/plain": [
       "' token available '"
      ]
     },
     "execution_count": 1,
     "metadata": {},
     "output_type": "execute_result"
    }
   ],
   "source": [
    "from token_creator import get_creds\n",
    "get_creds()"
   ]
  },
  {
   "cell_type": "code",
   "execution_count": 20,
   "metadata": {},
   "outputs": [],
   "source": [
    "from gmail_agent import gmail_agent\n",
    "from calendar_agent import Calendar_agent\n",
    "from maps_agent import maps_agent\n",
    "from contacts_agent import contacts_agent\n",
    "from tasks_agent import tasks_agent\n",
    "from langchain_google_genai import ChatGoogleGenerativeAI\n",
    "from langchain.tools import tool,Tool\n",
    "from langgraph.graph import StateGraph, START, END\n",
    "from langgraph.graph.message import add_messages\n",
    "from langgraph.prebuilt import ToolNode, tools_condition,InjectedState\n",
    "from langchain_core.messages import (\n",
    "    HumanMessage,\n",
    "    ToolMessage,\n",
    "    \n",
    ")\n",
    "from langgraph.types import Command\n",
    "from langgraph.checkpoint.memory import MemorySaver\n",
    "from langgraph.store.memory import InMemoryStore\n",
    "from langchain_core.tools.base import InjectedToolCallId\n",
    "\n",
    "\n",
    "from typing_extensions import TypedDict\n",
    "from typing import Annotated\n",
    "\n",
    "import os\n",
    "from dotenv import load_dotenv \n",
    "\n",
    "#get graph visuals\n",
    "from IPython.display import Image, display\n",
    "from langchain_core.runnables.graph import MermaidDrawMethod\n",
    "import os\n",
    "import requests\n",
    "import gradio as gr\n"
   ]
  },
  {
   "cell_type": "code",
   "execution_count": 3,
   "metadata": {},
   "outputs": [],
   "source": [
    "load_dotenv()\n",
    "GOOGLE_API_KEY=os.getenv('google_api_key')\n",
    "pse=os.getenv('pse')"
   ]
  },
  {
   "cell_type": "code",
   "execution_count": 4,
   "metadata": {},
   "outputs": [],
   "source": [
    "GEMINI_MODEL='gemini-2.0-flash'\n",
    "llm = ChatGoogleGenerativeAI(google_api_key=GOOGLE_API_KEY, model=GEMINI_MODEL, temperature=0.3)"
   ]
  },
  {
   "cell_type": "code",
   "execution_count": 5,
   "metadata": {},
   "outputs": [],
   "source": [
    "mail_agent=gmail_agent(llm)\n",
    "calendar_agent=Calendar_agent(llm)\n",
    "maps_agent=maps_agent(llm)\n",
    "tasks_agent=tasks_agent(llm)\n",
    "contacts_agent=contacts_agent(llm)"
   ]
  },
  {
   "cell_type": "code",
   "execution_count": 6,
   "metadata": {},
   "outputs": [],
   "source": [
    "class State(TypedDict):\n",
    "    messages: Annotated[list, add_messages]"
   ]
  },
  {
   "cell_type": "code",
   "execution_count": 21,
   "metadata": {},
   "outputs": [],
   "source": [
    "store=InMemoryStore()"
   ]
  },
  {
   "cell_type": "code",
   "execution_count": 7,
   "metadata": {},
   "outputs": [],
   "source": [
    "def google_image_search(query: str) -> str:\n",
    "  \"\"\"Search for images using Google Custom Search API\n",
    "  args: query\n",
    "  return: image url\n",
    "  \"\"\"\n",
    "  # Define the API endpoint for Google Custom Search\n",
    "  url = \"https://www.googleapis.com/customsearch/v1\"\n",
    "\n",
    "  params = {\n",
    "      \"q\": query,\n",
    "      \"cx\": pse,\n",
    "      \"key\": GOOGLE_API_KEY,\n",
    "      \"searchType\": \"image\",  # Search for images\n",
    "      \"num\": 1  # Number of results to fetch\n",
    "  }\n",
    "\n",
    "  # Make the request to the Google Custom Search API\n",
    "  response = requests.get(url, params=params)\n",
    "  data = response.json()\n",
    "\n",
    "  # Check if the response contains image results\n",
    "  if 'items' in data:\n",
    "      # Extract the first image result\n",
    "      image_url = data['items'][0]['link']\n",
    "      return image_url\n",
    "  else:\n",
    "      return \"Sorry, no images were found for your query.\"\n",
    "\n",
    "google_image_tool=Tool(name='google_image_tool', func=google_image_search, description='Use this tool to search for images using Google Custom Search API')"
   ]
  },
  {
   "cell_type": "code",
   "execution_count": 10,
   "metadata": {},
   "outputs": [],
   "source": [
    "@tool \n",
    "def contacts_manager(query: str):\n",
    "    \"\"\"use this tool to answer queries about a contact or a person\n",
    "    this tool can:\n",
    "    list my contacts\n",
    "    get a contact's details\n",
    "    delete a contact\n",
    "    create a contact\n",
    "    modify a contact\n",
    "    args: query - pass the email related queries directly here\n",
    "    \"\"\"\n",
    "    response=contacts_agent.chat(str(query))\n",
    "    return response"
   ]
  },
  {
   "cell_type": "code",
   "execution_count": 11,
   "metadata": {},
   "outputs": [],
   "source": [
    "@tool\n",
    "def tasks_manager(query:str):\n",
    "    \"\"\"use this tool to answer task related queries\n",
    "    this tool can:\n",
    "    list tasks\n",
    "    create tasks\n",
    "    get task details\n",
    "    complete a task (which also deletes it :) )\n",
    "\n",
    "    args: query - pass the email related queries directly here\n",
    "    \n",
    "    \"\"\"\n",
    "\n",
    "\n",
    "    response=tasks_agent.chat(str(query))\n",
    "    return response"
   ]
  },
  {
   "cell_type": "code",
   "execution_count": 12,
   "metadata": {},
   "outputs": [],
   "source": [
    "@tool\n",
    "def maps_manager(query:str):\n",
    "    \"\"\"tool to use to answer maps and location queries\n",
    "    this tool can:\n",
    "    find locations such as restorants, bowling alleys, museums and others\n",
    "    display those locations's infos (eg. adress, name, url, price range)\n",
    "    args: query - pass the email related queries directly here\n",
    "    \"\"\"\n",
    "    response=maps_agent.chat(str(query))\n",
    "    return response"
   ]
  },
  {
   "cell_type": "code",
   "execution_count": null,
   "metadata": {},
   "outputs": [],
   "source": [
    "@tool\n",
    "def mail_manager(query:str):\n",
    "    \"\"\"Tool to use to answer any email related queries\n",
    "    this tool can:\n",
    "    get new mail\n",
    "    show the inbox\n",
    "    get a specific mail's content to display\n",
    "    create a draft of a new mail\n",
    "    create an email\n",
    "    verify the email content\n",
    "    send the email\n",
    "    list all the drafts\n",
    "    args: query - pass the email related queries directly here\n",
    "    \"\"\"\n",
    "    response=mail_agent.chat(str(query))\n",
    "    return response"
   ]
  },
  {
   "cell_type": "code",
   "execution_count": 14,
   "metadata": {},
   "outputs": [],
   "source": [
    "@tool\n",
    "def calendar_manager(query:str):\n",
    "    \"\"\"tool to use to answere any calendar or schedule related queries\n",
    "    this tool can:\n",
    "    create recuring events\n",
    "    create quick events\n",
    "    refresh the calendar\n",
    "    show the calendar\n",
    "    args: query - pass the calendar related queries directly here\n",
    "    \"\"\"\n",
    "    response=calendar_agent.chat(str(query))\n",
    "    return response"
   ]
  },
  {
   "cell_type": "code",
   "execution_count": 22,
   "metadata": {},
   "outputs": [],
   "source": [
    "class google_agent:\n",
    "    def __init__(self,llm: any):\n",
    "        self.agent=self._setup(llm)\n",
    "    def _setup(self,llm):\n",
    "   \n",
    "        langgraph_tools=[mail_manager,calendar_manager,maps_manager, tasks_manager, contacts_manager, google_image_tool]\n",
    "\n",
    "\n",
    "\n",
    "        graph_builder = StateGraph(State)\n",
    "\n",
    "        # Modification: tell the LLM which tools it can call\n",
    "        llm_with_tools = llm.bind_tools(langgraph_tools)\n",
    "        tool_node = ToolNode(tools=langgraph_tools)\n",
    "        def chatbot(state: State):\n",
    "            \"\"\" google ai agent, that can interact with contacts, emails, maps, tasks and calendar.\n",
    "            Depending on the request, leverage which tools to use if necessary.\"\"\"\n",
    "            return {\"messages\": [llm_with_tools.invoke(state['messages'])]}\n",
    "\n",
    "        graph_builder.add_node(\"chatbot\", chatbot)\n",
    "\n",
    "        \n",
    "        graph_builder.add_node(\"tools\", tool_node)\n",
    "        # Any time a tool is called, we return to the chatbot to decide the next step\n",
    "        graph_builder.add_edge(START,'chatbot')\n",
    "        graph_builder.add_edge(\"tools\", \"chatbot\")\n",
    "        graph_builder.add_conditional_edges(\n",
    "            \"chatbot\",\n",
    "            tools_condition,\n",
    "        )\n",
    "        memory=MemorySaver()\n",
    "        graph=graph_builder.compile(checkpointer=memory,store=store)\n",
    "        return graph\n",
    "        \n",
    "\n",
    "    def display_graph(self):\n",
    "        return display(\n",
    "                        Image(\n",
    "                                self.agent.get_graph().draw_mermaid_png(\n",
    "                                    draw_method=MermaidDrawMethod.API,\n",
    "                                )\n",
    "                            )\n",
    "                        )\n",
    "    def stream(self,input:str):\n",
    "        config = {\"configurable\": {\"thread_id\": \"1\"}}\n",
    "        input_message = HumanMessage(content=input)\n",
    "        for event in self.agent.stream({\"messages\": [input_message]}, config, stream_mode=\"values\"):\n",
    "            event[\"messages\"][-1].pretty_print()\n",
    "\n",
    "    def chat(self,input:str):\n",
    "        config = {\"configurable\": {\"thread_id\": \"1\"}}\n",
    "        response=self.agent.invoke({'messages':HumanMessage(content=str(input))},config)\n",
    "        return response['messages'][-1].content\n",
    "    \n",
    "    def get_state(self, state_val:str):\n",
    "        config = {\"configurable\": {\"thread_id\": \"1\"}}\n",
    "        return self.agent.get_state(config).values[state_val]"
   ]
  },
  {
   "cell_type": "code",
   "execution_count": 23,
   "metadata": {},
   "outputs": [],
   "source": [
    "agent=google_agent(llm)"
   ]
  },
  {
   "cell_type": "code",
   "execution_count": 24,
   "metadata": {},
   "outputs": [],
   "source": [
    "def chatbot(input,history):\n",
    "    response=agent.chat(input)\n",
    "    return response\n"
   ]
  },
  {
   "cell_type": "code",
   "execution_count": 25,
   "metadata": {},
   "outputs": [
    {
     "name": "stdout",
     "output_type": "stream",
     "text": [
      "* Running on local URL:  http://127.0.0.1:7861\n",
      "\n",
      "To create a public link, set `share=True` in `launch()`.\n"
     ]
    },
    {
     "data": {
      "text/html": [
       "<div><iframe src=\"http://127.0.0.1:7861/\" width=\"100%\" height=\"500\" allow=\"autoplay; camera; microphone; clipboard-read; clipboard-write;\" frameborder=\"0\" allowfullscreen></iframe></div>"
      ],
      "text/plain": [
       "<IPython.core.display.HTML object>"
      ]
     },
     "metadata": {},
     "output_type": "display_data"
    }
   ],
   "source": [
    "demo = gr.ChatInterface(chatbot, type=\"messages\", autofocus=False)\n",
    "\n",
    "if __name__ == \"__main__\":\n",
    "    demo.launch()"
   ]
  },
  {
   "cell_type": "code",
   "execution_count": 26,
   "metadata": {},
   "outputs": [
    {
     "data": {
      "text/plain": [
       "[HumanMessage(content='hello', additional_kwargs={}, response_metadata={}, id='84d1c02e-6343-4db1-992d-80e466f55cd2'),\n",
       " AIMessage(content='How can I help you today?', additional_kwargs={}, response_metadata={'prompt_feedback': {'block_reason': 0, 'safety_ratings': []}, 'finish_reason': 'STOP', 'safety_ratings': []}, id='run-3923c265-a507-4e06-9a81-864cba752a67-0', usage_metadata={'input_tokens': 319, 'output_tokens': 8, 'total_tokens': 327, 'input_token_details': {'cache_read': 0}}),\n",
       " HumanMessage(content='get new mail and show me my inbox', additional_kwargs={}, response_metadata={}, id='406f5d3f-7002-4f33-b4dc-8db7e4e05b3a'),\n",
       " AIMessage(content='', additional_kwargs={'function_call': {'name': 'mail_manager', 'arguments': '{\"query\": \"show the inbox\"}'}}, response_metadata={'prompt_feedback': {'block_reason': 0, 'safety_ratings': []}, 'finish_reason': 'STOP', 'safety_ratings': []}, id='run-8288730b-555d-4573-aa87-4b1ecaaad2dd-0', tool_calls=[{'name': 'mail_manager', 'args': {'query': 'get new mail'}, 'id': 'ac33f6ab-5dbb-4904-9c06-1efb8e984004', 'type': 'tool_call'}, {'name': 'mail_manager', 'args': {'query': 'show the inbox'}, 'id': '7df10c4e-15d6-4762-a9ca-457dbfe26841', 'type': 'tool_call'}], usage_metadata={'input_tokens': 334, 'output_tokens': 14, 'total_tokens': 348, 'input_token_details': {'cache_read': 0}}),\n",
       " ToolMessage(content='To get the latest emails, how many emails would you like to retrieve?', name='mail_manager', id='b9fff479-c28e-43d6-9092-c059dce097c8', tool_call_id='ac33f6ab-5dbb-4904-9c06-1efb8e984004'),\n",
       " ToolMessage(content='OK. I see one email in your inbox from The New York Times with the subject \"Final hours to save. Hurry: $1/wk.\".', name='mail_manager', id='8ae78a9b-1267-458a-8d8c-d18dbcddfab5', tool_call_id='7df10c4e-15d6-4762-a9ca-457dbfe26841'),\n",
       " AIMessage(content='OK. I see one email in your inbox from The New York Times with the subject \"Final hours to save. Hurry: $1/wk.\". To get the latest emails, how many emails would you like to retrieve?', additional_kwargs={}, response_metadata={'prompt_feedback': {'block_reason': 0, 'safety_ratings': []}, 'finish_reason': 'STOP', 'safety_ratings': []}, id='run-73e9b28d-ebbf-4557-a380-12ff103d08cf-0', usage_metadata={'input_tokens': 401, 'output_tokens': 46, 'total_tokens': 447, 'input_token_details': {'cache_read': 0}}),\n",
       " HumanMessage(content='10', additional_kwargs={}, response_metadata={}, id='e45a739a-04a8-401d-9d70-9c8348911b0b'),\n",
       " AIMessage(content='', additional_kwargs={'function_call': {'name': 'mail_manager', 'arguments': '{\"query\": \"get 10 new mail\"}'}}, response_metadata={'prompt_feedback': {'block_reason': 0, 'safety_ratings': []}, 'finish_reason': 'STOP', 'safety_ratings': []}, id='run-4564dee5-15f3-4aae-8aff-e4c992043748-0', tool_calls=[{'name': 'mail_manager', 'args': {'query': 'get 10 new mail'}, 'id': 'b43cf22f-ced2-4d48-992b-2a5cce5e08da', 'type': 'tool_call'}], usage_metadata={'input_tokens': 448, 'output_tokens': 10, 'total_tokens': 458, 'input_token_details': {'cache_read': 0}}),\n",
       " ToolMessage(content='OK. I retrieved 10 new emails. Here\\'s a summary:\\n\\n*   **The New York Times:** \"Final hours to save. Hurry: $1/wk.\"\\n*   **LinkedIn News:** \"Meta fires alleged leakers\"\\n*   **A10 Kitchen:** \"Catering by A10 Kitchen\"\\n*   **LinkedIn:** \"Scale is hiring a Product Designer, Enterprise AI\"\\n*   **The New York Times:** \"Best offer ends today. Save now: $1/week.\"\\n*   **CVS ExtraCare:** \"$4 Off $10 Offer Just for Joining ExtraCare. Yay!\"\\n*   **daily.dev:** \"Tristan, your personal update from daily.dev is ready\"\\n*   **Medium Weekly Digest:** \"AI Agents: Introduction (Part-1) | Vipra Singh\"\\n*   **Microsoft Azure Team:** \"Finish signing up for Azure and get free services\"\\n*   **The New York Times:** \"Offer alert: Sale ends tomorrow. $1/wk.\"', name='mail_manager', id='6497d28e-4641-4c67-ae28-491d7803d85d', tool_call_id='b43cf22f-ced2-4d48-992b-2a5cce5e08da'),\n",
       " AIMessage(content='OK. I retrieved 10 new emails. Here\\'s a summary:\\n\\n* **The New York Times:** \"Final hours to save. Hurry: $1/wk.\"\\n* **LinkedIn News:** \"Meta fires alleged leakers\"\\n* **A10 Kitchen:** \"Catering by A10 Kitchen\"\\n* **LinkedIn:** \"Scale is hiring a Product Designer, Enterprise AI\"\\n* **The New York Times:** \"Best offer ends today. Save now: $1/week.\"\\n* **CVS ExtraCare:** \"$4 Off $10 Offer Just for Joining ExtraCare. Yay!\"\\n* **daily.dev:** \"Tristan, your personal update from daily.dev is ready\"\\n* **Medium Weekly Digest:** \"AI Agents: Introduction (Part-1) | Vipra Singh\"\\n* **Microsoft Azure Team:** \"Finish signing up for Azure and get free services\"\\n* **The New York Times:** \"Offer alert: Sale ends tomorrow. $1/wk.\"', additional_kwargs={}, response_metadata={'prompt_feedback': {'block_reason': 0, 'safety_ratings': []}, 'finish_reason': 'STOP', 'safety_ratings': []}, id='run-aa61e219-b638-4970-86f4-d598658a0877-0', usage_metadata={'input_tokens': 679, 'output_tokens': 208, 'total_tokens': 887, 'input_token_details': {'cache_read': 0}}),\n",
       " HumanMessage(content='display the email from medium weekly digest', additional_kwargs={}, response_metadata={}, id='ada861e4-5949-41f9-87b6-b759ec299aeb'),\n",
       " AIMessage(content='', additional_kwargs={'function_call': {'name': 'mail_manager', 'arguments': '{\"query\": \"display the email from Medium Weekly Digest\"}'}}, response_metadata={'prompt_feedback': {'block_reason': 0, 'safety_ratings': []}, 'finish_reason': 'STOP', 'safety_ratings': []}, id='run-4f1bf46d-1eb9-4f97-b5d5-85d4ab4a7fad-0', tool_calls=[{'name': 'mail_manager', 'args': {'query': 'display the email from Medium Weekly Digest'}, 'id': 'a2c6cbdb-b749-46fc-a77a-4567529492c6', 'type': 'tool_call'}], usage_metadata={'input_tokens': 893, 'output_tokens': 11, 'total_tokens': 904, 'input_token_details': {'cache_read': 0}}),\n",
       " ToolMessage(content='I need the email ID to display the email. Can you provide the email ID of the email from Medium Weekly Digest?', name='mail_manager', id='885eca99-1b0f-4796-ab20-2ab840c345f0', tool_call_id='a2c6cbdb-b749-46fc-a77a-4567529492c6'),\n",
       " AIMessage(content='I need the email ID to display the email. Can you provide the email ID of the email from Medium Weekly Digest?', additional_kwargs={}, response_metadata={'prompt_feedback': {'block_reason': 0, 'safety_ratings': []}, 'finish_reason': 'STOP', 'safety_ratings': []}, id='run-3402e2cd-4222-4252-83e8-e8e8832df23f-0', usage_metadata={'input_tokens': 932, 'output_tokens': 25, 'total_tokens': 957, 'input_token_details': {'cache_read': 0}}),\n",
       " HumanMessage(content='use the show inbox tool to get it', additional_kwargs={}, response_metadata={}, id='816147ae-1d38-4b13-b9c0-813c83eb9dd9'),\n",
       " AIMessage(content='', additional_kwargs={'function_call': {'name': 'mail_manager', 'arguments': '{\"query\": \"show the inbox\"}'}}, response_metadata={'prompt_feedback': {'block_reason': 0, 'safety_ratings': []}, 'finish_reason': 'STOP', 'safety_ratings': []}, id='run-c967baf1-b680-4e21-9ef9-f786587e05f9-0', tool_calls=[{'name': 'mail_manager', 'args': {'query': 'show the inbox'}, 'id': 'ba59af24-5862-48ea-9b9f-5ab9288a3aa8', 'type': 'tool_call'}], usage_metadata={'input_tokens': 964, 'output_tokens': 7, 'total_tokens': 971, 'input_token_details': {'cache_read': 0}}),\n",
       " ToolMessage(content=\"OK. Here is the email from Medium Weekly Digest:\\n\\n**From:** Medium Weekly Digest <noreply@medium.com>\\n**To:** padioutristan@gmail.com\\n**Date:** Fri, 28 Feb 2025 12:10:00 +0000 (UTC)\\n**Subject:** AI Agents: Introduction (Part-1) | Vipra Singh\\n\\n**Body:**\\nStories for Padioutristan\\n@padioutristan (https://medium.com/@padioutristan?source=email-6aad64323c06-1740728330982-digest.weekly-------------------------d1936aa6_02b1_4810_9f70_c2639d597977)\\n·Become a member (https://medium.com/plans?source=email-6aad64323c06-1740728330982-digest.weekly-------------------------d1936aa6_02b1_4810_9f70_c2639d597977)\\n\\nToday's highlights\\n\\nVipra Singh (https://medium.com/@vipra_singh?source=email-6aad64323c06-1740728330982-digest.weekly--fbec7edb857d----0-99------------------d1936aa6_02b1_4810_9f70_c2639d597977-1)\\n\\nAI Agents: Introduction (Part-1)\\nDiscover AI agents, their design, and real-world…\\n\\n13 min read\\n740\\n19\\n\\nRoger Martin (https://medium.com/@rogermartin?source=email-6aad64323c06-1740728330982-digest.weekly--abf0e0b7cc0a----1-94------------------d1936aa6_02b1_4810_9f70_c2639d597977-1)\\n\\nBeyond Network Economics\\nThe Cultural Dividend and Why the Leading Theory of…\\n\\n10 min read\\n426\\n15\\n\\nMichael Dain (https://medium.com/@michaeldain?source=email-6aad64323c06-1740728330982-digest.weekly--5871b2f17202----2-108------------------d1936aa6_02b1_4810_9f70_c2639d597977-1)\\n\\nYou can count it, but does it count?\\nIgnoring quantitative analysis will be how GenAI…\\n\\n7 min read\\n40\\n\\nAri Joury, PhD (https://medium.com/@arijoury?source=email-6aad64323c06-1740728330982-digest.weekly-8993e01dcfd3-c5997d523133----3-102------------------d1936aa6_02b1_4810_9f70_c2639d597977-1)\\ninData Science Collective (https://medium.com/data-science-collective?source=email-6aad64323c06-1740728330982-digest.weekly-8993e01dcfd3-c5997d523133----3-102------------------d1936aa6_02b1_4810_9f70_c2639d597977-1)\\n\\nStop Copy-Pasting. Turn PDFs into Data in Seconds\\nAutomate PDF extraction and get structured data…\\n\\n11 min read\\n1.1K\\n24\\n\\nKazys Račkauskas (https://medium.com/@easytdd?source=email-6aad64323c06-1740728330982-digest.weekly--27040a6349c9----4-108------------------d1936aa6_02b1_4810_9f70_c2639d597977-1)\\n\\nHow Dyslexia Shapes My Code Style\\nMy Personal Experience with Reading Challenges\\n\\n12 min read\\n30\\n1\\n\\nTalia Argondezzi (https://medium.com/@talia.argondezzi?source=email-6aad64323c06-1740728330982-digest.weekly-2a307d7b6b48-bec371a0b22b----5-110------------------d1936aa6_02b1_4810_9f70_c2639d597977-1)\\ninSlackjaw (https://medium.com/slackjaw?source=email-6aad64323c06-1740728330982-digest.weekly-2a307d7b6b48-bec371a0b22b----5-110------------------d1936aa6_02b1_4810_9f70_c2639d597977-1)\\n\\nWhat, You Think You're Better Than Me? Now That You Have A Nice Big Fancy…\\nWow. Truly, you will stop at nothing to make me feel…\\n\\n3 min read\\n1.3K\\n11\\n\\nSkilled Coder (https://medium.com/@skilledcoder?source=email-6aad64323c06-1740728330982-digest.weekly--a67716130557----6-99------------------d1936aa6_02b1_4810_9f70_c2639d597977-1)\\n\\nJava Practices Every Developer Must Avoid\\nCommon Java Coding Pitfalls (and How to Avoid Them)\\n\\n4 min read\\n126\\n8\\n\\nElina Kumra (https://medium.com/@bkgtoronto?source=email-6aad64323c06-1740728330982-digest.weekly--5fd73651ca29----7-110------------------d1936aa6_02b1_4810_9f70_c2639d597977-1)\\n\\nOn Survival: Notes from a Broken Coast\\nThere exists a particular kind of silence in Gaza that…\\n\\n3 min read\\n431\\n14\\n\\nHussein Jundi (https://medium.com/@husseinjundi?source=email-6aad64323c06-1740728330982-digest.weekly-8993e01dcfd3-9024ef302f28----8-102------------------d1936aa6_02b1_4810_9f70_c2639d597977-1)\\ninData Science Collective (https://medium.com/data-science-collective?source=email-6aad64323c06-1740728330982-digest.weekly-8993e01dcfd3-9024ef302f28----8-102------------------d1936aa6_02b1_4810_9f70_c2639d597977-1)\\n\\nAutomate Your Job Search with AI Agents\\nA step-by-step guide on building a team of AI agents…\\n\\n18 min read\\n499\\n18\\n\\nDr. Ashish Bamania (https://medium.com/@bamania-ashish?source=email-6aad64323c06-1740728330982-digest.weekly-5517fd7b58a6-76ec7cc838df----9-99------------------d1936aa6_02b1_4810_9f70_c2639d597977-1)\\ninLevel Up Coding (https://medium.com/gitconnected?source=email-6aad64323c06-1740728330982-digest.weekly-5517fd7b58a6-76ec7cc838df----9-99------------------d1936aa6_02b1_4810_9f70_c2639d597977-1)\\n\\nHuatuoGPT-o1: A Medical Reasoning LLM With OpenAI o1 Like Capabilities Is Here\\nA deep dive into the techniques that let HuatuoGPT-o1…\\n\\n9 min read\\n264\\n3\\n\\nKatsiaryna Ruksha (https://medium.com/@kate.ruksha?source=email-6aad64323c06-1740728330982-digest.weekly-5a3d6c43290d-7ce20339f006----10-108------------------d1936aa6_02b1_4810_9f70_c2639d597977-1)\\ninGodel Technologies (https://medium.com/godel-technologies?source=email-6aad64323c06-1740728330982-digest.weekly-5a3d6c43290d-7ce20339f006----10-108------------------d1936aa6_02b1_4810_9f70_c2639d597977-1)\\n\\nWhy AI Development is Different: The Role of Experimentation in Data Science\\nRecent advancements have significantly heightened…\\n\\n6 min read\\n58\\n2\\n\\nC.S. Voll (https://medium.com/@csvoll?source=email-6aad64323c06-1740728330982-digest.weekly-7fa3b72c61f2-b40e22fdfa4e----11-110------------------d1936aa6_02b1_4810_9f70_c2639d597977-1)\\ninFull Frame (https://medium.com/full-frame?source=email-6aad64323c06-1740728330982-digest.weekly-7fa3b72c61f2-b40e22fdfa4e----11-110------------------d1936aa6_02b1_4810_9f70_c2639d597977-1)\\n\\nBlack Chicagoans Show Us Their Lives in the Early 1970s\\nJohn H. White was there to document how a city's…\\n\\n8 min read\\n509\\n15\\n\\nMichael Wood (https://medium.com/@michaelwood33311?source=email-6aad64323c06-1740728330982-digest.weekly-bc04061380d3-4f604e11c0db----12-99------------------d1936aa6_02b1_4810_9f70_c2639d597977-1)\\ninCubed (https://medium.com/cub3d?source=email-6aad64323c06-1740728330982-digest.weekly-bc04061380d3-4f604e11c0db----12-99------------------d1936aa6_02b1_4810_9f70_c2639d597977-1)\\n\\nOpenAI's Mythical Hallucination Rates: Busted\\nOpenAI Failed to Improve Hallucinations For Two Years…\\n\\n5 min read\\n122\\n4\\n\\nDenis Kazakov (https://medium.com/@d-kz?source=email-6aad64323c06-1740728330982-digest.weekly-645edd256348-6d46692f8cac----13-102------------------d1936aa6_02b1_4810_9f70_c2639d597977-1)\\ninGusto Engineering (https://medium.com/gusto-engineering?source=email-6aad64323c06-1740728330982-digest.weekly-645edd256348-6d46692f8cac----13-102------------------d1936aa6_02b1_4810_9f70_c2639d597977-1)\\n\\nTackling AI Hallucinations in LLM Apps\\nHow Token Log-Probabilities Can Predict LLM…\\n\\n6 min read\\n235\\n11\\n\\nIda Silfverskiöld (https://medium.com/@ilsilfverskiold?source=email-6aad64323c06-1740728330982-digest.weekly-8993e01dcfd3-04802074e095----14-102------------------d1936aa6_02b1_4810_9f70_c2639d597977-1)\\ninData Science Collective (https://medium.com/data-science-collective?source=email-6aad64323c06-1740728330982-digest.weekly-8993e01dcfd3-04802074e095----14-102------------------d1936aa6_02b1_4810_9f70_c2639d597977-1)\\n\\nEconomics of LLMs: Evaluations vs Pricing\\nLooking at which model to use for which task\\n\\n10 min read\\n697\\n14\\n\\nSee more of what you like and less of what you don't.\\nControl your recommendations (https://medium.com/me/missioncontrol?source=email-6aad64323c06-1740728330982-digest.weekly-------------------------d1936aa6_02b1_4810_9f70_c2639d597977)\\n\\nRead from anywhere.\\n\\nSent by Medium (https://medium.com/?source=email-6aad64323c06-1740728330982-digest.weekly-------------------------d1936aa6_02b1_4810_9f70_c2639d597977)\\n·3500 South DuPont Highway, Suite IQ-101, Dover,\\xa0DE\\xa019901\\nUnsubscribe (https://medium.com/me/email-settings/6aad64323c06/ca3d2651a48b?type=social&source=email-6aad64323c06-1740728330982-digest.weekly-------------------------d1936aa6_02b1_4810_9f70_c2639d597977)\\n from this type of email·Switch to the Daily Digest (https://medium.com/me/email-settings/6aad64323c06/ca3d2651a48b?type=social&preference=1&source=email-6aad64323c06-1740728330982-digest.weekly-------------------------d1936aa6_02b1_4810_9f70_c2639d597977)\\n·Careers (https://medium.com/jobs-at-medium/work-at-medium-959d1a85284e?source=email-6aad64323c06-1740728330982-digest.weekly-------------------------d1936aa6_02b1_4810_9f70_c2639d597977)\\n·Help Center (https://help.medium.com/hc/en-us?source=email-6aad64323c06-1740728330982-digest.weekly-------------------------d1936aa6_02b1_4810_9f70_c2639d597977)\\n·Privacy Policy (https://policy.medium.com/medium-privacy-policy-f03bf92035c9?source=email-6aad64323c06-1740728330982-digest.weekly-------------------------d1936aa6_02b1_4810_9f70_c2639d597977)\\n·Terms of service (https://policy.medium.com/medium-terms-of-service-9db0094a1e0f?source=email-6aad64323c06-1740728330982-digest.weekly-------------------------d1936aa6_02b1_4810_9f70_c2639d597977)\", name='mail_manager', id='d35faa7a-68f0-4cd9-a186-79f2304de73b', tool_call_id='ba59af24-5862-48ea-9b9f-5ab9288a3aa8')]"
      ]
     },
     "execution_count": 26,
     "metadata": {},
     "output_type": "execute_result"
    }
   ],
   "source": [
    "agent.get_state('messages')"
   ]
  }
 ],
 "metadata": {
  "kernelspec": {
   "display_name": ".venv",
   "language": "python",
   "name": "python3"
  },
  "language_info": {
   "codemirror_mode": {
    "name": "ipython",
    "version": 3
   },
   "file_extension": ".py",
   "mimetype": "text/x-python",
   "name": "python",
   "nbconvert_exporter": "python",
   "pygments_lexer": "ipython3",
   "version": "3.13.2"
  }
 },
 "nbformat": 4,
 "nbformat_minor": 2
}
