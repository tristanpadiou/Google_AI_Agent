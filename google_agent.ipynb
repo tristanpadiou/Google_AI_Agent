{
 "cells": [
  {
   "cell_type": "code",
   "execution_count": 1,
   "metadata": {},
   "outputs": [
    {
     "name": "stderr",
     "output_type": "stream",
     "text": [
      "c:\\Users\\padio\\Desktop\\important\\AI portfolio\\Google_AI_Agent\\.venv\\Lib\\site-packages\\tqdm\\auto.py:21: TqdmWarning: IProgress not found. Please update jupyter and ipywidgets. See https://ipywidgets.readthedocs.io/en/stable/user_install.html\n",
      "  from .autonotebook import tqdm as notebook_tqdm\n"
     ]
    }
   ],
   "source": [
    "from gmail_agent import Gmail_agent\n",
    "from calendar_agent import Calendar_agent\n",
    "from maps_agent import Maps_agent\n",
    "from contacts_agent import Contacts_agent\n",
    "from tasks_agent import Tasks_agent\n",
    "from langchain_google_genai import ChatGoogleGenerativeAI\n",
    "from langchain.tools import tool,Tool\n",
    "from langgraph.graph import StateGraph, START, END\n",
    "from langgraph.graph.message import add_messages\n",
    "from langgraph.prebuilt import ToolNode, tools_condition,InjectedState\n",
    "from langchain_core.messages import (\n",
    "    HumanMessage,\n",
    "    AIMessage,\n",
    "    \n",
    ")\n",
    "from langchain_core.output_parsers import JsonOutputParser\n",
    "from langchain_core.prompts import PromptTemplate\n",
    "from langchain.output_parsers import RetryOutputParser\n",
    "from langgraph.types import Command\n",
    "\n",
    "from langgraph.checkpoint.memory import MemorySaver\n",
    "from langgraph.store.memory import InMemoryStore\n",
    "from langchain_core.tools.base import InjectedToolCallId\n",
    "from pydantic import BaseModel,Field\n",
    "\n",
    "from typing_extensions import TypedDict\n",
    "from typing import Annotated, List\n",
    "\n",
    "import os\n",
    "from dotenv import load_dotenv \n",
    "\n",
    "#get graph visuals\n",
    "from IPython.display import Image, display\n",
    "from langchain_core.runnables.graph import MermaidDrawMethod\n",
    "import os\n",
    "import requests\n",
    "import gradio as gr"
   ]
  },
  {
   "cell_type": "code",
   "execution_count": 2,
   "metadata": {},
   "outputs": [
    {
     "data": {
      "text/plain": [
       "' token available '"
      ]
     },
     "execution_count": 2,
     "metadata": {},
     "output_type": "execute_result"
    }
   ],
   "source": [
    "from token_creator import get_creds\n",
    "get_creds()"
   ]
  },
  {
   "cell_type": "code",
   "execution_count": 3,
   "metadata": {},
   "outputs": [],
   "source": [
    "load_dotenv()\n",
    "GOOGLE_API_KEY=os.getenv('google_api_key')\n",
    "pse=os.getenv('pse')"
   ]
  },
  {
   "cell_type": "code",
   "execution_count": 4,
   "metadata": {},
   "outputs": [],
   "source": [
    "GEMINI_MODEL='gemini-2.0-flash'\n",
    "llm = ChatGoogleGenerativeAI(google_api_key=GOOGLE_API_KEY, model=GEMINI_MODEL, temperature=0.3)"
   ]
  },
  {
   "cell_type": "code",
   "execution_count": 5,
   "metadata": {},
   "outputs": [],
   "source": [
    "mail_agent=Gmail_agent(llm)\n",
    "calendar_agent=Calendar_agent(llm)\n",
    "maps_agent=Maps_agent(llm)\n",
    "tasks_agent=Tasks_agent(llm)\n",
    "contacts_agent=Contacts_agent(llm)"
   ]
  },
  {
   "cell_type": "code",
   "execution_count": 6,
   "metadata": {},
   "outputs": [],
   "source": [
    "class State(TypedDict):\n",
    "    node_messages: Annotated[List, add_messages]\n",
    "    query: str\n",
    "    plan: List\n",
    "    num_retries: int\n",
    "    node_query:str"
   ]
  },
  {
   "cell_type": "code",
   "execution_count": 7,
   "metadata": {},
   "outputs": [],
   "source": [
    "class ManagerCapability(BaseModel):\n",
    "    \"\"\"Represents a specific capability that a manager tool provides\"\"\"\n",
    "    action: str = Field(..., description=\"The specific action that can be performed\")\n",
    "    description: str = Field(None, description=\"Optional description of what this capability does\")\n",
    "\n",
    "class ManagerTool(BaseModel):\n",
    "    \"\"\"Represents a manager tool and its capabilities\"\"\"\n",
    "    name: str = Field(..., description=\"The name of the manager tool\")\n",
    "    tool_function: str = Field(..., description=\"The function name used to call this tool\")\n",
    "    description: str = Field(..., description=\"General description of what this tool does\")\n",
    "    capabilities: List[ManagerCapability] = Field(..., description=\"List of capabilities this tool provides\")\n",
    "\n",
    "\n",
    "\n",
    "class ManagerTools(BaseModel):\n",
    "    \"\"\"Collection of all available manager tools and their capabilities\"\"\"\n",
    "    managers: List[ManagerTool] = Field(\n",
    "        default=[\n",
    "            ManagerTool(\n",
    "                name=\"Maps Manager\",\n",
    "                tool_function=\"maps_manager\",\n",
    "                description=\"Tool to use to answer maps and location queries\",\n",
    "                capabilities=[\n",
    "                    ManagerCapability(action=\"find locations\", description=\"Such as restaurants, bowling alleys, museums and others\"),\n",
    "                    ManagerCapability(action=\"display location info\", description=\"Shows address, name, URL, price range\")\n",
    "                ]\n",
    "            ),\n",
    "            ManagerTool(\n",
    "                name=\"Google images tool\",\n",
    "                tool_function=\"google_image_tool\",\n",
    "                description=\"Tool to use to get images\",\n",
    "                capabilities=[\n",
    "                    ManagerCapability(action=\"get image\", description=\"returns a url of the image\"),\n",
    "                ]),\n",
    "            ManagerTool(\n",
    "                name=\"Contacts Manager\",\n",
    "                tool_function=\"contacts_manager\",\n",
    "                description=\"Tool to use to answer queries about a contact or a person\",\n",
    "                capabilities=[\n",
    "                    ManagerCapability(action=\"list contacts\", description=\"Shows all available contacts\"),\n",
    "                    ManagerCapability(action=\"get contact details\", description=\"Retrieves information about a specific contact, like email addresses\"),\n",
    "                    ManagerCapability(action=\"delete contact\", description=\"Removes a contact from the list\"),\n",
    "                    ManagerCapability(action=\"create contact\", description=\"Adds a new contact to the list\"),\n",
    "                    ManagerCapability(action=\"modify contact\", description=\"Updates information for an existing contact\")\n",
    "                ]\n",
    "            ),\n",
    "            ManagerTool(\n",
    "                name=\"Tasks Manager\",\n",
    "                tool_function=\"tasks_manager\",\n",
    "                description=\"Tool to use to answer task related queries\",\n",
    "                capabilities=[\n",
    "                    ManagerCapability(action=\"list tasks\", description=\"Shows all available tasks\"),\n",
    "                    ManagerCapability(action=\"create task\", description=\"Adds a new task\"),\n",
    "                    ManagerCapability(action=\"get task details\", description=\"Retrieves information about a specific task\"),\n",
    "                    ManagerCapability(action=\"complete task\", description=\"Marks a task as completed and deletes it\")\n",
    "                ]\n",
    "            ),\n",
    "            ManagerTool(\n",
    "                name=\"Mail Manager\",\n",
    "                tool_function=\"mail_manager\",\n",
    "                description=\"Tool to use to answer any email related queries\",\n",
    "                capabilities=[\n",
    "                    ManagerCapability(action=\"get new mail\", description=\"Checks for new emails\"),\n",
    "                    ManagerCapability(action=\"show inbox\", description=\"Displays all emails in the inbox\"),\n",
    "                    ManagerCapability(action=\"get mail content\", description=\"Retrieves the content of a specific email\"),\n",
    "                    ManagerCapability(action=\"create email\", description=\"Composes a new email using the email adress\"),\n",
    "                    ManagerCapability(action=\"verify email content\", description=\"Checks the content of an email\"),\n",
    "                    ManagerCapability(action=\"send email\", description=\"Sends a composed email\")\n",
    "            \n",
    "                ]\n",
    "            ),\n",
    "            ManagerTool(\n",
    "                name=\"Calendar Manager\",\n",
    "                tool_function=\"calendar_manager\",\n",
    "                description=\"Tool to use to answer any calendar or schedule related queries\",\n",
    "                capabilities=[\n",
    "                    ManagerCapability(action=\"create recurring events\", description=\"Sets up events that repeat on a schedule\"),\n",
    "                    ManagerCapability(action=\"create quick events\", description=\"Quickly adds a one-time event\"),\n",
    "                    ManagerCapability(action=\"refresh calendar\", description=\"Updates the calendar with latest information\"),\n",
    "                    ManagerCapability(action=\"show calendar\", description=\"Displays the calendar view\")\n",
    "                ]\n",
    "            )\n",
    "        ],\n",
    "        description=\"The complete list of available manager tools\"\n",
    "    )\n",
    "    "
   ]
  },
  {
   "cell_type": "code",
   "execution_count": 8,
   "metadata": {},
   "outputs": [],
   "source": [
    "manager_tools = ManagerTools()\n",
    "\n",
    "# For Pydantic V2 \n",
    "manager_dict = manager_tools.model_dump()"
   ]
  },
  {
   "cell_type": "code",
   "execution_count": 9,
   "metadata": {},
   "outputs": [
    {
     "data": {
      "text/plain": [
       "{'managers': [{'name': 'Maps Manager',\n",
       "   'tool_function': 'maps_manager',\n",
       "   'description': 'Tool to use to answer maps and location queries',\n",
       "   'capabilities': [{'action': 'find locations',\n",
       "     'description': 'Such as restaurants, bowling alleys, museums and others'},\n",
       "    {'action': 'display location info',\n",
       "     'description': 'Shows address, name, URL, price range'}]},\n",
       "  {'name': 'Google images tool',\n",
       "   'tool_function': 'google_image_tool',\n",
       "   'description': 'Tool to use to get images',\n",
       "   'capabilities': [{'action': 'get image',\n",
       "     'description': 'returns a url of the image'}]},\n",
       "  {'name': 'Contacts Manager',\n",
       "   'tool_function': 'contacts_manager',\n",
       "   'description': 'Tool to use to answer queries about a contact or a person',\n",
       "   'capabilities': [{'action': 'list contacts',\n",
       "     'description': 'Shows all available contacts'},\n",
       "    {'action': 'get contact details',\n",
       "     'description': 'Retrieves information about a specific contact, like email addresses'},\n",
       "    {'action': 'delete contact',\n",
       "     'description': 'Removes a contact from the list'},\n",
       "    {'action': 'create contact',\n",
       "     'description': 'Adds a new contact to the list'},\n",
       "    {'action': 'modify contact',\n",
       "     'description': 'Updates information for an existing contact'}]},\n",
       "  {'name': 'Tasks Manager',\n",
       "   'tool_function': 'tasks_manager',\n",
       "   'description': 'Tool to use to answer task related queries',\n",
       "   'capabilities': [{'action': 'list tasks',\n",
       "     'description': 'Shows all available tasks'},\n",
       "    {'action': 'create task', 'description': 'Adds a new task'},\n",
       "    {'action': 'get task details',\n",
       "     'description': 'Retrieves information about a specific task'},\n",
       "    {'action': 'complete task',\n",
       "     'description': 'Marks a task as completed and deletes it'}]},\n",
       "  {'name': 'Mail Manager',\n",
       "   'tool_function': 'mail_manager',\n",
       "   'description': 'Tool to use to answer any email related queries',\n",
       "   'capabilities': [{'action': 'get new mail',\n",
       "     'description': 'Checks for new emails'},\n",
       "    {'action': 'show inbox',\n",
       "     'description': 'Displays all emails in the inbox'},\n",
       "    {'action': 'get mail content',\n",
       "     'description': 'Retrieves the content of a specific email'},\n",
       "    {'action': 'create email',\n",
       "     'description': 'Composes a new email using the email adress'},\n",
       "    {'action': 'verify email content',\n",
       "     'description': 'Checks the content of an email'},\n",
       "    {'action': 'send email', 'description': 'Sends a composed email'}]},\n",
       "  {'name': 'Calendar Manager',\n",
       "   'tool_function': 'calendar_manager',\n",
       "   'description': 'Tool to use to answer any calendar or schedule related queries',\n",
       "   'capabilities': [{'action': 'create recurring events',\n",
       "     'description': 'Sets up events that repeat on a schedule'},\n",
       "    {'action': 'create quick events',\n",
       "     'description': 'Quickly adds a one-time event'},\n",
       "    {'action': 'refresh calendar',\n",
       "     'description': 'Updates the calendar with latest information'},\n",
       "    {'action': 'show calendar',\n",
       "     'description': 'Displays the calendar view'}]}]}"
      ]
     },
     "execution_count": 9,
     "metadata": {},
     "output_type": "execute_result"
    }
   ],
   "source": [
    "manager_dict"
   ]
  },
  {
   "cell_type": "code",
   "execution_count": 10,
   "metadata": {},
   "outputs": [],
   "source": [
    "def planner_node(state: State):\n",
    "    class task_shema(BaseModel):\n",
    "        task: str = Field(description='description of the task')\n",
    "        manager_tool: str = Field(description= 'the name of the manager tool to use')\n",
    "        action: str = Field(description=' the action that the manager tool must take')\n",
    "    class plan_shema(BaseModel):\n",
    "        tasks: List[task_shema] = Field(description='the list of tasks that the agent need to complete to succesfully complete the query')\n",
    "    parser=JsonOutputParser(pydantic_object=plan_shema)\n",
    "    prompt = PromptTemplate(\n",
    "    template=\"Answer the user query.\\n{format_instructions}\\n{query}\\n\",\n",
    "    input_variables=[\"query\"],\n",
    "    partial_variables={\"format_instructions\": parser.get_format_instructions()},\n",
    "    )\n",
    "\n",
    "    \n",
    "    chain = prompt | llm \n",
    "    try:\n",
    "        response=chain.invoke({'query':f'based on this query: {state['query']} generate a plan using those manager tools: {manager_dict} to get the necessary info and to complete the query, the plan cannot contain more than 10 tasks'}) \n",
    "        try:\n",
    "            response=parser.parse(response.content)\n",
    "            \n",
    "            return {'plan':response.get('tasks')}\n",
    "        except:\n",
    "            try:\n",
    "                retry_parser = RetryOutputParser.from_llm(parser=parser, llm=llm)\n",
    "\n",
    "                prompt_value = prompt.format_prompt(query=state['query'])\n",
    "                response=retry_parser.parse_with_prompt(response.content, prompt_value) \n",
    "        \n",
    "               \n",
    "                return {'plan':response.get('tasks')}\n",
    "            except:\n",
    "                return {'route':'END'}\n",
    "    except:\n",
    "                return {'route':'END'}\n"
   ]
  },
  {
   "cell_type": "code",
   "execution_count": null,
   "metadata": {},
   "outputs": [],
   "source": [
    "def agent_node(state: State):\n",
    "    class task_route(BaseModel):\n",
    "        node_query: str = Field(description='the query to be passed to one of the manager tool nodes')\n",
    "        route: str = Field (description='the name of the manager tool to use or if finished END')\n",
    "    plan= state.get('plan')\n",
    "    \n",
    "\n",
    "    \n",
    "    # node_messages=state.get('node_messages')\n",
    "    parser=JsonOutputParser(pydantic_object=task_route)\n",
    "    prompt = PromptTemplate(\n",
    "    template=\"Answer the user query.\\n{format_instructions}\\n{query}\\n\",\n",
    "    input_variables=[\"query\"],\n",
    "    partial_variables={\"format_instructions\": parser.get_format_instructions()},\n",
    "    )\n",
    "\n",
    "    \n",
    "    chain = prompt | llm \n",
    "    if plan:\n",
    "        response=chain.invoke({'query':f'based on this task: {plan[0]} generate a query to be passed to the manager_tool mentionned in the task, use the informations from previous nodes {state.get('node_messages')}, if there are no tasks left return END'}) \n",
    "    try:\n",
    "        response=parser.parse(response.content)\n",
    "        \n",
    "        return {'node_query':response.get('node_query'),\n",
    "                'route':response.get('route')}\n",
    "    except:\n",
    "        try:\n",
    "            retry_parser = RetryOutputParser.from_llm(parser=parser, llm=llm)\n",
    "\n",
    "            prompt_value = prompt.format_prompt(query=state['query'])\n",
    "            response=retry_parser.parse_with_prompt(response.content, prompt_value) \n",
    "            \n",
    "            return {'node_query':response.get('node_query'),\n",
    "                'route':response.get('route')}\n",
    "        except:\n",
    "            return {'route':'END'}\n",
    "    "
   ]
  },
  {
   "cell_type": "code",
   "execution_count": 12,
   "metadata": {},
   "outputs": [],
   "source": [
    "def router(state: State):\n",
    "    route=state.get('route')\n",
    "    routing_map = {\n",
    "        'Maps Manager': 'to_maps_manager',\n",
    "        'Google images tool': 'to_google_image_tool',\n",
    "        'Contacts Manager': 'to_contact_manager',\n",
    "        'Tasks Manager': 'to_tasks_manager',\n",
    "        'Mail Manager': 'to_mail_manager',\n",
    "        'Calendar Manager': 'to_calendar_manager',\n",
    "        'END':'to_end'\n",
    "    }\n",
    "    return routing_map.get(route)"
   ]
  },
  {
   "cell_type": "code",
   "execution_count": 13,
   "metadata": {},
   "outputs": [],
   "source": [
    "def evaluator_node(state: State):\n",
    "    node_message=state.get('node_messages')\n",
    "    \n",
    "    class Status(BaseModel):\n",
    "        status: str = Field(description='completed or failed')\n",
    "    parser=JsonOutputParser(pydantic_object=Status)\n",
    "    prompt = PromptTemplate(\n",
    "    template=\"Answer the user query.\\n{format_instructions}\\n{query}\\n\",\n",
    "    input_variables=[\"query\"],\n",
    "    partial_variables={\"format_instructions\": parser.get_format_instructions()},\n",
    "    )\n",
    "\n",
    "    \n",
    "    chain = prompt | llm \n",
    "    try:\n",
    "        response=chain.invoke({'query':f'based on this node message: {node_message[-1].content} and the prompt: {state.get('node_query')}, decide if the task was completed or failed '}) \n",
    "       \n",
    "        response=parser.parse(response.content)\n",
    "            \n",
    "    except:\n",
    "        retry_parser = RetryOutputParser.from_llm(parser=parser, llm=llm)\n",
    "\n",
    "        prompt_value = prompt.format_prompt(query=state['query'])\n",
    "        response=retry_parser.parse_with_prompt(response.content, prompt_value) \n",
    "        \n",
    "    status=response.get('status')          \n",
    "               \n",
    "    \n",
    "    if status =='failed':\n",
    "        if state.get('num_retries')<2:\n",
    "            return {'num_retries': state.get('num_retries')+1}\n",
    "        else:\n",
    "            plan=state.get('plan')\n",
    "            del plan[0]\n",
    "            return {'num_retries':0,\n",
    "                    'plan':plan}\n",
    "    else:\n",
    "        plan=state.get('plan')\n",
    "        del plan[0]\n",
    "        return {'num_retries':0,\n",
    "                'plan':plan}"
   ]
  },
  {
   "cell_type": "code",
   "execution_count": 14,
   "metadata": {},
   "outputs": [],
   "source": [
    "store=InMemoryStore()"
   ]
  },
  {
   "cell_type": "code",
   "execution_count": 15,
   "metadata": {},
   "outputs": [],
   "source": [
    "def google_image_search_node(state:State):\n",
    "  \"\"\"Search for images using Google Custom Search API\n",
    "  args: query\n",
    "  return: image url\n",
    "  \"\"\"\n",
    "  # Define the API endpoint for Google Custom Search\n",
    "  url = \"https://www.googleapis.com/customsearch/v1\"\n",
    "  query=state.get('node_query')\n",
    "\n",
    "  params = {\n",
    "      \"q\": query,\n",
    "      \"cx\": pse,\n",
    "      \"key\": GOOGLE_API_KEY,\n",
    "      \"searchType\": \"image\",  # Search for images\n",
    "      \"num\": 1  # Number of results to fetch\n",
    "  }\n",
    "\n",
    "  # Make the request to the Google Custom Search API\n",
    "  response = requests.get(url, params=params)\n",
    "  data = response.json()\n",
    "\n",
    "  # Check if the response contains image results\n",
    "  if 'items' in data:\n",
    "      # Extract the first image result\n",
    "      image_url = data['items'][0]['link']\n",
    "      return {'node_messages':f' here is the url for the image {image_url}'}\n",
    "  else:\n",
    "      return {'node_messages':'failed'}\n",
    "\n"
   ]
  },
  {
   "cell_type": "code",
   "execution_count": 16,
   "metadata": {},
   "outputs": [],
   "source": [
    "def contacts_manager_node(state: State):\n",
    "    \"\"\"use this tool to answer queries about a contact or a person\n",
    "    this tool can:\n",
    "    list my contacts\n",
    "    get a contact's details\n",
    "    delete a contact\n",
    "    create a contact\n",
    "    modify a contact\n",
    "    args: query - pass the entire contacts related queries directly here\n",
    "    \"\"\"\n",
    "    response=contacts_agent.chat(state.get('node_query'))\n",
    "    # return response\n",
    "    return {'node_messages':[AIMessage(f'{response}')]}"
   ]
  },
  {
   "cell_type": "code",
   "execution_count": 17,
   "metadata": {},
   "outputs": [],
   "source": [
    "\n",
    "def tasks_manager_node(state: State):\n",
    "    \"\"\"use this tool to answer task related queries\n",
    "    this tool can:\n",
    "    list tasks\n",
    "    create tasks\n",
    "    get task details\n",
    "    complete a task (which also deletes it :) )\n",
    "\n",
    "    args: query - pass the entire tasks related queries directly here\n",
    "    \n",
    "    \"\"\"\n",
    "\n",
    "\n",
    "    response=tasks_agent.chat(state.get('node_query'))\n",
    "    # return response\n",
    "    return {'node_messages':[AIMessage(f'{response}')]}"
   ]
  },
  {
   "cell_type": "code",
   "execution_count": 18,
   "metadata": {},
   "outputs": [],
   "source": [
    "def maps_manager_node(state: State):\n",
    "    \"\"\"tool to use to answer maps and location queries\n",
    "    this tool can:\n",
    "    find locations such as restorants, bowling alleys, museums and others\n",
    "    display those locations's infos (eg. adress, name, url, price range)\n",
    "    args: query - pass the maps or loc related queries directly here\n",
    "    return: locations with urls\n",
    "    \"\"\"\n",
    "    response=maps_agent.chat(state.get('node_query'))\n",
    "    # return response\n",
    "    return {'node_messages':[AIMessage(f'{response}')]}"
   ]
  },
  {
   "cell_type": "code",
   "execution_count": 19,
   "metadata": {},
   "outputs": [],
   "source": [
    "\n",
    "def mail_manager_node(state: State):\n",
    "    \"\"\"Tool to use to answer any email related queries\n",
    "    this tool can:\n",
    "    get new mail\n",
    "    show the inbox\n",
    "    get a specific mail's content to display\n",
    "    create a draft of a new mail\n",
    "    create an email\n",
    "    verify the email content\n",
    "    send the email\n",
    "    list all the drafts\n",
    "    args: query - pass the email related queries directly here\n",
    "    \"\"\"\n",
    "    response=mail_agent.chat(state.get('node_query'))\n",
    "    # return response\n",
    "    return {'node_messages':[AIMessage(f'{response}')]}"
   ]
  },
  {
   "cell_type": "code",
   "execution_count": 20,
   "metadata": {},
   "outputs": [],
   "source": [
    "\n",
    "def calendar_manager_node(state: State):\n",
    "    \"\"\"tool to use to answere any calendar or schedule related queries\n",
    "    this tool can:\n",
    "    create recuring events\n",
    "    create quick events\n",
    "    refresh the calendar\n",
    "    show the calendar\n",
    "    args: query - pass the entire calendar related queries directly here\n",
    "    \"\"\"\n",
    "    response=calendar_agent.chat(state.get('node_query'))\n",
    "    # return response\n",
    "    return {'node_messages':[AIMessage(f'{response}')]}"
   ]
  },
  {
   "cell_type": "code",
   "execution_count": 21,
   "metadata": {},
   "outputs": [],
   "source": [
    "class google_agent:\n",
    "    def __init__(self,llm: any):\n",
    "        self.agent=self._setup(llm)\n",
    "    def _setup(self,llm):\n",
    "   \n",
    "        graph_builder = StateGraph(State)\n",
    "\n",
    "        # Modification: tell the LLM which tools it can call\n",
    "\n",
    "        graph_builder.add_node(\"planner\", planner_node)\n",
    "        graph_builder.add_node('calendar_manager', calendar_manager_node)\n",
    "        graph_builder.add_node('mail_manager',mail_manager_node)\n",
    "        graph_builder.add_node('tasks_manager',tasks_manager_node)\n",
    "        graph_builder.add_node('contacts_manager',contacts_manager_node)\n",
    "        graph_builder.add_node('maps_manager',maps_manager_node)\n",
    "        graph_builder.add_node('google_image_tool',google_image_search_node)\n",
    "        graph_builder.add_node('evaluator', evaluator_node)\n",
    "        \n",
    "        graph_builder.add_node(\"agent\", agent_node)\n",
    "        # Any time a tool is called, we return to the chatbot to decide the next step\n",
    "        graph_builder.add_edge(START,'planner')\n",
    "        graph_builder.add_edge(\"planner\", \"agent\")\n",
    "        graph_builder.add_edge(\"maps_manager\", \"evaluator\")\n",
    "        graph_builder.add_edge('tasks_manager','evaluator')\n",
    "        graph_builder.add_edge('mail_manager','evaluator')\n",
    "        graph_builder.add_edge('google_image_tool','evaluator')\n",
    "        graph_builder.add_edge('contacts_manager','evaluator')\n",
    "        graph_builder.add_edge('calendar_manager','evaluator')\n",
    "        graph_builder.add_edge('evaluator', 'agent')\n",
    "        graph_builder.add_conditional_edges(\n",
    "            \"agent\",\n",
    "            router,{\n",
    "            'to_maps_manager': 'maps_manager',\n",
    "            'to_google_image_tool': 'google_image_tool',\n",
    "            'to_contact_manager': 'contacts_manager',\n",
    "            'to_tasks_manager': 'tasks_manager',\n",
    "            'to_mail_manager': 'mail_manager',\n",
    "            'to_calendar_manager': 'calendar_manager',\n",
    "            'to_end': END\n",
    "            }\n",
    "        )\n",
    "        memory=MemorySaver()\n",
    "        graph=graph_builder.compile(checkpointer=memory,store=store)\n",
    "        return graph\n",
    "        \n",
    "\n",
    "    def display_graph(self):\n",
    "        return display(\n",
    "                        Image(\n",
    "                                self.agent.get_graph().draw_mermaid_png(\n",
    "                                    draw_method=MermaidDrawMethod.API,\n",
    "                                )\n",
    "                            )\n",
    "                        )\n",
    "    def chat(self,input:str):\n",
    "        config = {\"configurable\": {\"thread_id\": \"1\"}}\n",
    "        response=self.agent.invoke({'query':input,\n",
    "                                    'num_retries':0},config)\n",
    "        return response\n",
    "\n",
    "    def stream(self,input:str):\n",
    "        config = {\"configurable\": {\"thread_id\": \"1\"}}\n",
    "        for event in self.agent.stream({'query':input,\n",
    "                                        'num_retries':0}, config, stream_mode=\"updates\"):\n",
    "            print(event)\n",
    "    \n",
    "    def get_state(self, state_val:str):\n",
    "        config = {\"configurable\": {\"thread_id\": \"1\"}}\n",
    "        return self.agent.get_state(config).values[state_val]"
   ]
  },
  {
   "cell_type": "code",
   "execution_count": 22,
   "metadata": {},
   "outputs": [],
   "source": [
    "agent=google_agent(llm)"
   ]
  },
  {
   "cell_type": "code",
   "execution_count": 23,
   "metadata": {},
   "outputs": [
    {
     "name": "stdout",
     "output_type": "stream",
     "text": [
      "{'planner': {'plan': [{'task': 'Get the email address of Tristan Padious.', 'manager_tool': 'Contacts Manager', 'action': 'get contact details'}, {'task': 'Get an image of a blue cat.', 'manager_tool': 'Google images tool', 'action': 'get image'}, {'task': 'Create an email to Tristan Padious with the image of the blue cat.', 'manager_tool': 'Mail Manager', 'action': 'create email'}, {'task': 'Send the email to Tristan Padious.', 'manager_tool': 'Mail Manager', 'action': 'send email'}]}}\n",
      "{'agent': {'node_query': 'email address of Tristan Padious'}}\n",
      "{'contacts_manager': {'node_messages': [AIMessage(content=\"{'query': 'email address of Tristan Padious', 'contacts': {'Tristan Padiou': {'resourcename': 'people/c1444037682365792704', 'etag': '%EgUBAi43PRoEAQIFByIMVkV1eDhZS1d6WUE9'}, 'Giselle Bogs': {'resourcename': 'people/c773801861794169656', 'etag': '%EgUBAi43PRoEAQIFByIMQ2J5RjZJWWxHc3M9'}, 'pascale padiou': {'resourcename': 'people/c9136797831542164705', 'etag': '%EgUBAi43PRoEAQIFByIMN1cxbFQzOXI1c0U9'}, 'Johnny Doe': {'resourcename': 'people/c7610783302568859438', 'etag': '%EgUBAi43PRoEAQIFByIMak5sN0tJcitYeWM9'}}, 'contact_details': {'resourceName': 'people/c1444037682365792704', 'etag': '%Eg0BAgUHCQsQLjc9Pj9AGgQBAgUHIgxWRXV4OFlLV3pZQT0=', 'names': [{'metadata': {'primary': True, 'source': {'type': 'CONTACT', 'id': '140a409f0bb101c0'}, 'sourcePrimary': True}, 'displayName': 'Tristan Padiou', 'familyName': 'Padiou', 'givenName': 'Tristan', 'displayNameLastFirst': 'Padiou, Tristan', 'unstructuredName': 'Tristan Padiou'}], 'addresses': [{'metadata': {'primary': True, 'source': {'type': 'CONTACT', 'id': '140a409f0bb101c0'}}, 'formattedValue': '524w 19th st\\\\napt 4 e, NYC, NY 10011\\\\nUSA', 'type': 'home', 'formattedType': 'Home', 'streetAddress': '524w 19th st', 'extendedAddress': 'apt 4 e', 'city': 'NYC', 'region': 'NY', 'postalCode': '10011', 'country': 'USA'}], 'emailAddresses': [{'metadata': {'primary': True, 'source': {'type': 'CONTACT', 'id': '140a409f0bb101c0'}, 'sourcePrimary': True}, 'value': 'padioutristan@gmail.com', 'type': 'other', 'formattedType': 'Other', 'displayName': 'padioutristan@gmail.com'}]}, 'route': 'get_contact_details'}\", additional_kwargs={}, response_metadata={}, id='6a145d24-3977-485c-b931-da631c82f25e')]}}\n",
      "{'evaluator': {'num_retries': 0, 'plan': [{'task': 'Get an image of a blue cat.', 'manager_tool': 'Google images tool', 'action': 'get image'}, {'task': 'Create an email to Tristan Padious with the image of the blue cat.', 'manager_tool': 'Mail Manager', 'action': 'create email'}, {'task': 'Send the email to Tristan Padious.', 'manager_tool': 'Mail Manager', 'action': 'send email'}]}}\n",
      "{'agent': {'node_query': 'blue cat'}}\n",
      "{'google_image_tool': {'node_messages': ' here is the url for the image https://hips.hearstapps.com/hmg-prod/images/rassekatze-british-kurzhaar-blue-auch-kartaeuser-isa-vom-news-photo-1729702738.jpg?crop=1xw:0.99121xh;center,top&resize=980:*'}}\n",
      "{'evaluator': {'num_retries': 0, 'plan': [{'task': 'Create an email to Tristan Padious with the image of the blue cat.', 'manager_tool': 'Mail Manager', 'action': 'create email'}, {'task': 'Send the email to Tristan Padious.', 'manager_tool': 'Mail Manager', 'action': 'send email'}]}}\n",
      "{'agent': {'node_query': 'To: padioutristan@gmail.com\\nSubject: Blue Cat Image\\nBody: Please find attached the image of the blue cat: https://hips.hearstapps.com/hmg-prod/images/rassekatze-british-kurzhaar-blue-auch-kartaeuser-isa-vom-news-photo-1729702738.jpg?crop=1xw:0.99121xh;center,top&resize=980:*\\n'}}\n",
      "{'mail_manager': {'node_messages': [AIMessage(content='I can create a draft with the content you provided. Do you want me to do that?', additional_kwargs={}, response_metadata={}, id='89dfa811-845b-4d42-8747-ad976a729032')]}}\n",
      "{'evaluator': {'num_retries': 0, 'plan': [{'task': 'Send the email to Tristan Padious.', 'manager_tool': 'Mail Manager', 'action': 'send email'}]}}\n",
      "{'agent': {'node_query': 'Send email to padioutristan@gmail.com.'}}\n",
      "{'mail_manager': {'node_messages': [AIMessage(content='I can create a draft with the content you provided and then send it. Do you want me to do that?', additional_kwargs={}, response_metadata={}, id='bd6b9d52-72f0-45f3-879e-308df47c42d8')]}}\n",
      "{'evaluator': {'num_retries': 0, 'plan': []}}\n"
     ]
    },
    {
     "ename": "IndexError",
     "evalue": "list index out of range",
     "output_type": "error",
     "traceback": [
      "\u001b[1;31m---------------------------------------------------------------------------\u001b[0m",
      "\u001b[1;31mIndexError\u001b[0m                                Traceback (most recent call last)",
      "Cell \u001b[1;32mIn[23], line 1\u001b[0m\n\u001b[1;32m----> 1\u001b[0m \u001b[43magent\u001b[49m\u001b[38;5;241;43m.\u001b[39;49m\u001b[43mstream\u001b[49m\u001b[43m(\u001b[49m\u001b[38;5;124;43m'\u001b[39;49m\u001b[38;5;124;43mget an image of a blue cat and send it to tristan padious email address\u001b[39;49m\u001b[38;5;124;43m'\u001b[39;49m\u001b[43m)\u001b[49m\n",
      "Cell \u001b[1;32mIn[21], line 63\u001b[0m, in \u001b[0;36mgoogle_agent.stream\u001b[1;34m(self, input)\u001b[0m\n\u001b[0;32m     61\u001b[0m \u001b[38;5;28;01mdef\u001b[39;00m\u001b[38;5;250m \u001b[39m\u001b[38;5;21mstream\u001b[39m(\u001b[38;5;28mself\u001b[39m,\u001b[38;5;28minput\u001b[39m:\u001b[38;5;28mstr\u001b[39m):\n\u001b[0;32m     62\u001b[0m     config \u001b[38;5;241m=\u001b[39m {\u001b[38;5;124m\"\u001b[39m\u001b[38;5;124mconfigurable\u001b[39m\u001b[38;5;124m\"\u001b[39m: {\u001b[38;5;124m\"\u001b[39m\u001b[38;5;124mthread_id\u001b[39m\u001b[38;5;124m\"\u001b[39m: \u001b[38;5;124m\"\u001b[39m\u001b[38;5;124m1\u001b[39m\u001b[38;5;124m\"\u001b[39m}}\n\u001b[1;32m---> 63\u001b[0m \u001b[43m    \u001b[49m\u001b[38;5;28;43;01mfor\u001b[39;49;00m\u001b[43m \u001b[49m\u001b[43mevent\u001b[49m\u001b[43m \u001b[49m\u001b[38;5;129;43;01min\u001b[39;49;00m\u001b[43m \u001b[49m\u001b[38;5;28;43mself\u001b[39;49m\u001b[38;5;241;43m.\u001b[39;49m\u001b[43magent\u001b[49m\u001b[38;5;241;43m.\u001b[39;49m\u001b[43mstream\u001b[49m\u001b[43m(\u001b[49m\u001b[43m{\u001b[49m\u001b[38;5;124;43m'\u001b[39;49m\u001b[38;5;124;43mquery\u001b[39;49m\u001b[38;5;124;43m'\u001b[39;49m\u001b[43m:\u001b[49m\u001b[38;5;28;43minput\u001b[39;49m\u001b[43m,\u001b[49m\n\u001b[0;32m     64\u001b[0m \u001b[43m                                    \u001b[49m\u001b[38;5;124;43m'\u001b[39;49m\u001b[38;5;124;43mnum_retries\u001b[39;49m\u001b[38;5;124;43m'\u001b[39;49m\u001b[43m:\u001b[49m\u001b[38;5;241;43m0\u001b[39;49m\u001b[43m}\u001b[49m\u001b[43m,\u001b[49m\u001b[43m \u001b[49m\u001b[43mconfig\u001b[49m\u001b[43m,\u001b[49m\u001b[43m \u001b[49m\u001b[43mstream_mode\u001b[49m\u001b[38;5;241;43m=\u001b[39;49m\u001b[38;5;124;43m\"\u001b[39;49m\u001b[38;5;124;43mupdates\u001b[39;49m\u001b[38;5;124;43m\"\u001b[39;49m\u001b[43m)\u001b[49m\u001b[43m:\u001b[49m\n\u001b[0;32m     65\u001b[0m \u001b[43m        \u001b[49m\u001b[38;5;28;43mprint\u001b[39;49m\u001b[43m(\u001b[49m\u001b[43mevent\u001b[49m\u001b[43m)\u001b[49m\n",
      "File \u001b[1;32mc:\\Users\\padio\\Desktop\\important\\AI portfolio\\Google_AI_Agent\\.venv\\Lib\\site-packages\\langgraph\\pregel\\__init__.py:1993\u001b[0m, in \u001b[0;36mPregel.stream\u001b[1;34m(self, input, config, stream_mode, output_keys, interrupt_before, interrupt_after, debug, subgraphs)\u001b[0m\n\u001b[0;32m   1987\u001b[0m     \u001b[38;5;66;03m# Similarly to Bulk Synchronous Parallel / Pregel model\u001b[39;00m\n\u001b[0;32m   1988\u001b[0m     \u001b[38;5;66;03m# computation proceeds in steps, while there are channel updates.\u001b[39;00m\n\u001b[0;32m   1989\u001b[0m     \u001b[38;5;66;03m# Channel updates from step N are only visible in step N+1\u001b[39;00m\n\u001b[0;32m   1990\u001b[0m     \u001b[38;5;66;03m# channels are guaranteed to be immutable for the duration of the step,\u001b[39;00m\n\u001b[0;32m   1991\u001b[0m     \u001b[38;5;66;03m# with channel updates applied only at the transition between steps.\u001b[39;00m\n\u001b[0;32m   1992\u001b[0m     \u001b[38;5;28;01mwhile\u001b[39;00m loop\u001b[38;5;241m.\u001b[39mtick(input_keys\u001b[38;5;241m=\u001b[39m\u001b[38;5;28mself\u001b[39m\u001b[38;5;241m.\u001b[39minput_channels):\n\u001b[1;32m-> 1993\u001b[0m \u001b[43m        \u001b[49m\u001b[38;5;28;43;01mfor\u001b[39;49;00m\u001b[43m \u001b[49m\u001b[43m_\u001b[49m\u001b[43m \u001b[49m\u001b[38;5;129;43;01min\u001b[39;49;00m\u001b[43m \u001b[49m\u001b[43mrunner\u001b[49m\u001b[38;5;241;43m.\u001b[39;49m\u001b[43mtick\u001b[49m\u001b[43m(\u001b[49m\n\u001b[0;32m   1994\u001b[0m \u001b[43m            \u001b[49m\u001b[43mloop\u001b[49m\u001b[38;5;241;43m.\u001b[39;49m\u001b[43mtasks\u001b[49m\u001b[38;5;241;43m.\u001b[39;49m\u001b[43mvalues\u001b[49m\u001b[43m(\u001b[49m\u001b[43m)\u001b[49m\u001b[43m,\u001b[49m\n\u001b[0;32m   1995\u001b[0m \u001b[43m            \u001b[49m\u001b[43mtimeout\u001b[49m\u001b[38;5;241;43m=\u001b[39;49m\u001b[38;5;28;43mself\u001b[39;49m\u001b[38;5;241;43m.\u001b[39;49m\u001b[43mstep_timeout\u001b[49m\u001b[43m,\u001b[49m\n\u001b[0;32m   1996\u001b[0m \u001b[43m            \u001b[49m\u001b[43mretry_policy\u001b[49m\u001b[38;5;241;43m=\u001b[39;49m\u001b[38;5;28;43mself\u001b[39;49m\u001b[38;5;241;43m.\u001b[39;49m\u001b[43mretry_policy\u001b[49m\u001b[43m,\u001b[49m\n\u001b[0;32m   1997\u001b[0m \u001b[43m            \u001b[49m\u001b[43mget_waiter\u001b[49m\u001b[38;5;241;43m=\u001b[39;49m\u001b[43mget_waiter\u001b[49m\u001b[43m,\u001b[49m\n\u001b[0;32m   1998\u001b[0m \u001b[43m        \u001b[49m\u001b[43m)\u001b[49m\u001b[43m:\u001b[49m\n\u001b[0;32m   1999\u001b[0m \u001b[43m            \u001b[49m\u001b[38;5;66;43;03m# emit output\u001b[39;49;00m\n\u001b[0;32m   2000\u001b[0m \u001b[43m            \u001b[49m\u001b[38;5;28;43;01myield from\u001b[39;49;00m\u001b[43m \u001b[49m\u001b[43moutput\u001b[49m\u001b[43m(\u001b[49m\u001b[43m)\u001b[49m\n\u001b[0;32m   2001\u001b[0m \u001b[38;5;66;03m# emit output\u001b[39;00m\n",
      "File \u001b[1;32mc:\\Users\\padio\\Desktop\\important\\AI portfolio\\Google_AI_Agent\\.venv\\Lib\\site-packages\\langgraph\\pregel\\runner.py:230\u001b[0m, in \u001b[0;36mPregelRunner.tick\u001b[1;34m(self, tasks, reraise, timeout, retry_policy, get_waiter)\u001b[0m\n\u001b[0;32m    228\u001b[0m t \u001b[38;5;241m=\u001b[39m tasks[\u001b[38;5;241m0\u001b[39m]\n\u001b[0;32m    229\u001b[0m \u001b[38;5;28;01mtry\u001b[39;00m:\n\u001b[1;32m--> 230\u001b[0m     \u001b[43mrun_with_retry\u001b[49m\u001b[43m(\u001b[49m\n\u001b[0;32m    231\u001b[0m \u001b[43m        \u001b[49m\u001b[43mt\u001b[49m\u001b[43m,\u001b[49m\n\u001b[0;32m    232\u001b[0m \u001b[43m        \u001b[49m\u001b[43mretry_policy\u001b[49m\u001b[43m,\u001b[49m\n\u001b[0;32m    233\u001b[0m \u001b[43m        \u001b[49m\u001b[43mconfigurable\u001b[49m\u001b[38;5;241;43m=\u001b[39;49m\u001b[43m{\u001b[49m\n\u001b[0;32m    234\u001b[0m \u001b[43m            \u001b[49m\u001b[43mCONFIG_KEY_SEND\u001b[49m\u001b[43m:\u001b[49m\u001b[43m \u001b[49m\u001b[43mpartial\u001b[49m\u001b[43m(\u001b[49m\u001b[43mwriter\u001b[49m\u001b[43m,\u001b[49m\u001b[43m \u001b[49m\u001b[43mt\u001b[49m\u001b[43m)\u001b[49m\u001b[43m,\u001b[49m\n\u001b[0;32m    235\u001b[0m \u001b[43m            \u001b[49m\u001b[43mCONFIG_KEY_CALL\u001b[49m\u001b[43m:\u001b[49m\u001b[43m \u001b[49m\u001b[43mpartial\u001b[49m\u001b[43m(\u001b[49m\u001b[43mcall\u001b[49m\u001b[43m,\u001b[49m\u001b[43m \u001b[49m\u001b[43mt\u001b[49m\u001b[43m)\u001b[49m\u001b[43m,\u001b[49m\n\u001b[0;32m    236\u001b[0m \u001b[43m        \u001b[49m\u001b[43m}\u001b[49m\u001b[43m,\u001b[49m\n\u001b[0;32m    237\u001b[0m \u001b[43m    \u001b[49m\u001b[43m)\u001b[49m\n\u001b[0;32m    238\u001b[0m     \u001b[38;5;28mself\u001b[39m\u001b[38;5;241m.\u001b[39mcommit(t, \u001b[38;5;28;01mNone\u001b[39;00m)\n\u001b[0;32m    239\u001b[0m \u001b[38;5;28;01mexcept\u001b[39;00m \u001b[38;5;167;01mException\u001b[39;00m \u001b[38;5;28;01mas\u001b[39;00m exc:\n",
      "File \u001b[1;32mc:\\Users\\padio\\Desktop\\important\\AI portfolio\\Google_AI_Agent\\.venv\\Lib\\site-packages\\langgraph\\pregel\\retry.py:40\u001b[0m, in \u001b[0;36mrun_with_retry\u001b[1;34m(task, retry_policy, configurable)\u001b[0m\n\u001b[0;32m     38\u001b[0m     task\u001b[38;5;241m.\u001b[39mwrites\u001b[38;5;241m.\u001b[39mclear()\n\u001b[0;32m     39\u001b[0m     \u001b[38;5;66;03m# run the task\u001b[39;00m\n\u001b[1;32m---> 40\u001b[0m     \u001b[38;5;28;01mreturn\u001b[39;00m \u001b[43mtask\u001b[49m\u001b[38;5;241;43m.\u001b[39;49m\u001b[43mproc\u001b[49m\u001b[38;5;241;43m.\u001b[39;49m\u001b[43minvoke\u001b[49m\u001b[43m(\u001b[49m\u001b[43mtask\u001b[49m\u001b[38;5;241;43m.\u001b[39;49m\u001b[43minput\u001b[49m\u001b[43m,\u001b[49m\u001b[43m \u001b[49m\u001b[43mconfig\u001b[49m\u001b[43m)\u001b[49m\n\u001b[0;32m     41\u001b[0m \u001b[38;5;28;01mexcept\u001b[39;00m ParentCommand \u001b[38;5;28;01mas\u001b[39;00m exc:\n\u001b[0;32m     42\u001b[0m     ns: \u001b[38;5;28mstr\u001b[39m \u001b[38;5;241m=\u001b[39m config[CONF][CONFIG_KEY_CHECKPOINT_NS]\n",
      "File \u001b[1;32mc:\\Users\\padio\\Desktop\\important\\AI portfolio\\Google_AI_Agent\\.venv\\Lib\\site-packages\\langgraph\\utils\\runnable.py:546\u001b[0m, in \u001b[0;36mRunnableSeq.invoke\u001b[1;34m(self, input, config, **kwargs)\u001b[0m\n\u001b[0;32m    542\u001b[0m config \u001b[38;5;241m=\u001b[39m patch_config(\n\u001b[0;32m    543\u001b[0m     config, callbacks\u001b[38;5;241m=\u001b[39mrun_manager\u001b[38;5;241m.\u001b[39mget_child(\u001b[38;5;124mf\u001b[39m\u001b[38;5;124m\"\u001b[39m\u001b[38;5;124mseq:step:\u001b[39m\u001b[38;5;132;01m{\u001b[39;00mi\u001b[38;5;250m \u001b[39m\u001b[38;5;241m+\u001b[39m\u001b[38;5;250m \u001b[39m\u001b[38;5;241m1\u001b[39m\u001b[38;5;132;01m}\u001b[39;00m\u001b[38;5;124m\"\u001b[39m)\n\u001b[0;32m    544\u001b[0m )\n\u001b[0;32m    545\u001b[0m \u001b[38;5;28;01mif\u001b[39;00m i \u001b[38;5;241m==\u001b[39m \u001b[38;5;241m0\u001b[39m:\n\u001b[1;32m--> 546\u001b[0m     \u001b[38;5;28minput\u001b[39m \u001b[38;5;241m=\u001b[39m \u001b[43mstep\u001b[49m\u001b[38;5;241;43m.\u001b[39;49m\u001b[43minvoke\u001b[49m\u001b[43m(\u001b[49m\u001b[38;5;28;43minput\u001b[39;49m\u001b[43m,\u001b[49m\u001b[43m \u001b[49m\u001b[43mconfig\u001b[49m\u001b[43m,\u001b[49m\u001b[43m \u001b[49m\u001b[38;5;241;43m*\u001b[39;49m\u001b[38;5;241;43m*\u001b[39;49m\u001b[43mkwargs\u001b[49m\u001b[43m)\u001b[49m\n\u001b[0;32m    547\u001b[0m \u001b[38;5;28;01melse\u001b[39;00m:\n\u001b[0;32m    548\u001b[0m     \u001b[38;5;28minput\u001b[39m \u001b[38;5;241m=\u001b[39m step\u001b[38;5;241m.\u001b[39minvoke(\u001b[38;5;28minput\u001b[39m, config)\n",
      "File \u001b[1;32mc:\\Users\\padio\\Desktop\\important\\AI portfolio\\Google_AI_Agent\\.venv\\Lib\\site-packages\\langgraph\\utils\\runnable.py:310\u001b[0m, in \u001b[0;36mRunnableCallable.invoke\u001b[1;34m(self, input, config, **kwargs)\u001b[0m\n\u001b[0;32m    308\u001b[0m \u001b[38;5;28;01melse\u001b[39;00m:\n\u001b[0;32m    309\u001b[0m     context\u001b[38;5;241m.\u001b[39mrun(_set_config_context, config)\n\u001b[1;32m--> 310\u001b[0m     ret \u001b[38;5;241m=\u001b[39m \u001b[43mcontext\u001b[49m\u001b[38;5;241;43m.\u001b[39;49m\u001b[43mrun\u001b[49m\u001b[43m(\u001b[49m\u001b[38;5;28;43mself\u001b[39;49m\u001b[38;5;241;43m.\u001b[39;49m\u001b[43mfunc\u001b[49m\u001b[43m,\u001b[49m\u001b[43m \u001b[49m\u001b[38;5;241;43m*\u001b[39;49m\u001b[43margs\u001b[49m\u001b[43m,\u001b[49m\u001b[43m \u001b[49m\u001b[38;5;241;43m*\u001b[39;49m\u001b[38;5;241;43m*\u001b[39;49m\u001b[43mkwargs\u001b[49m\u001b[43m)\u001b[49m\n\u001b[0;32m    311\u001b[0m \u001b[38;5;28;01mif\u001b[39;00m \u001b[38;5;28misinstance\u001b[39m(ret, Runnable) \u001b[38;5;129;01mand\u001b[39;00m \u001b[38;5;28mself\u001b[39m\u001b[38;5;241m.\u001b[39mrecurse:\n\u001b[0;32m    312\u001b[0m     \u001b[38;5;28;01mreturn\u001b[39;00m ret\u001b[38;5;241m.\u001b[39minvoke(\u001b[38;5;28minput\u001b[39m, config)\n",
      "Cell \u001b[1;32mIn[11], line 20\u001b[0m, in \u001b[0;36magent_node\u001b[1;34m(state)\u001b[0m\n\u001b[0;32m     11\u001b[0m prompt \u001b[38;5;241m=\u001b[39m PromptTemplate(\n\u001b[0;32m     12\u001b[0m template\u001b[38;5;241m=\u001b[39m\u001b[38;5;124m\"\u001b[39m\u001b[38;5;124mAnswer the user query.\u001b[39m\u001b[38;5;130;01m\\n\u001b[39;00m\u001b[38;5;132;01m{format_instructions}\u001b[39;00m\u001b[38;5;130;01m\\n\u001b[39;00m\u001b[38;5;132;01m{query}\u001b[39;00m\u001b[38;5;130;01m\\n\u001b[39;00m\u001b[38;5;124m\"\u001b[39m,\n\u001b[0;32m     13\u001b[0m input_variables\u001b[38;5;241m=\u001b[39m[\u001b[38;5;124m\"\u001b[39m\u001b[38;5;124mquery\u001b[39m\u001b[38;5;124m\"\u001b[39m],\n\u001b[0;32m     14\u001b[0m partial_variables\u001b[38;5;241m=\u001b[39m{\u001b[38;5;124m\"\u001b[39m\u001b[38;5;124mformat_instructions\u001b[39m\u001b[38;5;124m\"\u001b[39m: parser\u001b[38;5;241m.\u001b[39mget_format_instructions()},\n\u001b[0;32m     15\u001b[0m )\n\u001b[0;32m     18\u001b[0m chain \u001b[38;5;241m=\u001b[39m prompt \u001b[38;5;241m|\u001b[39m llm \n\u001b[1;32m---> 20\u001b[0m response\u001b[38;5;241m=\u001b[39mchain\u001b[38;5;241m.\u001b[39minvoke({\u001b[38;5;124m'\u001b[39m\u001b[38;5;124mquery\u001b[39m\u001b[38;5;124m'\u001b[39m:\u001b[38;5;124mf\u001b[39m\u001b[38;5;124m'\u001b[39m\u001b[38;5;124mbased on this task: \u001b[39m\u001b[38;5;132;01m{\u001b[39;00m\u001b[43mplan\u001b[49m\u001b[43m[\u001b[49m\u001b[38;5;241;43m0\u001b[39;49m\u001b[43m]\u001b[49m\u001b[38;5;132;01m}\u001b[39;00m\u001b[38;5;124m generate a query to be passed to the manager_tool mentionned in the task, use the informations from previous nodes \u001b[39m\u001b[38;5;132;01m{\u001b[39;00mstate\u001b[38;5;241m.\u001b[39mget(\u001b[38;5;124m'\u001b[39m\u001b[38;5;124mnode_messages\u001b[39m\u001b[38;5;124m'\u001b[39m)\u001b[38;5;132;01m}\u001b[39;00m\u001b[38;5;124m, if there are no tasks left return END\u001b[39m\u001b[38;5;124m'\u001b[39m}) \n\u001b[0;32m     21\u001b[0m \u001b[38;5;28;01mtry\u001b[39;00m:\n\u001b[0;32m     22\u001b[0m     response\u001b[38;5;241m=\u001b[39mparser\u001b[38;5;241m.\u001b[39mparse(response\u001b[38;5;241m.\u001b[39mcontent)\n",
      "\u001b[1;31mIndexError\u001b[0m: list index out of range",
      "\u001b[0mDuring task with name 'agent' and id '76096c05-1879-24ed-5450-bcebeaa9bf94'"
     ]
    }
   ],
   "source": [
    "agent.stream('get an image of a blue cat and send it to tristan padious email address')"
   ]
  },
  {
   "cell_type": "code",
   "execution_count": null,
   "metadata": {},
   "outputs": [
    {
     "ename": "ValueError",
     "evalue": "Message dict must contain 'role' and 'content' keys, got {'query': 'email address of Tristan Padious', 'contacts': {'Tristan Padiou': {'resourcename': 'people/c1444037682365792704', 'etag': '%EgUBAi43PRoEAQIFByIMVkV1eDhZS1d6WUE9'}, 'Giselle Bogs': {'resourcename': 'people/c773801861794169656', 'etag': '%EgUBAi43PRoEAQIFByIMQ2J5RjZJWWxHc3M9'}, 'pascale padiou': {'resourcename': 'people/c9136797831542164705', 'etag': '%EgUBAi43PRoEAQIFByIMN1cxbFQzOXI1c0U9'}, 'Johnny Doe': {'resourcename': 'people/c7610783302568859438', 'etag': '%EgUBAi43PRoEAQIFByIMak5sN0tJcitYeWM9'}}, 'contact_details': {'resourceName': 'people/c1444037682365792704', 'etag': '%Eg0BAgUHCQsQLjc9Pj9AGgQBAgUHIgxWRXV4OFlLV3pZQT0=', 'names': [{'metadata': {'primary': True, 'source': {'type': 'CONTACT', 'id': '140a409f0bb101c0'}, 'sourcePrimary': True}, 'displayName': 'Tristan Padiou', 'familyName': 'Padiou', 'givenName': 'Tristan', 'displayNameLastFirst': 'Padiou, Tristan', 'unstructuredName': 'Tristan Padiou'}], 'addresses': [{'metadata': {'primary': True, 'source': {'type': 'CONTACT', 'id': '140a409f0bb101c0'}}, 'formattedValue': '524w 19th st\\napt 4 e, NYC, NY 10011\\nUSA', 'type': 'home', 'formattedType': 'Home', 'streetAddress': '524w 19th st', 'extendedAddress': 'apt 4 e', 'city': 'NYC', 'region': 'NY', 'postalCode': '10011', 'country': 'USA'}], 'emailAddresses': [{'metadata': {'primary': True, 'source': {'type': 'CONTACT', 'id': '140a409f0bb101c0'}, 'sourcePrimary': True}, 'value': 'padioutristan@gmail.com', 'type': 'other', 'formattedType': 'Other', 'displayName': 'padioutristan@gmail.com'}]}, 'route': 'get_contact_details'}\nFor troubleshooting, visit: https://python.langchain.com/docs/troubleshooting/errors/MESSAGE_COERCION_FAILURE ",
     "output_type": "error",
     "traceback": [
      "\u001b[1;31m---------------------------------------------------------------------------\u001b[0m",
      "\u001b[1;31mKeyError\u001b[0m                                  Traceback (most recent call last)",
      "File \u001b[1;32mc:\\Users\\padio\\Desktop\\important\\AI portfolio\\Google_AI_Agent\\.venv\\Lib\\site-packages\\langchain_core\\messages\\utils.py:326\u001b[0m, in \u001b[0;36m_convert_to_message\u001b[1;34m(message)\u001b[0m\n\u001b[0;32m    325\u001b[0m \u001b[38;5;28;01mtry\u001b[39;00m:\n\u001b[1;32m--> 326\u001b[0m     msg_type \u001b[38;5;241m=\u001b[39m \u001b[43mmsg_kwargs\u001b[49m\u001b[38;5;241;43m.\u001b[39;49m\u001b[43mpop\u001b[49m\u001b[43m(\u001b[49m\u001b[38;5;124;43m\"\u001b[39;49m\u001b[38;5;124;43mrole\u001b[39;49m\u001b[38;5;124;43m\"\u001b[39;49m\u001b[43m)\u001b[49m\n\u001b[0;32m    327\u001b[0m \u001b[38;5;28;01mexcept\u001b[39;00m \u001b[38;5;167;01mKeyError\u001b[39;00m:\n",
      "\u001b[1;31mKeyError\u001b[0m: 'role'",
      "\nDuring handling of the above exception, another exception occurred:\n",
      "\u001b[1;31mKeyError\u001b[0m                                  Traceback (most recent call last)",
      "File \u001b[1;32mc:\\Users\\padio\\Desktop\\important\\AI portfolio\\Google_AI_Agent\\.venv\\Lib\\site-packages\\langchain_core\\messages\\utils.py:328\u001b[0m, in \u001b[0;36m_convert_to_message\u001b[1;34m(message)\u001b[0m\n\u001b[0;32m    327\u001b[0m \u001b[38;5;28;01mexcept\u001b[39;00m \u001b[38;5;167;01mKeyError\u001b[39;00m:\n\u001b[1;32m--> 328\u001b[0m     msg_type \u001b[38;5;241m=\u001b[39m \u001b[43mmsg_kwargs\u001b[49m\u001b[38;5;241;43m.\u001b[39;49m\u001b[43mpop\u001b[49m\u001b[43m(\u001b[49m\u001b[38;5;124;43m\"\u001b[39;49m\u001b[38;5;124;43mtype\u001b[39;49m\u001b[38;5;124;43m\"\u001b[39;49m\u001b[43m)\u001b[49m\n\u001b[0;32m    329\u001b[0m \u001b[38;5;66;03m# None msg content is not allowed\u001b[39;00m\n",
      "\u001b[1;31mKeyError\u001b[0m: 'type'",
      "\nThe above exception was the direct cause of the following exception:\n",
      "\u001b[1;31mValueError\u001b[0m                                Traceback (most recent call last)",
      "Cell \u001b[1;32mIn[28], line 1\u001b[0m\n\u001b[1;32m----> 1\u001b[0m messages\u001b[38;5;241m=\u001b[39m\u001b[43magent\u001b[49m\u001b[38;5;241;43m.\u001b[39;49m\u001b[43mget_state\u001b[49m\u001b[43m(\u001b[49m\u001b[43mstate_val\u001b[49m\u001b[38;5;241;43m=\u001b[39;49m\u001b[38;5;124;43m'\u001b[39;49m\u001b[38;5;124;43mquery\u001b[39;49m\u001b[38;5;124;43m'\u001b[39;49m\u001b[43m)\u001b[49m\n",
      "Cell \u001b[1;32mIn[21], line 69\u001b[0m, in \u001b[0;36mgoogle_agent.get_state\u001b[1;34m(self, state_val)\u001b[0m\n\u001b[0;32m     67\u001b[0m \u001b[38;5;28;01mdef\u001b[39;00m\u001b[38;5;250m \u001b[39m\u001b[38;5;21mget_state\u001b[39m(\u001b[38;5;28mself\u001b[39m, state_val:\u001b[38;5;28mstr\u001b[39m):\n\u001b[0;32m     68\u001b[0m     config \u001b[38;5;241m=\u001b[39m {\u001b[38;5;124m\"\u001b[39m\u001b[38;5;124mconfigurable\u001b[39m\u001b[38;5;124m\"\u001b[39m: {\u001b[38;5;124m\"\u001b[39m\u001b[38;5;124mthread_id\u001b[39m\u001b[38;5;124m\"\u001b[39m: \u001b[38;5;124m\"\u001b[39m\u001b[38;5;124m1\u001b[39m\u001b[38;5;124m\"\u001b[39m}}\n\u001b[1;32m---> 69\u001b[0m     \u001b[38;5;28;01mreturn\u001b[39;00m \u001b[38;5;28;43mself\u001b[39;49m\u001b[38;5;241;43m.\u001b[39;49m\u001b[43magent\u001b[49m\u001b[38;5;241;43m.\u001b[39;49m\u001b[43mget_state\u001b[49m\u001b[43m(\u001b[49m\u001b[43mconfig\u001b[49m\u001b[43m)\u001b[49m\u001b[38;5;241m.\u001b[39mvalues[state_val]\n",
      "File \u001b[1;32mc:\\Users\\padio\\Desktop\\important\\AI portfolio\\Google_AI_Agent\\.venv\\Lib\\site-packages\\langgraph\\pregel\\__init__.py:981\u001b[0m, in \u001b[0;36mPregel.get_state\u001b[1;34m(self, config, subgraphs)\u001b[0m\n\u001b[0;32m    976\u001b[0m     config \u001b[38;5;241m=\u001b[39m merge_configs(\n\u001b[0;32m    977\u001b[0m         config, {CONF: {CONFIG_KEY_CHECKPOINT_NS: recast_checkpoint_ns(ns)}}\n\u001b[0;32m    978\u001b[0m     )\n\u001b[0;32m    980\u001b[0m saved \u001b[38;5;241m=\u001b[39m checkpointer\u001b[38;5;241m.\u001b[39mget_tuple(config)\n\u001b[1;32m--> 981\u001b[0m \u001b[38;5;28;01mreturn\u001b[39;00m \u001b[38;5;28;43mself\u001b[39;49m\u001b[38;5;241;43m.\u001b[39;49m\u001b[43m_prepare_state_snapshot\u001b[49m\u001b[43m(\u001b[49m\n\u001b[0;32m    982\u001b[0m \u001b[43m    \u001b[49m\u001b[43mconfig\u001b[49m\u001b[43m,\u001b[49m\n\u001b[0;32m    983\u001b[0m \u001b[43m    \u001b[49m\u001b[43msaved\u001b[49m\u001b[43m,\u001b[49m\n\u001b[0;32m    984\u001b[0m \u001b[43m    \u001b[49m\u001b[43mrecurse\u001b[49m\u001b[38;5;241;43m=\u001b[39;49m\u001b[43mcheckpointer\u001b[49m\u001b[43m \u001b[49m\u001b[38;5;28;43;01mif\u001b[39;49;00m\u001b[43m \u001b[49m\u001b[43msubgraphs\u001b[49m\u001b[43m \u001b[49m\u001b[38;5;28;43;01melse\u001b[39;49;00m\u001b[43m \u001b[49m\u001b[38;5;28;43;01mNone\u001b[39;49;00m\u001b[43m,\u001b[49m\n\u001b[0;32m    985\u001b[0m \u001b[43m    \u001b[49m\u001b[43mapply_pending_writes\u001b[49m\u001b[38;5;241;43m=\u001b[39;49m\u001b[43mCONFIG_KEY_CHECKPOINT_ID\u001b[49m\u001b[43m \u001b[49m\u001b[38;5;129;43;01mnot\u001b[39;49;00m\u001b[43m \u001b[49m\u001b[38;5;129;43;01min\u001b[39;49;00m\u001b[43m \u001b[49m\u001b[43mconfig\u001b[49m\u001b[43m[\u001b[49m\u001b[43mCONF\u001b[49m\u001b[43m]\u001b[49m\u001b[43m,\u001b[49m\n\u001b[0;32m    986\u001b[0m \u001b[43m\u001b[49m\u001b[43m)\u001b[49m\n",
      "File \u001b[1;32mc:\\Users\\padio\\Desktop\\important\\AI portfolio\\Google_AI_Agent\\.venv\\Lib\\site-packages\\langgraph\\pregel\\__init__.py:818\u001b[0m, in \u001b[0;36mPregel._prepare_state_snapshot\u001b[1;34m(self, config, saved, recurse, apply_pending_writes)\u001b[0m\n\u001b[0;32m    816\u001b[0m         next_tasks[tid]\u001b[38;5;241m.\u001b[39mwrites\u001b[38;5;241m.\u001b[39mappend((k, v))\n\u001b[0;32m    817\u001b[0m     \u001b[38;5;28;01mif\u001b[39;00m tasks \u001b[38;5;241m:=\u001b[39m [t \u001b[38;5;28;01mfor\u001b[39;00m t \u001b[38;5;129;01min\u001b[39;00m next_tasks\u001b[38;5;241m.\u001b[39mvalues() \u001b[38;5;28;01mif\u001b[39;00m t\u001b[38;5;241m.\u001b[39mwrites]:\n\u001b[1;32m--> 818\u001b[0m         \u001b[43mapply_writes\u001b[49m\u001b[43m(\u001b[49m\u001b[43msaved\u001b[49m\u001b[38;5;241;43m.\u001b[39;49m\u001b[43mcheckpoint\u001b[49m\u001b[43m,\u001b[49m\u001b[43m \u001b[49m\u001b[43mchannels\u001b[49m\u001b[43m,\u001b[49m\u001b[43m \u001b[49m\u001b[43mtasks\u001b[49m\u001b[43m,\u001b[49m\u001b[43m \u001b[49m\u001b[38;5;28;43;01mNone\u001b[39;49;00m\u001b[43m)\u001b[49m\n\u001b[0;32m    819\u001b[0m \u001b[38;5;66;03m# assemble the state snapshot\u001b[39;00m\n\u001b[0;32m    820\u001b[0m \u001b[38;5;28;01mreturn\u001b[39;00m StateSnapshot(\n\u001b[0;32m    821\u001b[0m     read_channels(channels, \u001b[38;5;28mself\u001b[39m\u001b[38;5;241m.\u001b[39mstream_channels_asis),\n\u001b[0;32m    822\u001b[0m     \u001b[38;5;28mtuple\u001b[39m(t\u001b[38;5;241m.\u001b[39mname \u001b[38;5;28;01mfor\u001b[39;00m t \u001b[38;5;129;01min\u001b[39;00m next_tasks\u001b[38;5;241m.\u001b[39mvalues() \u001b[38;5;28;01mif\u001b[39;00m \u001b[38;5;129;01mnot\u001b[39;00m t\u001b[38;5;241m.\u001b[39mwrites),\n\u001b[1;32m   (...)\u001b[0m\n\u001b[0;32m    832\u001b[0m     ),\n\u001b[0;32m    833\u001b[0m )\n",
      "File \u001b[1;32mc:\\Users\\padio\\Desktop\\important\\AI portfolio\\Google_AI_Agent\\.venv\\Lib\\site-packages\\langgraph\\pregel\\algo.py:305\u001b[0m, in \u001b[0;36mapply_writes\u001b[1;34m(checkpoint, channels, tasks, get_next_version)\u001b[0m\n\u001b[0;32m    303\u001b[0m \u001b[38;5;28;01mfor\u001b[39;00m chan, vals \u001b[38;5;129;01min\u001b[39;00m pending_writes_by_channel\u001b[38;5;241m.\u001b[39mitems():\n\u001b[0;32m    304\u001b[0m     \u001b[38;5;28;01mif\u001b[39;00m chan \u001b[38;5;129;01min\u001b[39;00m channels:\n\u001b[1;32m--> 305\u001b[0m         \u001b[38;5;28;01mif\u001b[39;00m \u001b[43mchannels\u001b[49m\u001b[43m[\u001b[49m\u001b[43mchan\u001b[49m\u001b[43m]\u001b[49m\u001b[38;5;241;43m.\u001b[39;49m\u001b[43mupdate\u001b[49m\u001b[43m(\u001b[49m\u001b[43mvals\u001b[49m\u001b[43m)\u001b[49m \u001b[38;5;129;01mand\u001b[39;00m get_next_version \u001b[38;5;129;01mis\u001b[39;00m \u001b[38;5;129;01mnot\u001b[39;00m \u001b[38;5;28;01mNone\u001b[39;00m:\n\u001b[0;32m    306\u001b[0m             checkpoint[\u001b[38;5;124m\"\u001b[39m\u001b[38;5;124mchannel_versions\u001b[39m\u001b[38;5;124m\"\u001b[39m][chan] \u001b[38;5;241m=\u001b[39m get_next_version(\n\u001b[0;32m    307\u001b[0m                 max_version,\n\u001b[0;32m    308\u001b[0m                 channels[chan],\n\u001b[0;32m    309\u001b[0m             )\n\u001b[0;32m    310\u001b[0m         updated_channels\u001b[38;5;241m.\u001b[39madd(chan)\n",
      "File \u001b[1;32mc:\\Users\\padio\\Desktop\\important\\AI portfolio\\Google_AI_Agent\\.venv\\Lib\\site-packages\\langgraph\\channels\\binop.py:88\u001b[0m, in \u001b[0;36mBinaryOperatorAggregate.update\u001b[1;34m(self, values)\u001b[0m\n\u001b[0;32m     86\u001b[0m     values \u001b[38;5;241m=\u001b[39m values[\u001b[38;5;241m1\u001b[39m:]\n\u001b[0;32m     87\u001b[0m \u001b[38;5;28;01mfor\u001b[39;00m value \u001b[38;5;129;01min\u001b[39;00m values:\n\u001b[1;32m---> 88\u001b[0m     \u001b[38;5;28mself\u001b[39m\u001b[38;5;241m.\u001b[39mvalue \u001b[38;5;241m=\u001b[39m \u001b[38;5;28;43mself\u001b[39;49m\u001b[38;5;241;43m.\u001b[39;49m\u001b[43moperator\u001b[49m\u001b[43m(\u001b[49m\u001b[38;5;28;43mself\u001b[39;49m\u001b[38;5;241;43m.\u001b[39;49m\u001b[43mvalue\u001b[49m\u001b[43m,\u001b[49m\u001b[43m \u001b[49m\u001b[43mvalue\u001b[49m\u001b[43m)\u001b[49m\n\u001b[0;32m     89\u001b[0m \u001b[38;5;28;01mreturn\u001b[39;00m \u001b[38;5;28;01mTrue\u001b[39;00m\n",
      "File \u001b[1;32mc:\\Users\\padio\\Desktop\\important\\AI portfolio\\Google_AI_Agent\\.venv\\Lib\\site-packages\\langgraph\\graph\\message.py:36\u001b[0m, in \u001b[0;36m_add_messages_wrapper.<locals>._add_messages\u001b[1;34m(left, right, **kwargs)\u001b[0m\n\u001b[0;32m     32\u001b[0m \u001b[38;5;28;01mdef\u001b[39;00m\u001b[38;5;250m \u001b[39m\u001b[38;5;21m_add_messages\u001b[39m(\n\u001b[0;32m     33\u001b[0m     left: Optional[Messages] \u001b[38;5;241m=\u001b[39m \u001b[38;5;28;01mNone\u001b[39;00m, right: Optional[Messages] \u001b[38;5;241m=\u001b[39m \u001b[38;5;28;01mNone\u001b[39;00m, \u001b[38;5;241m*\u001b[39m\u001b[38;5;241m*\u001b[39mkwargs: Any\n\u001b[0;32m     34\u001b[0m ) \u001b[38;5;241m-\u001b[39m\u001b[38;5;241m>\u001b[39m Union[Messages, Callable[[Messages, Messages], Messages]]:\n\u001b[0;32m     35\u001b[0m     \u001b[38;5;28;01mif\u001b[39;00m left \u001b[38;5;129;01mis\u001b[39;00m \u001b[38;5;129;01mnot\u001b[39;00m \u001b[38;5;28;01mNone\u001b[39;00m \u001b[38;5;129;01mand\u001b[39;00m right \u001b[38;5;129;01mis\u001b[39;00m \u001b[38;5;129;01mnot\u001b[39;00m \u001b[38;5;28;01mNone\u001b[39;00m:\n\u001b[1;32m---> 36\u001b[0m         \u001b[38;5;28;01mreturn\u001b[39;00m \u001b[43mfunc\u001b[49m\u001b[43m(\u001b[49m\u001b[43mleft\u001b[49m\u001b[43m,\u001b[49m\u001b[43m \u001b[49m\u001b[43mright\u001b[49m\u001b[43m,\u001b[49m\u001b[43m \u001b[49m\u001b[38;5;241;43m*\u001b[39;49m\u001b[38;5;241;43m*\u001b[39;49m\u001b[43mkwargs\u001b[49m\u001b[43m)\u001b[49m\n\u001b[0;32m     37\u001b[0m     \u001b[38;5;28;01melif\u001b[39;00m left \u001b[38;5;129;01mis\u001b[39;00m \u001b[38;5;129;01mnot\u001b[39;00m \u001b[38;5;28;01mNone\u001b[39;00m \u001b[38;5;129;01mor\u001b[39;00m right \u001b[38;5;129;01mis\u001b[39;00m \u001b[38;5;129;01mnot\u001b[39;00m \u001b[38;5;28;01mNone\u001b[39;00m:\n\u001b[0;32m     38\u001b[0m         msg \u001b[38;5;241m=\u001b[39m (\n\u001b[0;32m     39\u001b[0m             \u001b[38;5;124mf\u001b[39m\u001b[38;5;124m\"\u001b[39m\u001b[38;5;124mMust specify non-null arguments for both \u001b[39m\u001b[38;5;124m'\u001b[39m\u001b[38;5;124mleft\u001b[39m\u001b[38;5;124m'\u001b[39m\u001b[38;5;124m and \u001b[39m\u001b[38;5;124m'\u001b[39m\u001b[38;5;124mright\u001b[39m\u001b[38;5;124m'\u001b[39m\u001b[38;5;124m. Only \u001b[39m\u001b[38;5;124m\"\u001b[39m\n\u001b[0;32m     40\u001b[0m             \u001b[38;5;124mf\u001b[39m\u001b[38;5;124m\"\u001b[39m\u001b[38;5;124mreceived: \u001b[39m\u001b[38;5;124m'\u001b[39m\u001b[38;5;132;01m{\u001b[39;00m\u001b[38;5;124m'\u001b[39m\u001b[38;5;124mleft\u001b[39m\u001b[38;5;124m'\u001b[39m\u001b[38;5;250m \u001b[39m\u001b[38;5;28;01mif\u001b[39;00m\u001b[38;5;250m \u001b[39mleft\u001b[38;5;250m \u001b[39m\u001b[38;5;28;01melse\u001b[39;00m\u001b[38;5;250m \u001b[39m\u001b[38;5;124m'\u001b[39m\u001b[38;5;124mright\u001b[39m\u001b[38;5;124m'\u001b[39m\u001b[38;5;132;01m}\u001b[39;00m\u001b[38;5;124m'\u001b[39m\u001b[38;5;124m.\u001b[39m\u001b[38;5;124m\"\u001b[39m\n\u001b[0;32m     41\u001b[0m         )\n",
      "File \u001b[1;32mc:\\Users\\padio\\Desktop\\important\\AI portfolio\\Google_AI_Agent\\.venv\\Lib\\site-packages\\langgraph\\graph\\message.py:173\u001b[0m, in \u001b[0;36madd_messages\u001b[1;34m(left, right, format)\u001b[0m\n\u001b[0;32m    166\u001b[0m \u001b[38;5;66;03m# coerce to message\u001b[39;00m\n\u001b[0;32m    167\u001b[0m left \u001b[38;5;241m=\u001b[39m [\n\u001b[0;32m    168\u001b[0m     message_chunk_to_message(cast(BaseMessageChunk, m))\n\u001b[0;32m    169\u001b[0m     \u001b[38;5;28;01mfor\u001b[39;00m m \u001b[38;5;129;01min\u001b[39;00m convert_to_messages(left)\n\u001b[0;32m    170\u001b[0m ]\n\u001b[0;32m    171\u001b[0m right \u001b[38;5;241m=\u001b[39m [\n\u001b[0;32m    172\u001b[0m     message_chunk_to_message(cast(BaseMessageChunk, m))\n\u001b[1;32m--> 173\u001b[0m     \u001b[38;5;28;01mfor\u001b[39;00m m \u001b[38;5;129;01min\u001b[39;00m \u001b[43mconvert_to_messages\u001b[49m\u001b[43m(\u001b[49m\u001b[43mright\u001b[49m\u001b[43m)\u001b[49m\n\u001b[0;32m    174\u001b[0m ]\n\u001b[0;32m    175\u001b[0m \u001b[38;5;66;03m# assign missing ids\u001b[39;00m\n\u001b[0;32m    176\u001b[0m \u001b[38;5;28;01mfor\u001b[39;00m m \u001b[38;5;129;01min\u001b[39;00m left:\n",
      "File \u001b[1;32mc:\\Users\\padio\\Desktop\\important\\AI portfolio\\Google_AI_Agent\\.venv\\Lib\\site-packages\\langchain_core\\messages\\utils.py:364\u001b[0m, in \u001b[0;36mconvert_to_messages\u001b[1;34m(messages)\u001b[0m\n\u001b[0;32m    362\u001b[0m \u001b[38;5;28;01mif\u001b[39;00m \u001b[38;5;28misinstance\u001b[39m(messages, PromptValue):\n\u001b[0;32m    363\u001b[0m     \u001b[38;5;28;01mreturn\u001b[39;00m messages\u001b[38;5;241m.\u001b[39mto_messages()\n\u001b[1;32m--> 364\u001b[0m \u001b[38;5;28;01mreturn\u001b[39;00m [\u001b[43m_convert_to_message\u001b[49m\u001b[43m(\u001b[49m\u001b[43mm\u001b[49m\u001b[43m)\u001b[49m \u001b[38;5;28;01mfor\u001b[39;00m m \u001b[38;5;129;01min\u001b[39;00m messages]\n",
      "File \u001b[1;32mc:\\Users\\padio\\Desktop\\important\\AI portfolio\\Google_AI_Agent\\.venv\\Lib\\site-packages\\langchain_core\\messages\\utils.py:336\u001b[0m, in \u001b[0;36m_convert_to_message\u001b[1;34m(message)\u001b[0m\n\u001b[0;32m    332\u001b[0m         msg \u001b[38;5;241m=\u001b[39m \u001b[38;5;124mf\u001b[39m\u001b[38;5;124m\"\u001b[39m\u001b[38;5;124mMessage dict must contain \u001b[39m\u001b[38;5;124m'\u001b[39m\u001b[38;5;124mrole\u001b[39m\u001b[38;5;124m'\u001b[39m\u001b[38;5;124m and \u001b[39m\u001b[38;5;124m'\u001b[39m\u001b[38;5;124mcontent\u001b[39m\u001b[38;5;124m'\u001b[39m\u001b[38;5;124m keys, got \u001b[39m\u001b[38;5;132;01m{\u001b[39;00mmessage\u001b[38;5;132;01m}\u001b[39;00m\u001b[38;5;124m\"\u001b[39m\n\u001b[0;32m    333\u001b[0m         msg \u001b[38;5;241m=\u001b[39m create_message(\n\u001b[0;32m    334\u001b[0m             message\u001b[38;5;241m=\u001b[39mmsg, error_code\u001b[38;5;241m=\u001b[39mErrorCode\u001b[38;5;241m.\u001b[39mMESSAGE_COERCION_FAILURE\n\u001b[0;32m    335\u001b[0m         )\n\u001b[1;32m--> 336\u001b[0m         \u001b[38;5;28;01mraise\u001b[39;00m \u001b[38;5;167;01mValueError\u001b[39;00m(msg) \u001b[38;5;28;01mfrom\u001b[39;00m\u001b[38;5;250m \u001b[39m\u001b[38;5;21;01me\u001b[39;00m\n\u001b[0;32m    337\u001b[0m     _message \u001b[38;5;241m=\u001b[39m _create_message_from_message_type(\n\u001b[0;32m    338\u001b[0m         msg_type, msg_content, \u001b[38;5;241m*\u001b[39m\u001b[38;5;241m*\u001b[39mmsg_kwargs\n\u001b[0;32m    339\u001b[0m     )\n\u001b[0;32m    340\u001b[0m \u001b[38;5;28;01melse\u001b[39;00m:\n",
      "\u001b[1;31mValueError\u001b[0m: Message dict must contain 'role' and 'content' keys, got {'query': 'email address of Tristan Padious', 'contacts': {'Tristan Padiou': {'resourcename': 'people/c1444037682365792704', 'etag': '%EgUBAi43PRoEAQIFByIMVkV1eDhZS1d6WUE9'}, 'Giselle Bogs': {'resourcename': 'people/c773801861794169656', 'etag': '%EgUBAi43PRoEAQIFByIMQ2J5RjZJWWxHc3M9'}, 'pascale padiou': {'resourcename': 'people/c9136797831542164705', 'etag': '%EgUBAi43PRoEAQIFByIMN1cxbFQzOXI1c0U9'}, 'Johnny Doe': {'resourcename': 'people/c7610783302568859438', 'etag': '%EgUBAi43PRoEAQIFByIMak5sN0tJcitYeWM9'}}, 'contact_details': {'resourceName': 'people/c1444037682365792704', 'etag': '%Eg0BAgUHCQsQLjc9Pj9AGgQBAgUHIgxWRXV4OFlLV3pZQT0=', 'names': [{'metadata': {'primary': True, 'source': {'type': 'CONTACT', 'id': '140a409f0bb101c0'}, 'sourcePrimary': True}, 'displayName': 'Tristan Padiou', 'familyName': 'Padiou', 'givenName': 'Tristan', 'displayNameLastFirst': 'Padiou, Tristan', 'unstructuredName': 'Tristan Padiou'}], 'addresses': [{'metadata': {'primary': True, 'source': {'type': 'CONTACT', 'id': '140a409f0bb101c0'}}, 'formattedValue': '524w 19th st\\napt 4 e, NYC, NY 10011\\nUSA', 'type': 'home', 'formattedType': 'Home', 'streetAddress': '524w 19th st', 'extendedAddress': 'apt 4 e', 'city': 'NYC', 'region': 'NY', 'postalCode': '10011', 'country': 'USA'}], 'emailAddresses': [{'metadata': {'primary': True, 'source': {'type': 'CONTACT', 'id': '140a409f0bb101c0'}, 'sourcePrimary': True}, 'value': 'padioutristan@gmail.com', 'type': 'other', 'formattedType': 'Other', 'displayName': 'padioutristan@gmail.com'}]}, 'route': 'get_contact_details'}\nFor troubleshooting, visit: https://python.langchain.com/docs/troubleshooting/errors/MESSAGE_COERCION_FAILURE "
     ]
    }
   ],
   "source": [
    "messages=agent.get_state(state_val='query')"
   ]
  },
  {
   "cell_type": "code",
   "execution_count": null,
   "metadata": {},
   "outputs": [
    {
     "data": {
      "text/plain": [
       "{'resourceName': 'people/c1444037682365792704',\n",
       " 'etag': '%Eg0BAgUHCQsQLjc9Pj9AGgQBAgUHIgxWRXV4OFlLV3pZQT0=',\n",
       " 'names': [{'metadata': {'primary': True,\n",
       "    'source': {'type': 'CONTACT', 'id': '140a409f0bb101c0'},\n",
       "    'sourcePrimary': True},\n",
       "   'displayName': 'Tristan Padiou',\n",
       "   'familyName': 'Padiou',\n",
       "   'givenName': 'Tristan',\n",
       "   'displayNameLastFirst': 'Padiou, Tristan',\n",
       "   'unstructuredName': 'Tristan Padiou'}],\n",
       " 'addresses': [{'metadata': {'primary': True,\n",
       "    'source': {'type': 'CONTACT', 'id': '140a409f0bb101c0'}},\n",
       "   'formattedValue': '524w 19th st\\napt 4 e, NYC, NY 10011\\nUSA',\n",
       "   'type': 'home',\n",
       "   'formattedType': 'Home',\n",
       "   'streetAddress': '524w 19th st',\n",
       "   'extendedAddress': 'apt 4 e',\n",
       "   'city': 'NYC',\n",
       "   'region': 'NY',\n",
       "   'postalCode': '10011',\n",
       "   'country': 'USA'}],\n",
       " 'emailAddresses': [{'metadata': {'primary': True,\n",
       "    'source': {'type': 'CONTACT', 'id': '140a409f0bb101c0'},\n",
       "    'sourcePrimary': True},\n",
       "   'value': 'padioutristan@gmail.com',\n",
       "   'type': 'other',\n",
       "   'formattedType': 'Other',\n",
       "   'displayName': 'padioutristan@gmail.com'}]}"
      ]
     },
     "execution_count": 30,
     "metadata": {},
     "output_type": "execute_result"
    }
   ],
   "source": [
    "contacts_agent.get_state('contact_details')"
   ]
  },
  {
   "cell_type": "code",
   "execution_count": null,
   "metadata": {},
   "outputs": [
    {
     "data": {
      "image/png": "[encoded data removed]",
      "text/plain": [
       "<IPython.core.display.Image object>"
      ]
     },
     "metadata": {},
     "output_type": "display_data"
    }
   ],
   "source": [
    "agent.display_graph()"
   ]
  },
  {
   "cell_type": "code",
   "execution_count": null,
   "metadata": {},
   "outputs": [],
   "source": [
    "# class google_agent:\n",
    "#     def __init__(self,llm: any):\n",
    "#         self.agent=self._setup(llm)\n",
    "#     def _setup(self,llm):\n",
    "   \n",
    "#         langgraph_tools=[mail_manager,calendar_manager,maps_manager, tasks_manager, contacts_manager, google_image_tool]\n",
    "\n",
    "\n",
    "\n",
    "#         graph_builder = StateGraph(State)\n",
    "\n",
    "#         # Modification: tell the LLM which tools it can call\n",
    "#         llm_with_tools = llm.bind_tools(langgraph_tools)\n",
    "#         tool_node = ToolNode(tools=langgraph_tools)\n",
    "#         def chatbot(state: State):\n",
    "#             \"\"\" google ai agent, that can interact with contacts, emails, maps, tasks and calendar.\n",
    "#             Depending on the request, leverage which tools to use if necessary.\"\"\"\n",
    "#             return {\"messages\": [llm_with_tools.invoke(state['messages'])]}\n",
    "\n",
    "#         graph_builder.add_node(\"chatbot\", chatbot)\n",
    "\n",
    "        \n",
    "#         graph_builder.add_node(\"tools\", tool_node)\n",
    "#         # Any time a tool is called, we return to the chatbot to decide the next step\n",
    "#         graph_builder.add_edge(START,'chatbot')\n",
    "#         graph_builder.add_edge(\"tools\", \"chatbot\")\n",
    "#         graph_builder.add_conditional_edges(\n",
    "#             \"chatbot\",\n",
    "#             tools_condition,\n",
    "#         )\n",
    "#         memory=MemorySaver()\n",
    "#         graph=graph_builder.compile(checkpointer=memory,store=store)\n",
    "#         return graph\n",
    "        \n",
    "\n",
    "#     def display_graph(self):\n",
    "#         return display(\n",
    "#                         Image(\n",
    "#                                 self.agent.get_graph().draw_mermaid_png(\n",
    "#                                     draw_method=MermaidDrawMethod.API,\n",
    "#                                 )\n",
    "#                             )\n",
    "#                         )\n",
    "#     def stream(self,input:str):\n",
    "#         config = {\"configurable\": {\"thread_id\": \"1\"}}\n",
    "#         input_message = HumanMessage(content=input)\n",
    "#         for event in self.agent.stream({\"messages\": [input_message]}, config, stream_mode=\"values\"):\n",
    "#             event[\"messages\"][-1].pretty_print()\n",
    "\n",
    "#     def chat(self,input:str):\n",
    "#         config = {\"configurable\": {\"thread_id\": \"1\"}}\n",
    "#         response=self.agent.invoke({'messages':HumanMessage(content=str(input))},config)\n",
    "#         return response['messages'][-1].content\n",
    "    \n",
    "#     def get_state(self, state_val:str):\n",
    "#         config = {\"configurable\": {\"thread_id\": \"1\"}}\n",
    "#         return self.agent.get_state(config).values[state_val]"
   ]
  },
  {
   "cell_type": "code",
   "execution_count": null,
   "metadata": {},
   "outputs": [],
   "source": [
    "agent=google_agent(llm)"
   ]
  },
  {
   "cell_type": "code",
   "execution_count": null,
   "metadata": {},
   "outputs": [],
   "source": [
    "def chatbot(input,history):\n",
    "    response=agent.chat(input)\n",
    "    return response\n"
   ]
  },
  {
   "cell_type": "code",
   "execution_count": null,
   "metadata": {},
   "outputs": [
    {
     "name": "stdout",
     "output_type": "stream",
     "text": [
      "* Running on local URL:  http://127.0.0.1:7860\n",
      "\n",
      "To create a public link, set `share=True` in `launch()`.\n"
     ]
    },
    {
     "data": {
      "text/html": [
       "<div><iframe src=\"http://127.0.0.1:7860/\" width=\"100%\" height=\"500\" allow=\"autoplay; camera; microphone; clipboard-read; clipboard-write;\" frameborder=\"0\" allowfullscreen></iframe></div>"
      ],
      "text/plain": [
       "<IPython.core.display.HTML object>"
      ]
     },
     "metadata": {},
     "output_type": "display_data"
    }
   ],
   "source": [
    "demo = gr.ChatInterface(chatbot, type=\"messages\", autofocus=False)\n",
    "\n",
    "if __name__ == \"__main__\":\n",
    "    demo.launch()"
   ]
  },
  {
   "cell_type": "code",
   "execution_count": null,
   "metadata": {},
   "outputs": [
    {
     "ename": "KeyError",
     "evalue": "'messages'",
     "output_type": "error",
     "traceback": [
      "\u001b[1;31m---------------------------------------------------------------------------\u001b[0m",
      "\u001b[1;31mKeyError\u001b[0m                                  Traceback (most recent call last)",
      "Cell \u001b[1;32mIn[31], line 1\u001b[0m\n\u001b[1;32m----> 1\u001b[0m \u001b[43mcontacts_agent\u001b[49m\u001b[38;5;241;43m.\u001b[39;49m\u001b[43mget_state\u001b[49m\u001b[43m(\u001b[49m\u001b[38;5;124;43m'\u001b[39;49m\u001b[38;5;124;43mmessages\u001b[39;49m\u001b[38;5;124;43m'\u001b[39;49m\u001b[43m)\u001b[49m\n",
      "File \u001b[1;32mc:\\Users\\padio\\Desktop\\important\\AI portfolio\\Google_AI_Agent\\contacts_agent.py:412\u001b[0m, in \u001b[0;36mContacts_agent.get_state\u001b[1;34m(self, state_val)\u001b[0m\n\u001b[0;32m    410\u001b[0m \u001b[38;5;28;01mdef\u001b[39;00m\u001b[38;5;250m \u001b[39m\u001b[38;5;21mget_state\u001b[39m(\u001b[38;5;28mself\u001b[39m, state_val:\u001b[38;5;28mstr\u001b[39m):\n\u001b[0;32m    411\u001b[0m     config \u001b[38;5;241m=\u001b[39m {\u001b[38;5;124m\"\u001b[39m\u001b[38;5;124mconfigurable\u001b[39m\u001b[38;5;124m\"\u001b[39m: {\u001b[38;5;124m\"\u001b[39m\u001b[38;5;124mthread_id\u001b[39m\u001b[38;5;124m\"\u001b[39m: \u001b[38;5;124m\"\u001b[39m\u001b[38;5;124m1\u001b[39m\u001b[38;5;124m\"\u001b[39m}}\n\u001b[1;32m--> 412\u001b[0m     \u001b[38;5;28;01mreturn\u001b[39;00m \u001b[38;5;28;43mself\u001b[39;49m\u001b[38;5;241;43m.\u001b[39;49m\u001b[43magent\u001b[49m\u001b[38;5;241;43m.\u001b[39;49m\u001b[43mget_state\u001b[49m\u001b[43m(\u001b[49m\u001b[43mconfig\u001b[49m\u001b[43m)\u001b[49m\u001b[38;5;241;43m.\u001b[39;49m\u001b[43mvalues\u001b[49m\u001b[43m[\u001b[49m\u001b[43mstate_val\u001b[49m\u001b[43m]\u001b[49m\n",
      "\u001b[1;31mKeyError\u001b[0m: 'messages'"
     ]
    }
   ],
   "source": [
    "contacts_agent.get_state('messages')"
   ]
  }
 ],
 "metadata": {
  "kernelspec": {
   "display_name": ".venv",
   "language": "python",
   "name": "python3"
  },
  "language_info": {
   "codemirror_mode": {
    "name": "ipython",
    "version": 3
   },
   "file_extension": ".py",
   "mimetype": "text/x-python",
   "name": "python",
   "nbconvert_exporter": "python",
   "pygments_lexer": "ipython3",
   "version": "3.13.2"
  }
 },
 "nbformat": 4,
 "nbformat_minor": 2
}
