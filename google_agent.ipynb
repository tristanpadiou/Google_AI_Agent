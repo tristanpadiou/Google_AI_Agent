{
 "cells": [
  {
   "cell_type": "code",
   "execution_count": 1,
   "metadata": {},
   "outputs": [
    {
     "data": {
      "text/plain": [
       "' token available '"
      ]
     },
     "execution_count": 1,
     "metadata": {},
     "output_type": "execute_result"
    }
   ],
   "source": [
    "from token_creator import get_creds\n",
    "get_creds()"
   ]
  },
  {
   "cell_type": "code",
   "execution_count": 1,
   "metadata": {},
   "outputs": [],
   "source": [
    "from gmail_agent import gmail_agent\n",
    "from calendar_agent import Calendar_agent\n",
    "from maps_agent import maps_agent\n",
    "from contacts_agent import contacts_agent\n",
    "from tasks_agent import tasks_agent\n",
    "from langchain_google_genai import ChatGoogleGenerativeAI\n",
    "from langchain.tools import tool,Tool\n",
    "from langgraph.graph import StateGraph, START, END\n",
    "from langgraph.graph.message import add_messages\n",
    "from langgraph.prebuilt import ToolNode, tools_condition,InjectedState\n",
    "from langchain_core.messages import (\n",
    "    HumanMessage,\n",
    "    ToolMessage,\n",
    "    \n",
    ")\n",
    "from langgraph.types import Command\n",
    "from langgraph.checkpoint.memory import MemorySaver\n",
    "from langchain_core.tools.base import InjectedToolCallId\n",
    "\n",
    "\n",
    "from typing_extensions import TypedDict\n",
    "from typing import Annotated\n",
    "\n",
    "import os\n",
    "from dotenv import load_dotenv \n",
    "\n",
    "#get graph visuals\n",
    "from IPython.display import Image, display\n",
    "from langchain_core.runnables.graph import MermaidDrawMethod\n",
    "import os\n",
    "import requests\n",
    "import gradio as gr\n"
   ]
  },
  {
   "cell_type": "code",
   "execution_count": 2,
   "metadata": {},
   "outputs": [],
   "source": [
    "load_dotenv()\n",
    "GOOGLE_API_KEY=os.getenv('google_api_key')\n",
    "pse=os.getenv('pse')"
   ]
  },
  {
   "cell_type": "code",
   "execution_count": 3,
   "metadata": {},
   "outputs": [],
   "source": [
    "GEMINI_MODEL='gemini-2.0-flash'\n",
    "llm = ChatGoogleGenerativeAI(google_api_key=GOOGLE_API_KEY, model=GEMINI_MODEL, temperature=0.3)"
   ]
  },
  {
   "cell_type": "code",
   "execution_count": 4,
   "metadata": {},
   "outputs": [],
   "source": [
    "mail_agent=gmail_agent(llm)\n",
    "calendar_agent=Calendar_agent(llm)\n",
    "maps_agent=maps_agent(llm)\n",
    "tasks_agent=tasks_agent(llm)\n",
    "contacts_agent=contacts_agent(llm)"
   ]
  },
  {
   "cell_type": "code",
   "execution_count": 5,
   "metadata": {},
   "outputs": [],
   "source": [
    "class State(TypedDict):\n",
    "    messages: Annotated[list, add_messages]"
   ]
  },
  {
   "cell_type": "code",
   "execution_count": 6,
   "metadata": {},
   "outputs": [],
   "source": [
    "def google_image_search(query: str) -> str:\n",
    "  \"\"\"Search for images using Google Custom Search API\n",
    "  args: query\n",
    "  return: image url\n",
    "  \"\"\"\n",
    "  # Define the API endpoint for Google Custom Search\n",
    "  url = \"https://www.googleapis.com/customsearch/v1\"\n",
    "\n",
    "  params = {\n",
    "      \"q\": query,\n",
    "      \"cx\": pse,\n",
    "      \"key\": GOOGLE_API_KEY,\n",
    "      \"searchType\": \"image\",  # Search for images\n",
    "      \"num\": 1  # Number of results to fetch\n",
    "  }\n",
    "\n",
    "  # Make the request to the Google Custom Search API\n",
    "  response = requests.get(url, params=params)\n",
    "  data = response.json()\n",
    "\n",
    "  # Check if the response contains image results\n",
    "  if 'items' in data:\n",
    "      # Extract the first image result\n",
    "      image_url = data['items'][0]['link']\n",
    "      return image_url\n",
    "  else:\n",
    "      return \"Sorry, no images were found for your query.\"\n",
    "\n",
    "google_image_tool=Tool(name='google_image_tool', func=google_image_search, description='Use this tool to search for images using Google Custom Search API')"
   ]
  },
  {
   "cell_type": "code",
   "execution_count": 7,
   "metadata": {},
   "outputs": [],
   "source": [
    "# Define the API endpoint for Google Custom Search\n",
    "url = \"https://www.googleapis.com/customsearch/v1\"\n",
    "\n",
    "params = {\n",
    "    \"q\": 'cat',\n",
    "    \"cx\": pse,\n",
    "    \"key\": GOOGLE_API_KEY,\n",
    "    \"searchType\": \"image\",  # Search for images\n",
    "    \"num\": 1  # Number of results to fetch\n",
    "}\n",
    "\n",
    "# Make the request to the Google Custom Search API\n",
    "response = requests.get(url, params=params)\n",
    "data = response.json()\n",
    "\n",
    "# Check if the response contains image results\n",
    "if 'items' in data:\n",
    "    # Extract the first image result\n",
    "    image_url = data['items'][0]['link']\n"
   ]
  },
  {
   "cell_type": "code",
   "execution_count": 8,
   "metadata": {},
   "outputs": [
    {
     "data": {
      "text/plain": [
       "{'kind': 'customsearch#search',\n",
       " 'url': {'type': 'application/json',\n",
       "  'template': 'https://www.googleapis.com/customsearch/v1?q={searchTerms}&num={count?}&start={startIndex?}&lr={language?}&safe={safe?}&cx={cx?}&sort={sort?}&filter={filter?}&gl={gl?}&cr={cr?}&googlehost={googleHost?}&c2coff={disableCnTwTranslation?}&hq={hq?}&hl={hl?}&siteSearch={siteSearch?}&siteSearchFilter={siteSearchFilter?}&exactTerms={exactTerms?}&excludeTerms={excludeTerms?}&linkSite={linkSite?}&orTerms={orTerms?}&dateRestrict={dateRestrict?}&lowRange={lowRange?}&highRange={highRange?}&searchType={searchType}&fileType={fileType?}&rights={rights?}&imgSize={imgSize?}&imgType={imgType?}&imgColorType={imgColorType?}&imgDominantColor={imgDominantColor?}&alt=json'},\n",
       " 'queries': {'request': [{'title': 'Google Custom Search - cat',\n",
       "    'totalResults': '61320000000',\n",
       "    'searchTerms': 'cat',\n",
       "    'count': 1,\n",
       "    'startIndex': 1,\n",
       "    'inputEncoding': 'utf8',\n",
       "    'outputEncoding': 'utf8',\n",
       "    'safe': 'off',\n",
       "    'cx': '33068be055af147e4',\n",
       "    'searchType': 'image'}],\n",
       "  'nextPage': [{'title': 'Google Custom Search - cat',\n",
       "    'totalResults': '61320000000',\n",
       "    'searchTerms': 'cat',\n",
       "    'count': 1,\n",
       "    'startIndex': 2,\n",
       "    'inputEncoding': 'utf8',\n",
       "    'outputEncoding': 'utf8',\n",
       "    'safe': 'off',\n",
       "    'cx': '33068be055af147e4',\n",
       "    'searchType': 'image'}]},\n",
       " 'context': {'title': \"tristan's search engine\"},\n",
       " 'searchInformation': {'searchTime': 0.424867,\n",
       "  'formattedSearchTime': '0.42',\n",
       "  'totalResults': '61320000000',\n",
       "  'formattedTotalResults': '61,320,000,000'},\n",
       " 'items': [{'kind': 'customsearch#result',\n",
       "   'title': 'NEKO: A Cat Cafe in Seattle, WA & Bellingham, WA | NEKO: A Cat ...',\n",
       "   'htmlTitle': 'NEKO: A <b>Cat</b> Cafe in Seattle, WA &amp; Bellingham, WA | NEKO: A <b>Cat</b> ...',\n",
       "   'link': 'https://www.nekocatcafe.com/asset/677c5b1eca829/Front%20Page%201.2025.jpg?w=2000&fit=max&fm=webp',\n",
       "   'displayLink': 'www.nekocatcafe.com',\n",
       "   'snippet': 'NEKO: A Cat Cafe in Seattle, WA & Bellingham, WA | NEKO: A Cat ...',\n",
       "   'htmlSnippet': 'NEKO: A <b>Cat</b> Cafe in Seattle, WA &amp; Bellingham, WA | NEKO: A <b>Cat</b> ...',\n",
       "   'mime': 'image/jpeg',\n",
       "   'fileFormat': 'image/jpeg',\n",
       "   'image': {'contextLink': 'https://www.nekocatcafe.com/',\n",
       "    'height': 1500,\n",
       "    'width': 2000,\n",
       "    'byteSize': 200374,\n",
       "    'thumbnailLink': 'https://encrypted-tbn0.gstatic.com/images?q=tbn:ANd9GcTZmUg-dDPwLlX4dffuykgnN4cUeuAGv9mY4iz4i4QNY-kwkk0eaU72oQ&s',\n",
       "    'thumbnailHeight': 113,\n",
       "    'thumbnailWidth': 150}}]}"
      ]
     },
     "execution_count": 8,
     "metadata": {},
     "output_type": "execute_result"
    }
   ],
   "source": [
    "data"
   ]
  },
  {
   "cell_type": "code",
   "execution_count": 9,
   "metadata": {},
   "outputs": [],
   "source": [
    "@tool \n",
    "def contacts_manager(query: str):\n",
    "    \"\"\"use this tool to answer queries about a contact or a person\n",
    "    this tool can:\n",
    "    list my contacts\n",
    "    get a contact's details\n",
    "    delete a contact\n",
    "    create a contact\n",
    "    modify a contact\n",
    "    args: query - pass the email related queries directly here\n",
    "    \"\"\"\n",
    "    response=contacts_agent.chat(str(query))\n",
    "    return response"
   ]
  },
  {
   "cell_type": "code",
   "execution_count": 10,
   "metadata": {},
   "outputs": [],
   "source": [
    "@tool\n",
    "def tasks_manager(query:str):\n",
    "    \"\"\"use this tool to answer task related queries\n",
    "    this tool can:\n",
    "    list tasks\n",
    "    create tasks\n",
    "    get task details\n",
    "    complete a task (which also deletes it :) )\n",
    "\n",
    "    args: query - pass the email related queries directly here\n",
    "    \n",
    "    \"\"\"\n",
    "\n",
    "\n",
    "    response=tasks_agent.chat(str(query))\n",
    "    return response"
   ]
  },
  {
   "cell_type": "code",
   "execution_count": 11,
   "metadata": {},
   "outputs": [],
   "source": [
    "@tool\n",
    "def maps_manager(query:str):\n",
    "    \"\"\"tool to use to answer maps and location queries\n",
    "    this tool can:\n",
    "    find locations such as restorants, bowling alleys, museums and others\n",
    "    display those locations's infos (eg. adress, name, url, price range)\n",
    "    args: query - pass the email related queries directly here\n",
    "    \"\"\"\n",
    "    response=maps_agent.chat(str(query))\n",
    "    return response"
   ]
  },
  {
   "cell_type": "code",
   "execution_count": 12,
   "metadata": {},
   "outputs": [],
   "source": [
    "@tool\n",
    "def mail_manager(query:str):\n",
    "    \"\"\"Tool to use to answer any email related queries\n",
    "    this tool can:\n",
    "    get new mail\n",
    "    show the inbox\n",
    "    get a specific mail's content to display\n",
    "    create a draft of a new mail\n",
    "    show the current draft\n",
    "    send the draft\n",
    "    list all the drafts\n",
    "    args: query - pass the email related queries directly here\n",
    "    \"\"\"\n",
    "    response=mail_agent.chat(str(query))\n",
    "    return response"
   ]
  },
  {
   "cell_type": "code",
   "execution_count": 13,
   "metadata": {},
   "outputs": [],
   "source": [
    "@tool\n",
    "def calendar_manager(query:str):\n",
    "    \"\"\"tool to use to answere any calendar or schedule related queries\n",
    "    this tool can:\n",
    "    create recuring events\n",
    "    create quick events\n",
    "    refresh the calendar\n",
    "    show the calendar\n",
    "    args: query - pass the calendar related queries directly here\n",
    "    \"\"\"\n",
    "    response=calendar_agent.chat(str(query))\n",
    "    return response"
   ]
  },
  {
   "cell_type": "code",
   "execution_count": 14,
   "metadata": {},
   "outputs": [],
   "source": [
    "class google_agent:\n",
    "    def __init__(self,llm: any):\n",
    "        self.agent=self._setup(llm)\n",
    "    def _setup(self,llm):\n",
    "   \n",
    "        langgraph_tools=[mail_manager,calendar_manager,maps_manager, tasks_manager, contacts_manager, google_image_tool]\n",
    "\n",
    "\n",
    "\n",
    "        graph_builder = StateGraph(State)\n",
    "\n",
    "        # Modification: tell the LLM which tools it can call\n",
    "        llm_with_tools = llm.bind_tools(langgraph_tools)\n",
    "        tool_node = ToolNode(tools=langgraph_tools)\n",
    "        def chatbot(state: State):\n",
    "            \"\"\" travel assistant that answers user questions about their trip.\n",
    "            Depending on the request, leverage which tools to use if necessary.\"\"\"\n",
    "            return {\"messages\": [llm_with_tools.invoke(state['messages'])]}\n",
    "\n",
    "        graph_builder.add_node(\"chatbot\", chatbot)\n",
    "\n",
    "        \n",
    "        graph_builder.add_node(\"tools\", tool_node)\n",
    "        # Any time a tool is called, we return to the chatbot to decide the next step\n",
    "        graph_builder.add_edge(START,'chatbot')\n",
    "        graph_builder.add_edge(\"tools\", \"chatbot\")\n",
    "        graph_builder.add_conditional_edges(\n",
    "            \"chatbot\",\n",
    "            tools_condition,\n",
    "        )\n",
    "        memory=MemorySaver()\n",
    "        graph=graph_builder.compile(checkpointer=memory)\n",
    "        return graph\n",
    "        \n",
    "\n",
    "    def display_graph(self):\n",
    "        return display(\n",
    "                        Image(\n",
    "                                self.agent.get_graph().draw_mermaid_png(\n",
    "                                    draw_method=MermaidDrawMethod.API,\n",
    "                                )\n",
    "                            )\n",
    "                        )\n",
    "    def stream(self,input:str):\n",
    "        config = {\"configurable\": {\"thread_id\": \"1\"}}\n",
    "        input_message = HumanMessage(content=input)\n",
    "        for event in self.agent.stream({\"messages\": [input_message]}, config, stream_mode=\"values\"):\n",
    "            event[\"messages\"][-1].pretty_print()\n",
    "\n",
    "    def chat(self,input:str):\n",
    "        config = {\"configurable\": {\"thread_id\": \"1\"}}\n",
    "        response=self.agent.invoke({'messages':HumanMessage(content=str(input))},config)\n",
    "        return response['messages'][-1].content\n",
    "    \n",
    "    def get_state(self, state_val:str):\n",
    "        config = {\"configurable\": {\"thread_id\": \"1\"}}\n",
    "        return self.agent.get_state(config).values[state_val]"
   ]
  },
  {
   "cell_type": "code",
   "execution_count": 15,
   "metadata": {},
   "outputs": [],
   "source": [
    "agent=google_agent(llm)"
   ]
  },
  {
   "cell_type": "code",
   "execution_count": 16,
   "metadata": {},
   "outputs": [],
   "source": [
    "def chatbot(input,history):\n",
    "    response=agent.chat(input)\n",
    "    return response\n"
   ]
  },
  {
   "cell_type": "code",
   "execution_count": 17,
   "metadata": {},
   "outputs": [
    {
     "name": "stdout",
     "output_type": "stream",
     "text": [
      "* Running on local URL:  http://127.0.0.1:7860\n",
      "\n",
      "To create a public link, set `share=True` in `launch()`.\n"
     ]
    },
    {
     "data": {
      "text/html": [
       "<div><iframe src=\"http://127.0.0.1:7860/\" width=\"100%\" height=\"500\" allow=\"autoplay; camera; microphone; clipboard-read; clipboard-write;\" frameborder=\"0\" allowfullscreen></iframe></div>"
      ],
      "text/plain": [
       "<IPython.core.display.HTML object>"
      ]
     },
     "metadata": {},
     "output_type": "display_data"
    }
   ],
   "source": [
    "demo = gr.ChatInterface(chatbot, type=\"messages\", autofocus=False)\n",
    "\n",
    "if __name__ == \"__main__\":\n",
    "    demo.launch()"
   ]
  },
  {
   "cell_type": "code",
   "execution_count": 17,
   "metadata": {},
   "outputs": [
    {
     "ename": "KeyError",
     "evalue": "'messages'",
     "output_type": "error",
     "traceback": [
      "\u001b[1;31m---------------------------------------------------------------------------\u001b[0m",
      "\u001b[1;31mKeyError\u001b[0m                                  Traceback (most recent call last)",
      "Cell \u001b[1;32mIn[17], line 1\u001b[0m\n\u001b[1;32m----> 1\u001b[0m \u001b[43magent\u001b[49m\u001b[38;5;241;43m.\u001b[39;49m\u001b[43mget_state\u001b[49m\u001b[43m(\u001b[49m\u001b[38;5;124;43m'\u001b[39;49m\u001b[38;5;124;43mmessages\u001b[39;49m\u001b[38;5;124;43m'\u001b[39;49m\u001b[43m)\u001b[49m\n",
      "Cell \u001b[1;32mIn[13], line 57\u001b[0m, in \u001b[0;36mgoogle_agent.get_state\u001b[1;34m(self, state_val)\u001b[0m\n\u001b[0;32m     55\u001b[0m \u001b[38;5;28;01mdef\u001b[39;00m\u001b[38;5;250m \u001b[39m\u001b[38;5;21mget_state\u001b[39m(\u001b[38;5;28mself\u001b[39m, state_val:\u001b[38;5;28mstr\u001b[39m):\n\u001b[0;32m     56\u001b[0m     config \u001b[38;5;241m=\u001b[39m {\u001b[38;5;124m\"\u001b[39m\u001b[38;5;124mconfigurable\u001b[39m\u001b[38;5;124m\"\u001b[39m: {\u001b[38;5;124m\"\u001b[39m\u001b[38;5;124mthread_id\u001b[39m\u001b[38;5;124m\"\u001b[39m: \u001b[38;5;124m\"\u001b[39m\u001b[38;5;124m1\u001b[39m\u001b[38;5;124m\"\u001b[39m}}\n\u001b[1;32m---> 57\u001b[0m     \u001b[38;5;28;01mreturn\u001b[39;00m \u001b[38;5;28;43mself\u001b[39;49m\u001b[38;5;241;43m.\u001b[39;49m\u001b[43magent\u001b[49m\u001b[38;5;241;43m.\u001b[39;49m\u001b[43mget_state\u001b[49m\u001b[43m(\u001b[49m\u001b[43mconfig\u001b[49m\u001b[43m)\u001b[49m\u001b[38;5;241;43m.\u001b[39;49m\u001b[43mvalues\u001b[49m\u001b[43m[\u001b[49m\u001b[43mstate_val\u001b[49m\u001b[43m]\u001b[49m\n",
      "\u001b[1;31mKeyError\u001b[0m: 'messages'"
     ]
    }
   ],
   "source": [
    "agent.get_state('messages')"
   ]
  }
 ],
 "metadata": {
  "kernelspec": {
   "display_name": ".venv",
   "language": "python",
   "name": "python3"
  },
  "language_info": {
   "codemirror_mode": {
    "name": "ipython",
    "version": 3
   },
   "file_extension": ".py",
   "mimetype": "text/x-python",
   "name": "python",
   "nbconvert_exporter": "python",
   "pygments_lexer": "ipython3",
   "version": "3.13.2"
  }
 },
 "nbformat": 4,
 "nbformat_minor": 2
}
