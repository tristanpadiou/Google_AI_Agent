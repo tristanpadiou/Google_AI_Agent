{
 "cells": [
  {
   "cell_type": "code",
   "execution_count": 1,
   "metadata": {},
   "outputs": [],
   "source": [
    "\n",
    "from dotenv import load_dotenv\n",
    "import os\n",
    "from langchain_google_genai import ChatGoogleGenerativeAI\n",
    "from langchain_openai import ChatOpenAI\n",
    "from pydantic_ai.models.google import GoogleModel\n",
    "from pydantic_ai.providers.google import GoogleProvider\n",
    "load_dotenv()\n",
    "import logfire\n",
    "from pydantic_ai import Agent, format_as_xml\n",
    "from pydantic_ai.ext.langchain import tool_from_langchain\n",
    "import nest_asyncio\n",
    "nest_asyncio.apply()\n",
    "google_api_key=os.getenv('google_api_key')\n",
    "pse=os.getenv('pse')\n",
    "openai_api_key=os.getenv('openai_api_key')\n",
    "composio_api_key=os.getenv('composio_api_key')\n"
   ]
  },
  {
   "cell_type": "code",
   "execution_count": 2,
   "metadata": {},
   "outputs": [],
   "source": [
    "logfire_token=os.getenv('logfire_token')"
   ]
  },
  {
   "cell_type": "code",
   "execution_count": 3,
   "metadata": {},
   "outputs": [],
   "source": [
    "import logfire\n",
    "logfire.configure(token=logfire_token)\n",
    "logfire.instrument_pydantic_ai()\n"
   ]
  },
  {
   "cell_type": "code",
   "execution_count": 4,
   "metadata": {},
   "outputs": [],
   "source": [
    "api_keys={\n",
    "    'google_api_key':google_api_key,\n",
    "    'pse':pse,\n",
    "    'openai_api_key':openai_api_key,\n",
    "    'composio_key':composio_api_key\n",
    "}\n"
   ]
  },
  {
   "cell_type": "code",
   "execution_count": 5,
   "metadata": {},
   "outputs": [
    {
     "data": {
      "text/html": [
       "<pre style=\"white-space:pre;overflow-x:auto;line-height:normal;font-family:Menlo,'DejaVu Sans Mono',consolas,'Courier New',monospace\"><span style=\"font-weight: bold\">Logfire</span> project URL: <a href=\"https://logfire-us.pydantic.dev/padioutristan/google-agent\" target=\"_blank\"><span style=\"color: #008080; text-decoration-color: #008080; text-decoration: underline\">https://logfire-us.pydantic.dev/padioutristan/google-agent</span></a>\n",
       "</pre>\n"
      ],
      "text/plain": [
       "\u001b[1mLogfire\u001b[0m project URL: \u001b]8;id=596131;https://logfire-us.pydantic.dev/padioutristan/google-agent\u001b\\\u001b[4;36mhttps://logfire-us.pydantic.dev/padioutristan/google-agent\u001b[0m\u001b]8;;\u001b\\\n"
      ]
     },
     "metadata": {},
     "output_type": "display_data"
    }
   ],
   "source": [
    "llms={'pydantic_llm':GoogleModel('gemini-2.5-flash-preview-05-20', provider=GoogleProvider(api_key=api_keys['google_api_key'])),\n",
    "              'langchain_llm':ChatGoogleGenerativeAI(google_api_key=api_keys['google_api_key'], model='gemini-2.0-flash', temperature=0.3),\n",
    "              'openai_llm':ChatOpenAI(model='gpt-4.1-nano',api_key=api_keys['openai_api_key'])}"
   ]
  },
  {
   "cell_type": "code",
   "execution_count": 6,
   "metadata": {},
   "outputs": [],
   "source": [
    "from google_agent import Google_agent\n",
    "# from composio_google import ComposioToolSet, App"
   ]
  },
  {
   "cell_type": "code",
   "execution_count": 7,
   "metadata": {},
   "outputs": [],
   "source": [
    "# toolset=ComposioToolSet(api_key=api_keys['composio_key'])\n"
   ]
  },
  {
   "cell_type": "code",
   "execution_count": 8,
   "metadata": {},
   "outputs": [],
   "source": [
    "# tools=toolset.get_tools(apps=['gmail'])\n",
    "# print(tools)"
   ]
  },
  {
   "cell_type": "code",
   "execution_count": 9,
   "metadata": {},
   "outputs": [],
   "source": [
    "# tools=[]\n",
    "# for tool in toolset.get_tools(apps=['gmail']):\n",
    "#     tools.append(tool_from_langchain(tool))"
   ]
  },
  {
   "cell_type": "code",
   "execution_count": 10,
   "metadata": {},
   "outputs": [],
   "source": [
    "# agent=Agent(llms['pydantic_llm'],tools=tools, instructions='you are a helpful assistant')"
   ]
  },
  {
   "cell_type": "code",
   "execution_count": 11,
   "metadata": {},
   "outputs": [],
   "source": [
    "# agent.run_sync('fetch the last 5 email from my gmail')"
   ]
  },
  {
   "cell_type": "code",
   "execution_count": 12,
   "metadata": {},
   "outputs": [
    {
     "name": "stderr",
     "output_type": "stream",
     "text": [
      "c:\\Users\\trist\\OneDrive\\Desktop\\important\\ai_portfolio\\Google_AI_Agent\\.venv\\Lib\\site-packages\\composio\\client\\collections.py:1183: UserWarning: Using all actions of an app is not recommended for production.Learn more: https://docs.composio.dev/patterns/tools/use-tools/use-specific-actions\n",
      "\n",
      "Give Feedback / Get Help:\n",
      "    On GitHub: https://github.com/ComposioHQ/composio/issues/new\n",
      "    On Discord: https://dub.composio.dev/discord\n",
      "    On Email: tech@composio.dev\n",
      "    Talk to us on Intercom: https://composio.dev\n",
      "    Book a call with us: https://composio.dev/redirect?url=https://calendly.com/composiohq/support?utm_source=py-sdk-logs&utm_campaign=calendly\n",
      "If you need to debug this error, set `COMPOSIO_LOGGING_LEVEL=debug`.\n",
      "  warnings.warn(\n",
      "c:\\Users\\trist\\OneDrive\\Desktop\\important\\ai_portfolio\\Google_AI_Agent\\.venv\\Lib\\site-packages\\composio\\client\\collections.py:1183: UserWarning: Using all actions of an app is not recommended for production.Learn more: https://docs.composio.dev/patterns/tools/use-tools/use-specific-actions\n",
      "\n",
      "\n",
      "  warnings.warn(\n"
     ]
    }
   ],
   "source": [
    "google_agent=Google_agent(api_keys)"
   ]
  },
  {
   "cell_type": "code",
   "execution_count": 15,
   "metadata": {},
   "outputs": [
    {
     "name": "stdout",
     "output_type": "stream",
     "text": [
      "16:43:05.366 run graph None\n",
      "16:43:05.368   run node Agent_node\n",
      "16:43:05.375     plan_agent run\n",
      "16:43:05.376       chat gemini-2.5-flash-preview-05-20\n",
      "16:43:08.472   run node router_node\n",
      "16:43:08.474   run node get_mail_details_node\n",
      "16:43:08.476     email_agent run\n",
      "16:43:08.477       chat gemini-2.5-flash-preview-05-20\n",
      "16:43:11.364   run node eval_node\n",
      "16:43:11.367     agent run\n",
      "16:43:11.368       chat gemini-2.5-flash-preview-05-20\n",
      "16:43:13.066   run node Agent_node\n",
      "16:43:13.072     plan_agent run\n",
      "16:43:13.073       chat gemini-2.5-flash-preview-05-20\n",
      "16:43:14.509   run node router_node\n"
     ]
    }
   ],
   "source": [
    "res=google_agent.chat(query='get the details of the mail from squarespace')"
   ]
  },
  {
   "cell_type": "code",
   "execution_count": 16,
   "metadata": {},
   "outputs": [
    {
     "data": {
      "text/plain": [
       "[{'Mail Manager': {'GMAIL_FETCH_EMAILS': {'data': {'drafts': [{'id': 's:10324849551178800326',\n",
       "       'message': {'id': '1974268461d66e1b', 'threadId': '1974268461d66e1b'}},\n",
       "      {'id': 'r-412666956982749756',\n",
       "       'message': {'id': '19717613e44f25a7', 'threadId': '19717613e44f25a7'}},\n",
       "      {'id': 'r-4258069671924164517',\n",
       "       'message': {'id': '196f44833b2b5178', 'threadId': '196f44833b2b5178'}}],\n",
       "     'next_page_token': None},\n",
       "    'error': None,\n",
       "    'successfull': True,\n",
       "    'successful': True,\n",
       "    'logId': 'log_8NafgRaGfNIY'}}},\n",
       " {'Mail Manager': {'GMAIL_FETCH_EMAILS': [{'message_id': '1978d609a6da11db',\n",
       "     'thread_id': '1978d609a6da11db',\n",
       "     'subject': 'Hello Summer! 🏖️🌼',\n",
       "     'sender': 'Avant Gardens <info.avant-gardens.com@hi.bloomnation.com>',\n",
       "     'date': '2025-06-20T12:35:19Z',\n",
       "     'snippet': {'body': 'Bring the sunshine inside with flowers! \\u200b\\u200b\\u200b\\u200b\\u200b\\u200b\\u200b\\u200b\\u200b\\u200b\\u200b\\u200b\\u200b\\u200b\\u200b\\u200b\\u200b\\u200b\\u200b\\u200b\\u200b\\u200b\\u200b\\u200b\\u200b\\u200b\\u200b\\u200b\\u200b\\u200b\\u200b\\u200b\\u200b\\u200b\\u200b\\u200b\\u200b\\u200b\\u200b\\u200b\\u200b\\u200b\\u200b\\u200b\\u200b\\u200b\\u200b\\u200b\\u200b\\u200b\\u200b\\u200b\\u200b\\u200b\\u200b\\u200b\\u200b\\u200b\\u200b\\u200b\\u200b\\u200b\\u200b\\u200b\\u200b\\u200b\\u200b\\u200b\\u200b\\u200b\\u200b\\u200b\\u200b\\u200b\\u200b\\u200b\\u200b\\u200b\\u200b\\u200b\\u200b\\u200b\\u200b\\u200b\\u200b\\u200b\\u200b\\u200b\\u200b\\u200b\\u200b\\u200b\\u200b\\u200b\\u200b\\u200b\\u200b\\u200b\\u200b\\u200b\\u200b\\u200b\\u200b\\u200b\\u200b\\u200b\\u200b\\u200b\\u200b\\u200b\\u200b\\u200b\\u200b\\u200b \\u200b\\u200b\\u200b\\u200b\\u200b\\u200b\\u200b\\u200b\\u200b\\u200b\\u200b\\u200b\\u200b\\u200b\\u200b\\u200b\\u200b\\u200b\\u200b\\u200b\\u200b\\u200b\\u200b\\u200b\\u200b\\u200b\\u200b\\u200b\\u200b\\u200b\\u200b\\u200b\\u200b\\u200b\\u200b\\u200b\\u200b\\u200b\\u200b\\u200b\\u200b\\u200b\\u200b\\u200b\\u200b\\u200b',\n",
       "      'subject': 'Hello Summer! 🏖️🌼'}},\n",
       "    {'message_id': '1978dc105464cf3c',\n",
       "     'thread_id': '1978d85831080ed5',\n",
       "     'subject': '20% off ends today',\n",
       "     'sender': 'Acuity Scheduling <noreply@mail.squarespace.com>',\n",
       "     'date': '2025-06-20T14:32:05Z',\n",
       "     'snippet': {'body': 'Save on an Acuity Scheduling subscription. ͏ ͏ ͏ ͏ ͏ ͏ ͏ ͏ ͏ ͏ ͏ ͏ ͏ ͏ ͏ ͏ ͏ ͏ ͏ ͏ ͏ ͏ ͏ ͏ ͏ ͏ ͏ ͏ ͏ ͏ ͏ ͏ ͏ ͏ ͏ ͏ ͏ ͏ ͏ ͏ ͏ ͏ ͏ ͏ ͏ ͏ ͏ ͏ ͏ ͏ ͏ ͏ ͏ ͏ ͏ ͏ ͏ ͏ ͏ ͏ ͏ ͏ ͏ ͏ ͏ ͏ ͏ ͏ ͏ ͏ ͏ ͏ ͏ ͏ ͏ ͏ ͏ ͏ ͏',\n",
       "      'subject': '20% off ends today'}},\n",
       "    {'message_id': '1978df9ef44b48b8',\n",
       "     'thread_id': '1978df9ef44b48b8',\n",
       "     'subject': 'Homes for You: Manhattan 1 BR for $4,600',\n",
       "     'sender': 'StreetEasy <noreply@email.streeteasy.com>',\n",
       "     'date': '2025-06-20T15:34:16Z',\n",
       "     'snippet': {'body': 'New rentals that match your browsing. 🏢 StreetEasy RENT BUY SELL New Rentals for You These new rental listings are similar to those you&#39;ve browsed on StreetEasy. Could one be your next home? Rental',\n",
       "      'subject': 'Homes for You: Manhattan 1 BR for $4,600'}},\n",
       "    {'message_id': '1978d85831080ed5',\n",
       "     'thread_id': '1978d85831080ed5',\n",
       "     'subject': '20% off ends today',\n",
       "     'sender': 'Squarespace <noreply@mail.squarespace.com>',\n",
       "     'date': '2025-06-20T13:06:57Z',\n",
       "     'snippet': {'body': 'Save on your next website subscription and get a free domain. ͏ ͏ ͏ ͏ ͏ ͏ ͏ ͏ ͏ ͏ ͏ ͏ ͏ ͏ ͏ ͏ ͏ ͏ ͏ ͏ ͏ ͏ ͏ ͏ ͏ ͏ ͏ ͏ ͏ ͏ ͏ ͏ ͏ ͏ ͏ ͏ ͏ ͏ ͏ ͏ ͏ ͏ ͏ ͏ ͏ ͏ ͏ ͏ ͏ ͏ ͏ ͏ ͏ ͏ ͏ ͏ ͏ ͏ ͏ ͏ ͏ ͏ ͏ ͏ ͏ ͏ ͏ ͏ ͏ ͏',\n",
       "      'subject': '20% off ends today'}},\n",
       "    {'message_id': '1978d50023bad519',\n",
       "     'thread_id': '1978d50023bad519',\n",
       "     'subject': '✨ Grammarly Pro is 50% off!',\n",
       "     'sender': 'Grammarly <hello@mail.grammarly.com>',\n",
       "     'date': '2025-06-20T12:28:40Z',\n",
       "     'snippet': {'body': 'A whole year of better writing is waiting for you. \\u200c \\u200c \\u200c \\u200c \\u200c \\u200c \\u200c \\u200c \\u200c \\u200c \\u200c \\u200c \\u200c \\u200c \\u200c \\u200c \\u200c \\u200c \\u200c \\u200c \\u200c \\u200c \\u200c \\u200c \\u200c \\u200c \\u200c \\u200c \\u200c \\u200c \\u200c \\u200c \\u200c \\u200c \\u200c \\u200c \\u200c \\u200c \\u200c \\u200c \\u200c \\u200c \\u200c \\u200c \\u200c \\u200c \\u200c \\u200c \\u200c \\u200c \\u200c \\u200c \\u200c \\u200c \\u200c \\u200c \\u200c \\u200c \\u200c \\u200c \\u200c \\u200c \\u200c \\u200c \\u200c \\u200c \\u200c \\u200c \\u200c \\u200c \\u200c \\u200c \\u200c \\u200c \\u200c',\n",
       "      'subject': '✨ Grammarly Pro is 50% off!'}}]}},\n",
       " {'Get_mail_details': {'get_mail_details': {'message_id': '1978d85831080ed5',\n",
       "    'thread_id': '1978d85831080ed5',\n",
       "    'subject': '20% off ends today',\n",
       "    'sender': 'Squarespace <noreply@mail.squarespace.com>',\n",
       "    'date': '2025-06-20T13:06:57Z',\n",
       "    'snippet': {'body': 'Save on your next website subscription and get a free domain. ͏ ͏ ͏ ͏ ͏ ͏ ͏ ͏ ͏ ͏ ͏ ͏ ͏ ͏ ͏ ͏ ͏ ͏ ͏ ͏ ͏ ͏ ͏ ͏ ͏ ͏ ͏ ͏ ͏ ͏ ͏ ͏ ͏ ͏ ͏ ͏ ͏ ͏ ͏ ͏ ͏ ͏ ͏ ͏ ͏ ͏ ͏ ͏ ͏ ͏ ͏ ͏ ͏ ͏ ͏ ͏ ͏ ͏ ͏ ͏ ͏ ͏ ͏ ͏ ͏ ͏ ͏ ͏ ͏ ͏',\n",
       "     'subject': '20% off ends today'},\n",
       "    'messageText': 'Squarespace Save on your next website subscription and get a free domain.  \\u2007͏ \\n\\u2007͏ \\u2007͏ \\u2007͏ \\u2007͏ \\u2007͏ \\u2007͏ \\u2007͏ \\u2007͏ \\u2007͏ \\u2007͏ \\u2007͏ \\u2007͏ \\u2007͏ \\u2007͏ \\u2007͏ \\u2007͏ \\u2007͏ \\u2007͏ \\u2007͏ \\u2007͏ \\u2007͏ \\u2007͏ \\u2007͏ \\u2007͏ \\u2007͏ \\u2007͏ \\n\\u2007͏ \\u2007͏ \\u2007͏ \\u2007͏ \\u2007͏ \\u2007͏ \\u2007͏ \\u2007͏ \\u2007͏ \\u2007͏ \\u2007͏ \\u2007͏ \\u2007͏ \\u2007͏ \\u2007͏ \\u2007͏ \\u2007͏ \\u2007͏ \\u2007͏ \\u2007͏ \\u2007͏ \\u2007͏ \\u2007͏ \\u2007͏ \\u2007͏ \\u2007͏ \\n\\u2007͏ \\u2007͏ \\u2007͏ \\u2007͏ \\u2007͏ \\u2007͏ \\u2007͏ \\u2007͏ \\u2007͏ \\u2007͏ \\u2007͏ \\u2007͏ \\u2007͏ \\u2007͏ \\u2007͏ \\u2007͏ \\u2007͏ \\u2007͏ \\u2007͏ \\u2007͏ \\u2007͏ \\u2007͏ \\u2007͏ \\u2007͏ \\u2007͏ \\u2007͏ \\n\\u2007͏ \\u2007͏ \\u2007͏ \\u2007͏ \\u2007͏ \\u2007͏ \\u2007͏ \\u2007͏ \\u2007͏ \\u2007͏ \\u2007͏ \\u2007͏ \\u2007͏ \\u2007͏ \\u2007͏ \\u2007͏ \\u2007͏ \\u2007͏ \\u2007͏ \\u2007͏ \\u2007͏ \\u2007͏ \\u2007͏ \\u2007͏ \\u2007͏ \\u2007͏ \\n\\u2007͏ \\u2007͏ \\u2007͏ \\u2007͏ \\u2007͏ \\u2007͏ \\u2007͏ \\u2007͏ \\u2007͏ \\u2007͏ \\u2007͏ \\u2007͏ \\u2007͏ \\u2007͏ \\u2007͏ \\u2007͏ \\u2007͏ \\u2007͏ \\u2007͏ \\u2007͏ \\u2007͏ \\u2007͏ \\u2007͏ \\u2007͏ \\u2007͏ \\u2007͏ \\n\\u2007͏ \\u2007͏ \\u2007͏ \\u2007͏ \\u2007͏ \\u2007͏ \\u2007͏ \\n\\n\\n\\n\\n\\n <https://www.squarespace.com/> \\n Take 20% off a new website subscription and get a free domain.* \\n Use code W6EGET20 from now until 11:59PM ET on Friday, June 20 to redeem this \\noffer. \\n\\nGET 20% OFF \\n<https://capybera-fife-8je3.squarespace.com/config/settings/billing/billing-trial/upgrade>\\n \\n<https://capybera-fife-8je3.squarespace.com/config/settings/billing/billing-trial/upgrade>\\n\\n What can a Squarespace website do for you? \\n Website templates for every purpose \\n Start with a flexible designer template or build your own \\n Designed to sell anything \\n Set up an ecommerce store, book appointments, or sell your skills \\n AI tools to make website building easier \\n Speed up website creation with AI-generated copy, images, pages, or a full \\nsite \\n\\n Questions about your discount code? Check out our support guide \\n<https://support.squarespace.com/hc/articles/206566697-Redeeming-an-offer-code-for-Squarespace>\\n. \\n *Free custom domain for your first year with annual website plans, only. \\nDiscount does not apply to future recurring payments. Discount may not be \\napplied to previous purchases, subscription upgrades, combined with any other \\noffer or applied after 6/20/2025 to purchases made before expiration of this \\noffer. \\n\\n\\n <https://www.squarespace.com/> \\n\\n Terms of Service  <https://www.squarespace.com/terms-of-service/>  Privacy \\nPolicy <https://www.squarespace.com/privacy/>  Unsubscribe  \\n<https://links.squarespace.com/s/eh/RA9sU5pTODyzTz5tCvNFl6BMx4D-c4aqerq6V3Y4ZnEIsurUUyKrmICBD8wKW8rFG0uKHENJ5GNagwLTgu7aBGAEM6rEgEmT2Zo2bZzTxhI4DemkEZXrPBC0hzDKEkElE1QxJAxEyB0d1RfXUh1nz5vCFJuYme7sqr3t4oQECC9fstU3VmxYijaZJp_SF9QKN6eShAWkKdvofXHWJD_TXt4WC3m6N5vmOu9KPa3T4w_1lDPldw5f_alRhGNK_GgTtgsMFLTkMnwTczFOGTeHv4JOOhkx2muShMS84iuss7vrj5Z5BkJCwxyJoqeO6Imx5rKAzGLTwn44shKxIIhHOVrk-G746l3pKhf24BMb2rA9ZWM1h5Aj2fIZn7ve26Ag/KghNBg-ippFiT4cc-hPSsKuUARa2SGwC/10>\\n View this email in your browser  \\n<https://links.squarespace.com/s/vb/EZxN4qN-hKqkl7DpAYgQjIhqTjMiEhufkmHiAsdiKkTJD1ZJPCEz7xSDgGJo9EzpGy2D-6jgo9y0kdCwwccQK8ZO0oPVhH120pNd_9x9bxRtATR-rlWQ9H57BuTAc4k9Ma61ORgc0faz9axi9Q/WvyxHYeqJ8VBTniQ6k4ZQa6T5B0d4KNB/10>\\n\\n\\n <https://acuityscheduling.com/> \\nACUITY <https://acuityscheduling.com/> \\n <https://biosites.com/> \\nBIO SITES <https://biosites.com/> \\n <https://unfold.com> \\nUNFOLD <https://unfold.com> \\n <https://domains.squarespace.com/> \\nDOMAINS <https://domains.squarespace.com/> \\n This email was sent by Squarespace, Inc., 225 Varick Street, 12th Floor, New \\nYork, NY 10014'}}}]"
      ]
     },
     "execution_count": 16,
     "metadata": {},
     "output_type": "execute_result"
    }
   ],
   "source": [
    "res.node_messages_list\n"
   ]
  }
 ],
 "metadata": {
  "kernelspec": {
   "display_name": ".venv",
   "language": "python",
   "name": "python3"
  },
  "language_info": {
   "codemirror_mode": {
    "name": "ipython",
    "version": 3
   },
   "file_extension": ".py",
   "mimetype": "text/x-python",
   "name": "python",
   "nbconvert_exporter": "python",
   "pygments_lexer": "ipython3",
   "version": "3.13.2"
  }
 },
 "nbformat": 4,
 "nbformat_minor": 2
}
