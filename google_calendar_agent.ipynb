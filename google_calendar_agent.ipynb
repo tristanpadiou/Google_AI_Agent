{
 "cells": [
  {
   "cell_type": "code",
   "execution_count": 1,
   "metadata": {},
   "outputs": [],
   "source": [
    "from langchain_google_genai import ChatGoogleGenerativeAI\n",
    "from langchain.tools import tool\n",
    "from langgraph.graph import StateGraph, START, END\n",
    "from langgraph.graph.message import add_messages\n",
    "from langgraph.prebuilt import ToolNode, tools_condition,InjectedState\n",
    "from langchain_core.messages import (\n",
    "    HumanMessage,\n",
    "    ToolMessage,\n",
    ")\n",
    "from langgraph.types import Command\n",
    "from langgraph.checkpoint.memory import MemorySaver\n",
    "from langchain_core.tools.base import InjectedToolCallId\n",
    "\n",
    "from dataclasses import dataclass\n",
    "from typing_extensions import TypedDict\n",
    "from typing import Annotated, Literal\n",
    "from pydantic import BaseModel, Field\n",
    "#get graph visuals\n",
    "from IPython.display import Image, display\n",
    "from langchain_core.runnables.graph import MermaidDrawMethod\n",
    "import os\n",
    "from dotenv import load_dotenv \n",
    "load_dotenv()\n",
    "GOOGLE_API_KEY=os.getenv('google_api_key')"
   ]
  },
  {
   "cell_type": "code",
   "execution_count": 2,
   "metadata": {},
   "outputs": [],
   "source": [
    "GEMINI_MODEL='gemini-2.0-flash'\n",
    "llm = ChatGoogleGenerativeAI(google_api_key=GOOGLE_API_KEY, model=GEMINI_MODEL, temperature=0.3)"
   ]
  },
  {
   "cell_type": "code",
   "execution_count": 5,
   "metadata": {},
   "outputs": [
    {
     "name": "stderr",
     "output_type": "stream",
     "text": [
      "C:\\Users\\tristan\\AppData\\Local\\Temp\\ipykernel_30972\\361728452.py:21: DeprecationWarning: datetime.datetime.utcnow() is deprecated and scheduled for removal in a future version. Use timezone-aware objects to represent datetimes in UTC: datetime.datetime.now(datetime.UTC).\n",
      "  now = datetime.datetime.utcnow().isoformat() + \"Z\"  # 'Z' indicates UTC time\n"
     ]
    },
    {
     "name": "stdout",
     "output_type": "stream",
     "text": [
      "Getting the upcoming 10 events\n",
      "2025-09-07T11:00:00-04:00 Titouan: Festival, ile de re\n",
      "2025-12-14 Loanne birthday\n",
      "2025-12-21 Anna birthday\n",
      "2026-12-14 Loanne birthday\n",
      "2026-12-21 Anna birthday\n",
      "2027-12-14 Loanne birthday\n",
      "2027-12-21 Anna birthday\n",
      "2028-12-14 Loanne birthday\n",
      "2028-12-21 Anna birthday\n",
      "2029-12-14 Loanne birthday\n"
     ]
    }
   ],
   "source": [
    "import datetime\n",
    "import os.path\n",
    "\n",
    "from google.auth.transport.requests import Request\n",
    "from google.oauth2.credentials import Credentials\n",
    "from google_auth_oauthlib.flow import InstalledAppFlow\n",
    "from googleapiclient.discovery import build\n",
    "from googleapiclient.errors import HttpError\n",
    "\n",
    "\n",
    "\n",
    "\n",
    "if os.path.exists(\"token.json\"):\n",
    "    creds = Credentials.from_authorized_user_file(\"token.json\")\n",
    "\n",
    "\n",
    "try:\n",
    "    service = build(\"calendar\", \"v3\", credentials=creds)\n",
    "\n",
    "    # Call the Calendar API\n",
    "    now = datetime.datetime.utcnow().isoformat() + \"Z\"  # 'Z' indicates UTC time\n",
    "    print(\"Getting the upcoming 10 events\")\n",
    "    events_result = (\n",
    "        service.events()\n",
    "        .list(\n",
    "            calendarId=\"primary\",\n",
    "            timeMin=now,\n",
    "            maxResults=10,\n",
    "            singleEvents=True,\n",
    "            orderBy=\"startTime\",\n",
    "        )\n",
    "        .execute()\n",
    "    )\n",
    "    events = events_result.get(\"items\", [])\n",
    "\n",
    "    if not events:\n",
    "        print(\"No upcoming events found.\")\n",
    "      \n",
    "    # Prints the start and name of the next 10 events\n",
    "    for event in events:\n",
    "        start = event[\"start\"].get(\"dateTime\", event[\"start\"].get(\"date\"))\n",
    "        print(start, event[\"summary\"])\n",
    "\n",
    "except HttpError as error:\n",
    "    print(f\"An error occurred: {error}\")\n"
   ]
  },
  {
   "cell_type": "code",
   "execution_count": null,
   "metadata": {},
   "outputs": [],
   "source": []
  }
 ],
 "metadata": {
  "kernelspec": {
   "display_name": "localllm",
   "language": "python",
   "name": "python3"
  },
  "language_info": {
   "codemirror_mode": {
    "name": "ipython",
    "version": 3
   },
   "file_extension": ".py",
   "mimetype": "text/x-python",
   "name": "python",
   "nbconvert_exporter": "python",
   "pygments_lexer": "ipython3",
   "version": "3.12.3"
  }
 },
 "nbformat": 4,
 "nbformat_minor": 2
}
