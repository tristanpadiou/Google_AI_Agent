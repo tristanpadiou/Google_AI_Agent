{
 "cells": [
  {
   "cell_type": "code",
   "execution_count": 1,
   "metadata": {},
   "outputs": [],
   "source": [
    "from langchain_google_genai import ChatGoogleGenerativeAI\n",
    "from langchain.tools import tool\n",
    "from langgraph.graph import StateGraph, START, END\n",
    "from langgraph.graph.message import add_messages\n",
    "from langgraph.prebuilt import ToolNode, tools_condition,InjectedState\n",
    "from langchain_core.messages import (\n",
    "    HumanMessage,\n",
    "    ToolMessage,\n",
    ")\n",
    "from langgraph.types import Command\n",
    "from langgraph.checkpoint.memory import MemorySaver\n",
    "from langchain_core.tools.base import InjectedToolCallId\n",
    "from langgraph.store.memory import InMemoryStore\n",
    "\n",
    "from typing_extensions import TypedDict\n",
    "from typing import Annotated\n",
    "#get graph visuals\n",
    "from IPython.display import Image, display\n",
    "from langchain_core.runnables.graph import MermaidDrawMethod\n",
    "import os\n",
    "from dotenv import load_dotenv \n",
    "\n",
    "import os.path\n",
    "from google.oauth2.credentials import Credentials\n",
    "from googleapiclient.discovery import build\n",
    "from googleapiclient.errors import HttpError\n",
    "load_dotenv()\n",
    "GOOGLE_API_KEY=os.getenv('google_api_key')"
   ]
  },
  {
   "cell_type": "code",
   "execution_count": 2,
   "metadata": {},
   "outputs": [],
   "source": [
    "GEMINI_MODEL='gemini-2.0-flash'\n",
    "llm = ChatGoogleGenerativeAI(google_api_key=GOOGLE_API_KEY, model=GEMINI_MODEL, temperature=0.3)"
   ]
  },
  {
   "cell_type": "code",
   "execution_count": 3,
   "metadata": {},
   "outputs": [],
   "source": [
    "class State(TypedDict):\n",
    "    \"\"\"\n",
    "    A dictionnary representing the state of the agent.\n",
    "    \"\"\"\n",
    "    messages: Annotated[list, add_messages]\n",
    "    tasklist:dict\n",
    "    task: dict"
   ]
  },
  {
   "cell_type": "code",
   "execution_count": 4,
   "metadata": {},
   "outputs": [],
   "source": [
    "store=InMemoryStore()"
   ]
  },
  {
   "cell_type": "code",
   "execution_count": 5,
   "metadata": {},
   "outputs": [],
   "source": [
    "if os.path.exists(\"token.json\"):\n",
    "    creds = Credentials.from_authorized_user_file(\"token.json\")\n",
    "try:\n",
    "    # create gmail api client\n",
    "    service = build(\"tasks\", \"v1\", credentials=creds)\n",
    "\n",
    "except HttpError as error:\n",
    "    print(f\"An error occurred: {error}\")"
   ]
  },
  {
   "cell_type": "code",
   "execution_count": 6,
   "metadata": {},
   "outputs": [],
   "source": [
    "@tool\n",
    "def list_tasklists(tool_call_id: Annotated[str, InjectedToolCallId]) -> Command:\n",
    "    \"\"\"Tool to get the tasklists, can be used to refresh tasklists\n",
    "    agrs: none\n",
    "    \"\"\"\n",
    "    try:\n",
    "        tasklists=service.tasklists().list(maxResults=10).execute()\n",
    "        tasklists={tasklist.get('title'):tasklist for tasklist in tasklists.get('items')}\n",
    "       \n",
    "        return Command(update={\n",
    "                            'messages':[ToolMessage(tasklists,tool_call_id=tool_call_id)]})\n",
    "    except:  \n",
    "        return Command(update={'messages':[ToolMessage('failed to get tasklists',tool_call_id=tool_call_id)]})"
   ]
  },
  {
   "cell_type": "code",
   "execution_count": 7,
   "metadata": {},
   "outputs": [],
   "source": [
    "@tool\n",
    "def list_tasks(id:str ,tool_call_id: Annotated[str, InjectedToolCallId]) -> Command:\n",
    "    \"\"\"\n",
    "    Tool to list tasks in a specific tasklist, can be used to refresh tasklist and to get task ids\n",
    "    args: id - The id of the tasklist\n",
    "    \"\"\"\n",
    "    try:\n",
    "        \n",
    "        tasklist=service.tasks().list(tasklist=id).execute()\n",
    "        tasks={task.get('title'):task for task in tasklist.get('items')}\n",
    "        tasks={'id':id,\n",
    "               'tasks':tasks}\n",
    "        return Command(update={'tasklist':tasks,\n",
    "                    'messages':[ToolMessage(tasks,tool_call_id=tool_call_id)]})\n",
    "    except: \n",
    "        return Command(update={'messages':[ToolMessage('failed to get tasklist',tool_call_id=tool_call_id)]})"
   ]
  },
  {
   "cell_type": "code",
   "execution_count": 8,
   "metadata": {},
   "outputs": [],
   "source": [
    "@tool\n",
    "def get_task(task_id: str,state: Annotated[dict, InjectedState],tool_call_id: Annotated[str, InjectedToolCallId]) -> Command:\n",
    "    \"\"\"Tool to get a task detail, can be used to refresh tasks\n",
    "    args: task_id - the id of the task\n",
    "    \"\"\"\n",
    "    try:\n",
    "        tasklist_id=state['tasklist'].get('id')\n",
    "        task=service.tasks().get(tasklist=tasklist_id, task=task_id).execute()\n",
    "        return Command(update={'task':task,\n",
    "                            'messages':[ToolMessage(task,tool_call_id=tool_call_id)]})\n",
    "    except: \n",
    "        return Command(update={'messages':[ToolMessage('failed to get task, use the list_tasklist tool to get tasklist id and then get_specific_tasklist tool to get task id',tool_call_id=tool_call_id)]})"
   ]
  },
  {
   "cell_type": "code",
   "execution_count": 9,
   "metadata": {},
   "outputs": [],
   "source": [
    "@tool \n",
    "def complete_task(task_id:str ,state: Annotated[dict, InjectedState],tool_call_id: Annotated[str, InjectedToolCallId]) -> Command:\n",
    "    \"\"\"tool to complete a task, once a task is completed it is deleted\n",
    "    args: task_id - the id of the task, can be found using list_tasks tool\n",
    "    \"\"\"\n",
    "    try:\n",
    "        \n",
    "        tasklist_id=state['tasklist'].get('id')\n",
    "        task=service.tasks().get(tasklist=tasklist_id, task=task_id).execute()\n",
    "        task['status']='completed'\n",
    "        response=service.tasks().update(tasklist=tasklist_id,task=task_id, body=task).execute()\n",
    "        clear=service.tasks().clear(tasklist=tasklist_id).execute()\n",
    "        return Command(update={'messages':[ToolMessage('task completed', tool_call_id=tool_call_id)]})\n",
    "    except:\n",
    "        return Command(update={'messages':[ToolMessage('error :(', tool_call_id=tool_call_id)]})\n",
    "    \n",
    "    "
   ]
  },
  {
   "cell_type": "code",
   "execution_count": 10,
   "metadata": {},
   "outputs": [],
   "source": [
    "@tool\n",
    "def create_task(task:dict,state: Annotated[dict, InjectedState] ,tool_call_id: Annotated[str, InjectedToolCallId]) -> Command:\n",
    "    \"\"\"\n",
    "    Tool to create a task following the task format\n",
    "\n",
    "    args: \n",
    "\n",
    "    task - the body of the task takes the form of:\n",
    "    {\n",
    "  \"title\": string, Title of the task. Maximum length allowed: 1024 characters.\n",
    "  \"notes\": string, Notes describing the task. Maximum length allowed: 8192 characters.Optional.\n",
    "  \"due\": string, Due date of the task (as a RFC 3339 timestamp)}. Optional. The due date only records date information; the time portion of the timestamp is discarded when setting the due date.\n",
    "    \"\"\"\n",
    "    try:\n",
    "        tasklist_id=state['tasklist'].get('id')\n",
    "        task=service.tasks().insert(tasklist=tasklist_id,body=task).execute()\n",
    "        return Command(update={'messages':[ToolMessage('task created', tool_call_id=tool_call_id)]})\n",
    "    except:\n",
    "        return Command(update={'messages':[ToolMessage(f'error :( : {task}', tool_call_id=tool_call_id)]})\n"
   ]
  },
  {
   "cell_type": "code",
   "execution_count": null,
   "metadata": {},
   "outputs": [],
   "source": [
    "class tasks_agent:\n",
    "    def __init__(self,llm : any):\n",
    "        self.agent=self._setup(llm)\n",
    "    def _setup(self,llm):\n",
    "        langgraph_tools=[complete_task,get_task,list_tasks, create_task, list_tasklists]\n",
    "\n",
    "\n",
    "\n",
    "        graph_builder = StateGraph(State)\n",
    "\n",
    "        # Modification: tell the LLM which tools it can call\n",
    "        llm_with_tools = llm.bind_tools(langgraph_tools)\n",
    "        tool_node = ToolNode(tools=langgraph_tools)\n",
    "        def chatbot(state: State):\n",
    "            \"\"\" tasks assistant that answers user questions about their tasks.\n",
    "            Depending on the request, leverage which tools to use if necessary.\"\"\"\n",
    "            return {\"messages\": [llm_with_tools.invoke(state['messages'])]}\n",
    "\n",
    "        graph_builder.add_node(\"chatbot\", chatbot)\n",
    "\n",
    "        graph_builder.add_node(\"tools\", tool_node)\n",
    "        # Any time a tool is called, we return to the chatbot to decide the next step\n",
    "        graph_builder.set_entry_point(\"chatbot\")\n",
    "        graph_builder.add_edge(\"tools\", \"chatbot\")\n",
    "        graph_builder.add_conditional_edges(\n",
    "            \"chatbot\",\n",
    "            tools_condition,\n",
    "        )\n",
    "        memory=MemorySaver()\n",
    "        graph=graph_builder.compile(checkpointer=memory, store=store)\n",
    "        return graph\n",
    "        \n",
    "\n",
    "    def display_graph(self):\n",
    "        return display(\n",
    "                        Image(\n",
    "                                self.agent.get_graph().draw_mermaid_png(\n",
    "                                    draw_method=MermaidDrawMethod.API,\n",
    "                                )\n",
    "                            )\n",
    "                        )\n",
    "    def stream(self,input:str):\n",
    "        config = {\"configurable\": {\"thread_id\": \"1\"}}\n",
    "        input_message = HumanMessage(content=input)\n",
    "        for event in self.agent.stream({\"messages\": [input_message]}, config, stream_mode=\"values\"):\n",
    "            event[\"messages\"][-1].pretty_print()\n",
    "\n",
    "    def chat(self,input:str):\n",
    "        config = {\"configurable\": {\"thread_id\": \"1\"}}\n",
    "        response=self.agent.invoke({'messages':HumanMessage(content=str(input))},config)\n",
    "        return response['messages'][-1].content\n",
    "    \n",
    "    def get_state(self, state_val:str):\n",
    "        config = {\"configurable\": {\"thread_id\": \"1\"}}\n",
    "        return self.agent.get_state(config).values[state_val]"
   ]
  },
  {
   "cell_type": "code",
   "execution_count": 12,
   "metadata": {},
   "outputs": [],
   "source": [
    "agent=tasks_agent(llm)"
   ]
  },
  {
   "cell_type": "code",
   "execution_count": 16,
   "metadata": {},
   "outputs": [
    {
     "name": "stdout",
     "output_type": "stream",
     "text": [
      "================================\u001b[1m Human Message \u001b[0m=================================\n",
      "\n",
      "yes\n",
      "==================================\u001b[1m Ai Message \u001b[0m==================================\n",
      "Tool Calls:\n",
      "  list_tasks (cf36ec9e-f613-4cf7-91a6-bad119391a09)\n",
      " Call ID: cf36ec9e-f613-4cf7-91a6-bad119391a09\n",
      "  Args:\n",
      "    id: MDMyNDkzMjIzMzQ5ODI4MTU2MjY6MDow\n",
      "=================================\u001b[1m Tool Message \u001b[0m=================================\n",
      "Name: list_tasks\n",
      "\n",
      "{'id': 'MDMyNDkzMjIzMzQ5ODI4MTU2MjY6MDow', 'tasks': {'Massage gun': {'kind': 'tasks#task', 'id': 'ZVRTMzQ0VjRvYVFEaTFSaA', 'etag': '\"MTI1ODIyOTY1Nw\"', 'title': 'Massage gun', 'updated': '2025-02-28T05:19:44.000Z', 'selfLink': 'https://www.googleapis.com/tasks/v1/lists/MDMyNDkzMjIzMzQ5ODI4MTU2MjY6MDow/tasks/ZVRTMzQ0VjRvYVFEaTFSaA', 'position': '00000000000000000000', 'status': 'needsAction', 'due': '2025-02-28T00:00:00.000Z', 'links': [], 'webViewLink': 'https://tasks.google.com/task/eTS344V4oaQDi1Rh?sa=6'}}}\n",
      "==================================\u001b[1m Ai Message \u001b[0m==================================\n",
      "\n",
      "OK. There is one task in your tasklist 'My Tasks':\n",
      "Title: Massage gun\n",
      "Due: 2025-02-28T00:00:00.000Z\n",
      "Status: needsAction\n"
     ]
    }
   ],
   "source": [
    "agent.stream('yes')"
   ]
  }
 ],
 "metadata": {
  "kernelspec": {
   "display_name": ".venv",
   "language": "python",
   "name": "python3"
  },
  "language_info": {
   "codemirror_mode": {
    "name": "ipython",
    "version": 3
   },
   "file_extension": ".py",
   "mimetype": "text/x-python",
   "name": "python",
   "nbconvert_exporter": "python",
   "pygments_lexer": "ipython3",
   "version": "3.13.2"
  }
 },
 "nbformat": 4,
 "nbformat_minor": 2
}
