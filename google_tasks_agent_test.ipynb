{
 "cells": [
  {
   "cell_type": "code",
   "execution_count": null,
   "metadata": {
    "vscode": {
     "languageId": "plaintext"
    }
   },
   "outputs": [],
   "source": [
    "from langchain_google_genai import ChatGoogleGenerativeAI\n",
    "from langchain.tools import tool\n",
    "from langgraph.graph import StateGraph, START, END\n",
    "from langgraph.graph.message import add_messages\n",
    "from langgraph.prebuilt import ToolNode, tools_condition,InjectedState\n",
    "from langchain_core.messages import (\n",
    "    HumanMessage,\n",
    "    ToolMessage,\n",
    ")\n",
    "from langgraph.types import Command\n",
    "from langgraph.checkpoint.memory import MemorySaver\n",
    "from langchain_core.tools.base import InjectedToolCallId\n",
    "\n",
    "from typing_extensions import TypedDict\n",
    "from typing import Annotated\n",
    "#get graph visuals\n",
    "from IPython.display import Image, display\n",
    "from langchain_core.runnables.graph import MermaidDrawMethod\n",
    "import os\n",
    "from dotenv import load_dotenv \n",
    "\n",
    "import os.path\n",
    "import base64\n",
    "from google.auth.transport.requests import Request\n",
    "from google.oauth2.credentials import Credentials\n",
    "from google_auth_oauthlib.flow import InstalledAppFlow\n",
    "from googleapiclient.discovery import build\n",
    "from googleapiclient.errors import HttpError\n",
    "from email.message import EmailMessage\n",
    "load_dotenv()\n",
    "GOOGLE_API_KEY=os.getenv('google_api_key')"
   ]
  },
  {
   "cell_type": "code",
   "execution_count": null,
   "metadata": {
    "vscode": {
     "languageId": "plaintext"
    }
   },
   "outputs": [],
   "source": [
    "GEMINI_MODEL='gemini-2.0-flash'\n",
    "llm = ChatGoogleGenerativeAI(google_api_key=GOOGLE_API_KEY, model=GEMINI_MODEL, temperature=0.3)"
   ]
  },
  {
   "cell_type": "code",
   "execution_count": null,
   "metadata": {
    "vscode": {
     "languageId": "plaintext"
    }
   },
   "outputs": [],
   "source": [
    "class State(TypedDict):\n",
    "    \"\"\"\n",
    "    A dictionnary representing the state of the agent.\n",
    "    \"\"\"\n",
    "    messages: Annotated[list, add_messages]"
   ]
  },
  {
   "cell_type": "code",
   "execution_count": null,
   "metadata": {
    "vscode": {
     "languageId": "plaintext"
    }
   },
   "outputs": [],
   "source": [
    "if os.path.exists(\"token.json\"):\n",
    "    creds = Credentials.from_authorized_user_file(\"token.json\")\n",
    "try:\n",
    "    # create gmail api client\n",
    "    service = build(\"tasks\", \"v1\", credentials=creds)\n",
    "\n",
    "except HttpError as error:\n",
    "    print(f\"An error occurred: {error}\")"
   ]
  },
  {
   "cell_type": "code",
   "execution_count": null,
   "metadata": {
    "vscode": {
     "languageId": "plaintext"
    }
   },
   "outputs": [],
   "source": [
    "class tasks_agent:\n",
    "    def __init__(self,llm : any):\n",
    "        self.agent=self._setup(llm)\n",
    "    def _setup(self,llm):\n",
    "        langgraph_tools=[get_new_mail,create_email,display_email,show_inbox,verify_draft,send_email]\n",
    "\n",
    "\n",
    "\n",
    "        graph_builder = StateGraph(State)\n",
    "\n",
    "        # Modification: tell the LLM which tools it can call\n",
    "        llm_with_tools = llm.bind_tools(langgraph_tools)\n",
    "        tool_node = ToolNode(tools=langgraph_tools)\n",
    "        def chatbot(state: State):\n",
    "            \"\"\" travel assistant that answers user questions about their trip.\n",
    "            Depending on the request, leverage which tools to use if necessary.\"\"\"\n",
    "            return {\"messages\": [llm_with_tools.invoke(state['messages'])]}\n",
    "\n",
    "        graph_builder.add_node(\"chatbot\", chatbot)\n",
    "\n",
    "        graph_builder.add_node(\"tools\", tool_node)\n",
    "        # Any time a tool is called, we return to the chatbot to decide the next step\n",
    "        graph_builder.set_entry_point(\"chatbot\")\n",
    "        graph_builder.add_edge(\"tools\", \"chatbot\")\n",
    "        graph_builder.add_conditional_edges(\n",
    "            \"chatbot\",\n",
    "            tools_condition,\n",
    "        )\n",
    "        memory=MemorySaver()\n",
    "        graph=graph_builder.compile(checkpointer=memory)\n",
    "        return graph\n",
    "        \n",
    "\n",
    "    def display_graph(self):\n",
    "        return display(\n",
    "                        Image(\n",
    "                                self.agent.get_graph().draw_mermaid_png(\n",
    "                                    draw_method=MermaidDrawMethod.API,\n",
    "                                )\n",
    "                            )\n",
    "                        )\n",
    "    def stream(self,input:str):\n",
    "        config = {\"configurable\": {\"thread_id\": \"1\"}}\n",
    "        input_message = HumanMessage(content=input)\n",
    "        for event in self.agent.stream({\"messages\": [input_message]}, config, stream_mode=\"values\"):\n",
    "            event[\"messages\"][-1].pretty_print()\n",
    "\n",
    "    def chat(self,input:str):\n",
    "        config = {\"configurable\": {\"thread_id\": \"1\"}}\n",
    "        response=self.agent.invoke({'messages':HumanMessage(content=str(input))},config)\n",
    "        return response['messages'][-1].content\n",
    "    \n",
    "    def get_state(self, state_val:str):\n",
    "        config = {\"configurable\": {\"thread_id\": \"1\"}}\n",
    "        return self.agent.get_state(config).values[state_val]"
   ]
  }
 ],
 "metadata": {
  "language_info": {
   "name": "python"
  }
 },
 "nbformat": 4,
 "nbformat_minor": 2
}
