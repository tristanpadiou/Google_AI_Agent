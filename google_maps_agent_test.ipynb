{
 "cells": [
  {
   "cell_type": "code",
   "execution_count": 1,
   "metadata": {},
   "outputs": [
    {
     "data": {
      "text/plain": [
       "True"
      ]
     },
     "execution_count": 1,
     "metadata": {},
     "output_type": "execute_result"
    }
   ],
   "source": [
    "from langchain_google_genai import ChatGoogleGenerativeAI\n",
    "from langchain.tools import tool\n",
    "\n",
    "from langgraph.graph import StateGraph, START, END\n",
    "from langgraph.graph.message import add_messages\n",
    "from langgraph.prebuilt import ToolNode, tools_condition,InjectedState\n",
    "from langchain_core.messages import (\n",
    "    SystemMessage,\n",
    "    HumanMessage,\n",
    "    AIMessage,\n",
    "    ToolMessage,\n",
    ")\n",
    "from langgraph.types import Command, interrupt\n",
    "from langgraph.checkpoint.memory import MemorySaver\n",
    "from langchain_core.tools.base import InjectedToolCallId\n",
    "from langchain_core.output_parsers import JsonOutputParser\n",
    "from langchain_core.prompts import PromptTemplate\n",
    "from typing_extensions import TypedDict\n",
    "from typing import Annotated\n",
    "\n",
    "#get graph visuals\n",
    "from IPython.display import Image, display\n",
    "from langchain_core.runnables.graph import MermaidDrawMethod\n",
    "from pydantic import BaseModel, Field\n",
    "import os\n",
    "\n",
    "from dotenv import load_dotenv \n",
    "\n",
    "#getting current location\n",
    "import geocoder\n",
    "from google.oauth2.credentials import Credentials\n",
    "from googleapiclient.errors import HttpError\n",
    "\n",
    "\n",
    "\n",
    "load_dotenv()"
   ]
  },
  {
   "cell_type": "code",
   "execution_count": 2,
   "metadata": {},
   "outputs": [],
   "source": [
    "GOOGLE_API_KEY=os.getenv('google_api_key')"
   ]
  },
  {
   "cell_type": "code",
   "execution_count": 3,
   "metadata": {},
   "outputs": [],
   "source": [
    "GEMINI_MODEL='gemini-2.0-flash'\n",
    "llm = ChatGoogleGenerativeAI(google_api_key=GOOGLE_API_KEY, model=GEMINI_MODEL, temperature=0.3)"
   ]
  },
  {
   "cell_type": "code",
   "execution_count": 4,
   "metadata": {},
   "outputs": [],
   "source": [
    "from google.maps import places_v1"
   ]
  },
  {
   "cell_type": "code",
   "execution_count": 5,
   "metadata": {},
   "outputs": [],
   "source": [
    "if os.path.exists(\"token.json\"):\n",
    "    creds = Credentials.from_authorized_user_file(\"token.json\")\n",
    "try:\n",
    "\n",
    "    client = places_v1.PlacesClient(credentials=creds)\n",
    "\n",
    "except HttpError as error:\n",
    "    print(f\"An error occurred: {error}\")"
   ]
  },
  {
   "cell_type": "code",
   "execution_count": 6,
   "metadata": {},
   "outputs": [],
   "source": [
    "GOOGLE_API_KEY=os.getenv('google_api_key')"
   ]
  },
  {
   "cell_type": "code",
   "execution_count": 7,
   "metadata": {},
   "outputs": [],
   "source": [
    "GEMINI_MODEL='gemini-1.5-flash'\n",
    "llm = ChatGoogleGenerativeAI(google_api_key=GOOGLE_API_KEY, model=GEMINI_MODEL, temperature=0.3)"
   ]
  },
  {
   "cell_type": "code",
   "execution_count": null,
   "metadata": {},
   "outputs": [],
   "source": [
    "class State(TypedDict):\n",
    "  \"\"\"\n",
    "  A dictionnary representing the state of the agent.\n",
    "  \"\"\"\n",
    "  query: str\n",
    "\n",
    "  #location data\n",
    "  latitude: str\n",
    "  longitude: str\n",
    "  address: str\n",
    "  route: str\n",
    "  #results from place search\n",
    "  places: dict"
   ]
  },
  {
   "cell_type": "code",
   "execution_count": 20,
   "metadata": {},
   "outputs": [],
   "source": [
    "def router_node(state=State):\n",
    "    route=state.get('route')\n",
    "    if route=='look_for_places':\n",
    "        return 'to_look_for_places' \n",
    "    elif route=='current_loc':\n",
    "        return 'to_current_loc'"
   ]
  },
  {
   "cell_type": "code",
   "execution_count": 10,
   "metadata": {},
   "outputs": [],
   "source": [
    "# class Form(BaseModel):\n",
    "#     route: str = Field(description= 'return current_loc or look_for_places')\n",
    "# parser=JsonOutputParser(pydantic_object=Form)\n",
    "# instruction=parser.get_format_instructions()\n",
    "# response=llm.invoke(f'based on this query: look for cool bars in nyc, return current_loc or look_for_places'+'\\n\\n'+instruction)\n",
    "# response=parser.parse(response.content)"
   ]
  },
  {
   "cell_type": "code",
   "execution_count": 11,
   "metadata": {},
   "outputs": [],
   "source": [
    "# response"
   ]
  },
  {
   "cell_type": "code",
   "execution_count": 12,
   "metadata": {},
   "outputs": [],
   "source": [
    "\n",
    "def get_current_location_node(state: State):\n",
    "    \"\"\"\n",
    "    Tool to get the current location of the user.\n",
    "    agrs: none\n",
    "    \"\"\"\n",
    "    current_location = geocoder.ip(\"me\")\n",
    "    if current_location.latlng:\n",
    "        latitude, longitude = current_location.latlng\n",
    "        address = current_location.address\n",
    "        return {\n",
    "            'latitude':latitude,\n",
    "            'longitude':longitude,\n",
    "            'address':address}\n",
    "    else:\n",
    "        return 'failed'"
   ]
  },
  {
   "cell_type": "code",
   "execution_count": 13,
   "metadata": {},
   "outputs": [],
   "source": [
    "\n",
    "def look_for_places_node(state: State):\n",
    "    \"\"\"\n",
    "    Tool to look for places based on the user query and location.\n",
    "    Use this tool for more complex user queries like sentences, and if the location is specified in the query.\n",
    "    Places includes restaurants, bars, speakeasy, games, anything.\n",
    "    args: query - the query.\n",
    "    Alaways include the links in the response\n",
    "    \"\"\"\n",
    "    try:\n",
    "        request=places_v1.SearchTextRequest(text_query=state['query'])\n",
    "        response=client.search_text(request=request,metadata=[(\"x-goog-fieldmask\", \"places.displayName,places.formattedAddress,places.priceLevel,places.googleMapsUri\")]) \n",
    "        places={}\n",
    "        for i in response.places:\n",
    "            address=i.formatted_address\n",
    "            name=i.display_name.text\n",
    "            price_level=i.price_level\n",
    "            url=i.google_maps_uri\n",
    "            places[name]={'address':address,\n",
    "                        'price_level':price_level,\n",
    "                        'google_maps_url':url}\n",
    "                \n",
    "        return {'places':places}\n",
    "                               \n",
    "    except: \n",
    "        return \"failed\""
   ]
  },
  {
   "cell_type": "code",
   "execution_count": 14,
   "metadata": {},
   "outputs": [],
   "source": [
    "@tool\n",
    "def show_places_found(state: Annotated[dict, InjectedState],tool_call_id: Annotated[str, InjectedToolCallId]):\n",
    "    \"\"\"\n",
    "    Tool to get the places found and to show/display them.\n",
    "    It has links within that can also be used for directions\n",
    "    args: none\n",
    "    \"\"\"\n",
    "    try:\n",
    "        return Command(update={'messages': [ToolMessage(state['places'],tool_call_id=tool_call_id)]})\n",
    "    except:\n",
    "        return Command(update={ 'messages':[ToolMessage(f'No places to show', tool_call_id=tool_call_id)]})"
   ]
  },
  {
   "cell_type": "code",
   "execution_count": null,
   "metadata": {},
   "outputs": [],
   "source": [
    "class maps_agent:\n",
    "    def __init__(self,llm: any):\n",
    "        self.agent=self._setup(llm)\n",
    "        \n",
    "\n",
    "    def _setup(self,llm):\n",
    "        # langgraph_tools=[get_current_location_tool,look_for_places, show_places_found]\n",
    "        def agent_node(state:State):\n",
    "            class Form(BaseModel):\n",
    "                route: str = Field(description= 'return current_loc or look_for_places')\n",
    "            parser=JsonOutputParser(pydantic_object=Form)\n",
    "            instruction=parser.get_format_instructions()\n",
    "            response=llm.invoke([HumanMessage(content=f'based on this query:{state['query']}, return current_loc or look_for_places'+'\\n\\n'+instruction)])\n",
    "            response=parser.parse(response.content)\n",
    "            response=response.get('route')\n",
    "            return {'route':response}\n",
    "\n",
    "        graph_builder = StateGraph(State)\n",
    "        \n",
    "        # Modification: tell the LLM which tools it can call\n",
    "        # llm_with_tools = llm.bind_tools(langgraph_tools)\n",
    "        # tool_node = ToolNode(tools=langgraph_tools)\n",
    "        # def chatbot(state: State):\n",
    "        #     \"\"\" maps assistant that answers user questions about locations or maps.\n",
    "        #     Depending on the request, leverage which tools to use if necessary.\"\"\"\n",
    "        #     return {\"messages\": [llm_with_tools.invoke(state['messages'])]}\n",
    "\n",
    "        # graph_builder.add_node(\"chatbot\", chatbot)\n",
    "\n",
    " \n",
    "        # graph_builder.add_node(\"tools\", tool_node)\n",
    "        # # Any time a tool is called, we return to the chatbot to decide the next step\n",
    "        # graph_builder.set_entry_point(\"chatbot\")\n",
    "\n",
    "        # graph_builder.add_edge(\"tools\", \"chatbot\")\n",
    "        # graph_builder.add_conditional_edges(\n",
    "        #     \"chatbot\",\n",
    "        #     tools_condition,\n",
    "        # )\n",
    "\n",
    "        graph_builder.add_node('current_loc', get_current_location_node)\n",
    "        graph_builder.add_node('look_for_places',look_for_places_node)\n",
    "        \n",
    "        graph_builder.add_node('agent',agent_node)\n",
    "        graph_builder.add_edge(START,'agent')\n",
    "        graph_builder.add_conditional_edges('agent',router_node,{'to_current_loc':'current_loc', 'to_look_for_places':'look_for_places'})\n",
    "        graph_builder.add_edge('current_loc',END)\n",
    "        graph_builder.add_edge('look_for_places',END)\n",
    "        memory=MemorySaver()\n",
    "        graph=graph_builder.compile(checkpointer=memory)\n",
    "        return graph\n",
    "    \n",
    "    def display_graph(self):\n",
    "        return display(\n",
    "            Image(\n",
    "                    self.agent.get_graph().draw_mermaid_png(\n",
    "                        draw_method=MermaidDrawMethod.API,\n",
    "                    )\n",
    "                )\n",
    "            )\n",
    "    def get_state(self, state_val:str):\n",
    "        config = {\"configurable\": {\"thread_id\": \"1\"}}\n",
    "        return self.agent.get_state(config).values[state_val]\n",
    "    \n",
    "    # def stream(self,input:str):\n",
    "    #     config = {\"configurable\": {\"thread_id\": \"1\"}}\n",
    "    #     input_message = HumanMessage(content=input)\n",
    "    #     for event in self.agent.stream({\"messages\": [input_message]}, config, stream_mode=\"values\"):\n",
    "    #         event[\"messages\"][-1].pretty_print()\n",
    "\n",
    "    # def chat(self,input:str):\n",
    "    #     config = {\"configurable\": {\"thread_id\": \"1\"}}\n",
    "    #     response=self.agent.invoke({'messages':HumanMessage(content=str(input))},config)\n",
    "    #     return response['messages'][-1].content\n",
    "    def chat(self,input:str):\n",
    "        config = {\"configurable\": {\"thread_id\": \"1\"}}\n",
    "        response=self.agent.invoke({'query':input},config)\n",
    "        return response\n",
    "\n",
    "    def stream(self,input:str):\n",
    "        config = {\"configurable\": {\"thread_id\": \"1\"}}\n",
    "        for event in self.agent.stream({'query':input}, config, stream_mode=\"updates\"):\n",
    "            print(event)\n",
    "    \n",
    "    "
   ]
  },
  {
   "cell_type": "code",
   "execution_count": 24,
   "metadata": {},
   "outputs": [],
   "source": [
    "test=maps_agent(llm)"
   ]
  },
  {
   "cell_type": "code",
   "execution_count": 25,
   "metadata": {},
   "outputs": [
    {
     "data": {
      "image/png": "[encoded data removed]",
      "text/plain": [
       "<IPython.core.display.Image object>"
      ]
     },
     "metadata": {},
     "output_type": "display_data"
    }
   ],
   "source": [
    "test.display_graph()"
   ]
  },
  {
   "cell_type": "code",
   "execution_count": 27,
   "metadata": {},
   "outputs": [
    {
     "data": {
      "text/plain": [
       "{'query': 'look for cool bars in manhattan',\n",
       " 'places': {'The Dead Rabbit, New York City': {'address': '30 Water St, New York, NY 10004, USA',\n",
       "   'price_level': <PriceLevel.PRICE_LEVEL_MODERATE: 3>,\n",
       "   'google_maps_url': 'https://maps.google.com/?cid=16891641895788260568'},\n",
       "  'Old Town Bar': {'address': '45 E 18th St, New York, NY 10003, USA',\n",
       "   'price_level': <PriceLevel.PRICE_LEVEL_MODERATE: 3>,\n",
       "   'google_maps_url': 'https://maps.google.com/?cid=5187821856869086756'},\n",
       "  'NOTHING REALLY MATTERS': {'address': 'IN THE SUBWAY, 210 W 50th St, New York, NY 10019, USA',\n",
       "   'price_level': <PriceLevel.PRICE_LEVEL_MODERATE: 3>,\n",
       "   'google_maps_url': 'https://maps.google.com/?cid=15897906807650872440'},\n",
       "  'Dear Irving on Hudson Rooftop Bar': {'address': '310 W 40th St, New York, NY 10018, USA',\n",
       "   'price_level': <PriceLevel.PRICE_LEVEL_EXPENSIVE: 4>,\n",
       "   'google_maps_url': 'https://maps.google.com/?cid=16303086797466163471'},\n",
       "  'The Dickens': {'address': '783 8th Ave, New York, NY 10036, USA',\n",
       "   'price_level': <PriceLevel.PRICE_LEVEL_UNSPECIFIED: 0>,\n",
       "   'google_maps_url': 'https://maps.google.com/?cid=5172420886863020591'},\n",
       "  'Jungle Bird': {'address': '174 8th Ave, New York, NY 10011, USA',\n",
       "   'price_level': <PriceLevel.PRICE_LEVEL_MODERATE: 3>,\n",
       "   'google_maps_url': 'https://maps.google.com/?cid=9957527372034215284'},\n",
       "  \"Jimmy's Corner\": {'address': '140 W 44th St, New York, NY 10036, USA',\n",
       "   'price_level': <PriceLevel.PRICE_LEVEL_INEXPENSIVE: 2>,\n",
       "   'google_maps_url': 'https://maps.google.com/?cid=8661480433789041827'},\n",
       "  'Pocket Bar NYC': {'address': '455 W 48th St, New York, NY 10036, USA',\n",
       "   'price_level': <PriceLevel.PRICE_LEVEL_MODERATE: 3>,\n",
       "   'google_maps_url': 'https://maps.google.com/?cid=14348397903663156162'},\n",
       "  \"Tanner Smith's\": {'address': '204 W 55th St, New York, NY 10019, USA',\n",
       "   'price_level': <PriceLevel.PRICE_LEVEL_MODERATE: 3>,\n",
       "   'google_maps_url': 'https://maps.google.com/?cid=53087419868267021'},\n",
       "  \"Please Don't Tell\": {'address': '113 St Marks Pl, New York, NY 10009, USA',\n",
       "   'price_level': <PriceLevel.PRICE_LEVEL_EXPENSIVE: 4>,\n",
       "   'google_maps_url': 'https://maps.google.com/?cid=11319416621133992007'},\n",
       "  'The Campbell': {'address': '15 Vanderbilt Ave, New York, NY 10017, USA',\n",
       "   'price_level': <PriceLevel.PRICE_LEVEL_VERY_EXPENSIVE: 5>,\n",
       "   'google_maps_url': 'https://maps.google.com/?cid=13352728238302049856'},\n",
       "  'Overstory': {'address': '70 Pine St 64th Floor, New York, NY 10005, USA',\n",
       "   'price_level': <PriceLevel.PRICE_LEVEL_UNSPECIFIED: 0>,\n",
       "   'google_maps_url': 'https://maps.google.com/?cid=15722315841411256608'},\n",
       "  'Mace': {'address': '35 W 8th St, New York, NY 10011, USA',\n",
       "   'price_level': <PriceLevel.PRICE_LEVEL_MODERATE: 3>,\n",
       "   'google_maps_url': 'https://maps.google.com/?cid=13112760323815885056'},\n",
       "  'Pebble Bar': {'address': '67 W 49th St, New York, NY 10112, USA',\n",
       "   'price_level': <PriceLevel.PRICE_LEVEL_UNSPECIFIED: 0>,\n",
       "   'google_maps_url': 'https://maps.google.com/?cid=15408825815375135216'},\n",
       "  'Juke Bar': {'address': '196 2nd Ave, New York, NY 10003, USA',\n",
       "   'price_level': <PriceLevel.PRICE_LEVEL_MODERATE: 3>,\n",
       "   'google_maps_url': 'https://maps.google.com/?cid=8857118640592202663'},\n",
       "  'As Is NYC': {'address': '734 10th Ave, New York, NY 10019, USA',\n",
       "   'price_level': <PriceLevel.PRICE_LEVEL_MODERATE: 3>,\n",
       "   'google_maps_url': 'https://maps.google.com/?cid=2478188886918883996'},\n",
       "  'Holiday Cocktail Lounge': {'address': '75 St Marks Pl, New York, NY 10003, USA',\n",
       "   'price_level': <PriceLevel.PRICE_LEVEL_MODERATE: 3>,\n",
       "   'google_maps_url': 'https://maps.google.com/?cid=1187009220976535241'},\n",
       "  'The Rum House': {'address': '228 W 47th St, New York, NY 10036, USA',\n",
       "   'price_level': <PriceLevel.PRICE_LEVEL_MODERATE: 3>,\n",
       "   'google_maps_url': 'https://maps.google.com/?cid=12067992972290359625'},\n",
       "  'Death & Co East Village': {'address': '433 E 6th St, New York, NY 10009, USA',\n",
       "   'price_level': <PriceLevel.PRICE_LEVEL_EXPENSIVE: 4>,\n",
       "   'google_maps_url': 'https://maps.google.com/?cid=17498302793866458947'},\n",
       "  'Katana Kitten': {'address': '531 Hudson St, New York, NY 10014, USA',\n",
       "   'price_level': <PriceLevel.PRICE_LEVEL_MODERATE: 3>,\n",
       "   'google_maps_url': 'https://maps.google.com/?cid=1155330259879136181'}}}"
      ]
     },
     "execution_count": 27,
     "metadata": {},
     "output_type": "execute_result"
    }
   ],
   "source": [
    "test.chat('look for cool bars in manhattan')"
   ]
  },
  {
   "cell_type": "code",
   "execution_count": null,
   "metadata": {},
   "outputs": [
    {
     "data": {
      "text/plain": [
       "[HumanMessage(content='find some vegetarian restaurants in chelsea', additional_kwargs={}, response_metadata={}, id='70a6ce64-b937-492e-af40-70b783888473'),\n",
       " AIMessage(content='', additional_kwargs={'function_call': {'name': 'show_places_found', 'arguments': '{}'}}, response_metadata={'prompt_feedback': {'block_reason': 0, 'safety_ratings': []}, 'finish_reason': 'STOP', 'safety_ratings': []}, id='run-442e7b94-c993-4707-a5b6-7864d795377d-0', tool_calls=[{'name': 'look_for_places', 'args': {'query': 'vegetarian restaurants in chelsea'}, 'id': 'dcd4ab01-1344-4e1a-8677-85222a1649ce', 'type': 'tool_call'}, {'name': 'show_places_found', 'args': {}, 'id': '47433cf8-8413-4d00-86e5-cfda2c82b7fe', 'type': 'tool_call'}], usage_metadata={'input_tokens': 136, 'output_tokens': 15, 'total_tokens': 151, 'input_token_details': {'cache_read': 0}}),\n",
       " ToolMessage(content='I found 20 places', name='look_for_places', id='0871a246-ddd2-45b9-aca5-6e416d04f767', tool_call_id='dcd4ab01-1344-4e1a-8677-85222a1649ce'),\n",
       " ToolMessage(content='null', name='show_places_found', id='80a35cf8-79d8-4448-ab2c-29c8e14d49ec', tool_call_id='47433cf8-8413-4d00-86e5-cfda2c82b7fe'),\n",
       " AIMessage(content=\"I found 20 vegetarian restaurants in Chelsea.  I don't have enough information to show them to you.\", additional_kwargs={}, response_metadata={'prompt_feedback': {'block_reason': 0, 'safety_ratings': []}, 'finish_reason': 'STOP', 'safety_ratings': []}, id='run-fd76f185-8b89-4a71-80b6-6a1fd933b7dc-0', usage_metadata={'input_tokens': 169, 'output_tokens': 25, 'total_tokens': 194, 'input_token_details': {'cache_read': 0}})]"
      ]
     },
     "execution_count": 16,
     "metadata": {},
     "output_type": "execute_result"
    }
   ],
   "source": [
    "test.get_state('messages')"
   ]
  }
 ],
 "metadata": {
  "kernelspec": {
   "display_name": ".venv",
   "language": "python",
   "name": "python3"
  },
  "language_info": {
   "codemirror_mode": {
    "name": "ipython",
    "version": 3
   },
   "file_extension": ".py",
   "mimetype": "text/x-python",
   "name": "python",
   "nbconvert_exporter": "python",
   "pygments_lexer": "ipython3",
   "version": "3.13.2"
  }
 },
 "nbformat": 4,
 "nbformat_minor": 2
}
