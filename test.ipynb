{
 "cells": [
  {
   "cell_type": "code",
   "execution_count": 1,
   "metadata": {},
   "outputs": [],
   "source": [
    "\n",
    "from dotenv import load_dotenv\n",
    "import os\n",
    "from langchain_google_genai import ChatGoogleGenerativeAI\n",
    "from langchain_openai import ChatOpenAI\n",
    "from pydantic_ai.models.google import GoogleModel\n",
    "from pydantic_ai.providers.google import GoogleProvider\n",
    "load_dotenv()\n",
    "import logfire\n",
    "from pydantic_ai import Agent, format_as_xml\n",
    "from pydantic_ai.ext.langchain import tool_from_langchain\n",
    "import nest_asyncio\n",
    "nest_asyncio.apply()\n",
    "google_api_key=os.getenv('google_api_key')\n",
    "pse=os.getenv('pse')\n",
    "openai_api_key=os.getenv('openai_api_key')\n",
    "composio_api_key=os.getenv('composio_api_key')\n"
   ]
  },
  {
   "cell_type": "code",
   "execution_count": 2,
   "metadata": {},
   "outputs": [],
   "source": [
    "logfire_token=os.getenv('logfire_token')"
   ]
  },
  {
   "cell_type": "code",
   "execution_count": 3,
   "metadata": {},
   "outputs": [],
   "source": [
    "import logfire\n",
    "logfire.configure(token=logfire_token)\n",
    "logfire.instrument_pydantic_ai()\n"
   ]
  },
  {
   "cell_type": "code",
   "execution_count": 4,
   "metadata": {},
   "outputs": [],
   "source": [
    "api_keys={\n",
    "    'google_api_key':google_api_key,\n",
    "    'pse':pse,\n",
    "    'openai_api_key':openai_api_key,\n",
    "    'composio_key':composio_api_key\n",
    "}\n"
   ]
  },
  {
   "cell_type": "code",
   "execution_count": 5,
   "metadata": {},
   "outputs": [
    {
     "data": {
      "text/html": [
       "<pre style=\"white-space:pre;overflow-x:auto;line-height:normal;font-family:Menlo,'DejaVu Sans Mono',consolas,'Courier New',monospace\"><span style=\"font-weight: bold\">Logfire</span> project URL: <a href=\"https://logfire-us.pydantic.dev/padioutristan/google-agent\" target=\"_blank\"><span style=\"color: #008080; text-decoration-color: #008080; text-decoration: underline\">https://logfire-us.pydantic.dev/padioutristan/google-agent</span></a>\n",
       "</pre>\n"
      ],
      "text/plain": [
       "\u001b[1mLogfire\u001b[0m project URL: \u001b]8;id=899778;https://logfire-us.pydantic.dev/padioutristan/google-agent\u001b\\\u001b[4;36mhttps://logfire-us.pydantic.dev/padioutristan/google-agent\u001b[0m\u001b]8;;\u001b\\\n"
      ]
     },
     "metadata": {},
     "output_type": "display_data"
    }
   ],
   "source": [
    "llms={'pydantic_llm':GoogleModel('gemini-2.5-flash-preview-05-20', provider=GoogleProvider(api_key=api_keys['google_api_key'])),\n",
    "              'langchain_llm':ChatGoogleGenerativeAI(google_api_key=api_keys['google_api_key'], model='gemini-2.0-flash', temperature=0.3),\n",
    "              'openai_llm':ChatOpenAI(model='gpt-4.1-nano',api_key=api_keys['openai_api_key'])}"
   ]
  },
  {
   "cell_type": "code",
   "execution_count": 6,
   "metadata": {},
   "outputs": [
    {
     "ename": "ImportError",
     "evalue": "cannot import name 'ComposioToolSet' from 'composio_google' (c:\\Users\\trist\\OneDrive\\Desktop\\important\\ai_portfolio\\Google_AI_Agent\\.venv\\Lib\\site-packages\\composio_google\\__init__.py)",
     "output_type": "error",
     "traceback": [
      "\u001b[31m---------------------------------------------------------------------------\u001b[39m",
      "\u001b[31mImportError\u001b[39m                               Traceback (most recent call last)",
      "\u001b[36mCell\u001b[39m\u001b[36m \u001b[39m\u001b[32mIn[6]\u001b[39m\u001b[32m, line 2\u001b[39m\n\u001b[32m      1\u001b[39m \u001b[38;5;28;01mfrom\u001b[39;00m\u001b[38;5;250m \u001b[39m\u001b[34;01mgoogle_agent\u001b[39;00m\u001b[38;5;250m \u001b[39m\u001b[38;5;28;01mimport\u001b[39;00m Google_agent\n\u001b[32m----> \u001b[39m\u001b[32m2\u001b[39m \u001b[38;5;28;01mfrom\u001b[39;00m\u001b[38;5;250m \u001b[39m\u001b[34;01mcomposio_google\u001b[39;00m\u001b[38;5;250m \u001b[39m\u001b[38;5;28;01mimport\u001b[39;00m ComposioToolSet, App\n",
      "\u001b[31mImportError\u001b[39m: cannot import name 'ComposioToolSet' from 'composio_google' (c:\\Users\\trist\\OneDrive\\Desktop\\important\\ai_portfolio\\Google_AI_Agent\\.venv\\Lib\\site-packages\\composio_google\\__init__.py)"
     ]
    }
   ],
   "source": [
    "from google_agent import Google_agent\n",
    "from composio_google import ComposioToolSet, App"
   ]
  },
  {
   "cell_type": "code",
   "execution_count": 24,
   "metadata": {},
   "outputs": [],
   "source": [
    "toolset=ComposioToolSet(api_key=api_keys['composio_key'])\n"
   ]
  },
  {
   "cell_type": "code",
   "execution_count": 26,
   "metadata": {},
   "outputs": [
    {
     "name": "stderr",
     "output_type": "stream",
     "text": [
      "c:\\Users\\trist\\OneDrive\\Desktop\\important\\ai_portfolio\\Google_AI_Agent\\.venv\\Lib\\site-packages\\composio\\client\\collections.py:1183: UserWarning: Using all actions of an app is not recommended for production.Learn more: https://docs.composio.dev/patterns/tools/use-tools/use-specific-actions\n",
      "\n",
      "\n",
      "  warnings.warn(\n"
     ]
    },
    {
     "name": "stdout",
     "output_type": "stream",
     "text": [
      "[StructuredTool(name='GMAIL_DELETE_DRAFT', description='Permanently deletes a specific gmail draft using its id; ensure the draft exists and the user has necessary permissions for the given `user id`.', args_schema=<class 'composio.utils.shared.DeleteDraftRequest'>, handle_tool_error=True, handle_validation_error=True, func=<function ComposioToolSet._wrap_action.<locals>.function at 0x000001509DFC0180>), StructuredTool(name='GMAIL_DELETE_MESSAGE', description=\"Permanently deletes a specific email message by its id from a gmail mailbox; for `user id`, use 'me' for the authenticated user or an email address to which the authenticated user has delegated access.\", args_schema=<class 'composio.utils.shared.DeleteMessageRequest'>, handle_tool_error=True, handle_validation_error=True, func=<function ComposioToolSet._wrap_action.<locals>.function at 0x000001509DFC0360>), StructuredTool(name='GMAIL_FETCH_EMAILS', description='Fetches a list of email messages from a gmail account, supporting filtering, pagination, and optional full content retrieval.', args_schema=<class 'composio.utils.shared.FetchEmailsRequest'>, handle_tool_error=True, handle_validation_error=True, func=<function ComposioToolSet._wrap_action.<locals>.function at 0x000001509DFC07C0>), StructuredTool(name='GMAIL_GET_CONTACTS', description='Fetches contacts (connections) for the authenticated google account, allowing selection of specific data fields and pagination.', args_schema=<class 'composio.utils.shared.GetContactsRequest'>, handle_tool_error=True, handle_validation_error=True, func=<function ComposioToolSet._wrap_action.<locals>.function at 0x000001509DFC0900>), StructuredTool(name='GMAIL_LIST_DRAFTS', description=\"Retrieves a paginated list of email drafts from a user's gmail account.\", args_schema=<class 'composio.utils.shared.ListDraftsRequest'>, handle_tool_error=True, handle_validation_error=True, func=<function ComposioToolSet._wrap_action.<locals>.function at 0x000001509DFC0A40>), StructuredTool(name='GMAIL_MOVE_TO_TRASH', description='Moves an existing, non-deleted email message to the trash for the specified user.', args_schema=<class 'composio.utils.shared.MoveToTrashRequest'>, handle_tool_error=True, handle_validation_error=True, func=<function ComposioToolSet._wrap_action.<locals>.function at 0x000001509DFC0CC0>), StructuredTool(name='GMAIL_PATCH_LABEL', description='Patches the specified label.', args_schema=<class 'composio.utils.shared.PatchLabelRequest'>, handle_tool_error=True, handle_validation_error=True, func=<function ComposioToolSet._wrap_action.<locals>.function at 0x000001509DFC0C20>), StructuredTool(name='GMAIL_REPLY_TO_THREAD', description=\"Sends a reply within a specific gmail thread using the original thread's subject, requiring a valid `thread id` and correctly formatted email addresses.\", args_schema=<class 'composio.utils.shared.ReplyToThreadRequest'>, handle_tool_error=True, handle_validation_error=True, func=<function ComposioToolSet._wrap_action.<locals>.function at 0x000001509DFC0F40>), StructuredTool(name='GMAIL_SEARCH_PEOPLE', description=\"Searches contacts by matching the query against names, nicknames, emails, phone numbers, and organizations, optionally including 'other contacts'.\", args_schema=<class 'composio.utils.shared.SearchPeopleRequest'>, handle_tool_error=True, handle_validation_error=True, func=<function ComposioToolSet._wrap_action.<locals>.function at 0x000001509DFC0D60>), StructuredTool(name='GMAIL_SEND_DRAFT', description='Sends the specified, existing draft to the recipients in the to, cc, and bcc headers.', args_schema=<class 'composio.utils.shared.SendDraftRequest'>, handle_tool_error=True, handle_validation_error=True, func=<function ComposioToolSet._wrap_action.<locals>.function at 0x000001509DFC0FE0>), StructuredTool(name='GMAIL_SEND_EMAIL', description=\"Sends an email via gmail api using the authenticated user's google profile display name, requiring `is html=true` if the body contains html and valid `s3key`, `mimetype`, `name` for any attachment.\", args_schema=<class 'composio.utils.shared.SendEmailRequest'>, handle_tool_error=True, handle_validation_error=True, func=<function ComposioToolSet._wrap_action.<locals>.function at 0x000001509DFC1080>)]\n"
     ]
    }
   ],
   "source": [
    "tools=toolset.get_tools(apps=['gmail'])\n",
    "print(tools)"
   ]
  },
  {
   "cell_type": "code",
   "execution_count": 28,
   "metadata": {},
   "outputs": [
    {
     "name": "stderr",
     "output_type": "stream",
     "text": [
      "c:\\Users\\trist\\OneDrive\\Desktop\\important\\ai_portfolio\\Google_AI_Agent\\.venv\\Lib\\site-packages\\composio\\client\\collections.py:1183: UserWarning: Using all actions of an app is not recommended for production.Learn more: https://docs.composio.dev/patterns/tools/use-tools/use-specific-actions\n",
      "\n",
      "\n",
      "  warnings.warn(\n"
     ]
    }
   ],
   "source": [
    "tools=[]\n",
    "for tool in toolset.get_tools(apps=['gmail']):\n",
    "    tools.append(tool_from_langchain(tool))"
   ]
  },
  {
   "cell_type": "code",
   "execution_count": 29,
   "metadata": {},
   "outputs": [],
   "source": [
    "agent=Agent(llms['pydantic_llm'],tools=tools, instructions='you are a helpful assistant')"
   ]
  },
  {
   "cell_type": "code",
   "execution_count": 33,
   "metadata": {},
   "outputs": [
    {
     "name": "stdout",
     "output_type": "stream",
     "text": [
      "16:23:55.286 agent run\n",
      "16:23:55.289   chat gemini-2.5-flash-preview-05-20\n",
      "16:23:56.472   running 1 tool\n",
      "16:23:56.473     running tool: GMAIL_FETCH_EMAILS\n",
      "16:23:56.478   chat gemini-2.5-flash-preview-05-20\n"
     ]
    },
    {
     "name": "stderr",
     "output_type": "stream",
     "text": [
      "c:\\Users\\trist\\OneDrive\\Desktop\\important\\ai_portfolio\\Google_AI_Agent\\.venv\\Lib\\site-packages\\pydantic_ai\\profiles\\google.py:37: UserWarning: `additionalProperties` is not supported by Gemini; it will be removed from the tool JSON schema. Full schema: {'properties': {'color': {'additionalProperties': True, 'default': None, 'description': 'The color to assign to the label. Color is only available for labels that have their `type` set to `user`.', 'examples': [], 'title': 'Color', 'type': 'object'}, 'id': {'description': 'The ID of the label to update. Please provide a value of type string. This parameter is required.', 'examples': ['LABEL_123'], 'title': 'Id', 'type': 'string'}, 'labelListVisibility': {'default': None, 'description': 'The visibility of the label in the label list in the Gmail web interface. Please provide a value of type string.', 'examples': ['labelShow', 'labelShowIfUnread', 'labelHide'], 'title': 'Labellistvisibility', 'type': 'string'}, 'messageListVisibility': {'default': None, 'description': 'The visibility of messages with this label in the message list in the Gmail web interface. Please provide a value of type string.', 'examples': ['show', 'hide'], 'title': 'Messagelistvisibility', 'type': 'string'}, 'name': {'default': None, 'description': 'The display name of the label. Please provide a value of type string.', 'examples': ['My Updated Label'], 'title': 'Name', 'type': 'string'}, 'userId': {'description': \"The user's email address. The special value `me` can be used to indicate the authenticated user. Please provide a value of type string. This parameter is required.\", 'examples': ['me', 'user@example.com'], 'title': 'Userid', 'type': 'string'}}, 'required': ['id', 'userId'], 'title': 'PatchLabelRequest', 'type': 'object', 'additionalProperties': False}\n",
      "\n",
      "Source of additionalProperties within the full schema: {'default': None, 'description': 'The color to assign to the label. Color is only available for labels that have their `type` set to `user`.', 'examples': [], 'title': 'Color', 'type': 'object', 'additionalProperties': True}\n",
      "\n",
      "If this came from a field with a type like `dict[str, MyType]`, that field will always be empty.\n",
      "\n",
      "If Google's APIs are updated to support this properly, please create an issue on the PydanticAI GitHub and we will fix this behavior.\n",
      "  warnings.warn(\n"
     ]
    },
    {
     "data": {
      "text/plain": [
       "AgentRunResult(output='There was an error trying to fetch your emails. The tool returned a \"Tool input validation error\". I will try again, specifying the \\'INBOX\\' label, as sometimes the API requires a label to be specified.')"
      ]
     },
     "execution_count": 33,
     "metadata": {},
     "output_type": "execute_result"
    }
   ],
   "source": [
    "agent.run_sync('fetch the last 5 email from my gmail')"
   ]
  },
  {
   "cell_type": "code",
   "execution_count": 8,
   "metadata": {},
   "outputs": [
    {
     "name": "stderr",
     "output_type": "stream",
     "text": [
      "c:\\Users\\trist\\OneDrive\\Desktop\\important\\ai_portfolio\\Google_AI_Agent\\.venv\\Lib\\site-packages\\composio\\client\\collections.py:1183: UserWarning: Using all actions of an app is not recommended for production.Learn more: https://docs.composio.dev/patterns/tools/use-tools/use-specific-actions\n",
      "\n",
      "Give Feedback / Get Help:\n",
      "    On GitHub: https://github.com/ComposioHQ/composio/issues/new\n",
      "    On Discord: https://dub.composio.dev/discord\n",
      "    On Email: tech@composio.dev\n",
      "    Talk to us on Intercom: https://composio.dev\n",
      "    Book a call with us: https://composio.dev/redirect?url=https://calendly.com/composiohq/support?utm_source=py-sdk-logs&utm_campaign=calendly\n",
      "If you need to debug this error, set `COMPOSIO_LOGGING_LEVEL=debug`.\n",
      "  warnings.warn(\n",
      "c:\\Users\\trist\\OneDrive\\Desktop\\important\\ai_portfolio\\Google_AI_Agent\\.venv\\Lib\\site-packages\\composio\\client\\collections.py:1183: UserWarning: Using all actions of an app is not recommended for production.Learn more: https://docs.composio.dev/patterns/tools/use-tools/use-specific-actions\n",
      "\n",
      "\n",
      "  warnings.warn(\n"
     ]
    }
   ],
   "source": [
    "# google_agent=Google_agent(api_keys)"
   ]
  }
 ],
 "metadata": {
  "kernelspec": {
   "display_name": ".venv",
   "language": "python",
   "name": "python3"
  },
  "language_info": {
   "codemirror_mode": {
    "name": "ipython",
    "version": 3
   },
   "file_extension": ".py",
   "mimetype": "text/x-python",
   "name": "python",
   "nbconvert_exporter": "python",
   "pygments_lexer": "ipython3",
   "version": "3.13.2"
  }
 },
 "nbformat": 4,
 "nbformat_minor": 2
}
